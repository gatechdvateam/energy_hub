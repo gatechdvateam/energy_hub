{
 "cells": [
  {
   "cell_type": "markdown",
   "metadata": {},
   "source": [
    "# Building Data Genome 2.0\n",
    "## Breakout Detection\n",
    "Biam! (pic.biam@gmail.com)"
   ]
  },
  {
   "cell_type": "markdown",
   "metadata": {},
   "source": [
    "# Introduction"
   ]
  },
  {
   "cell_type": "markdown",
   "metadata": {},
   "source": [
    "For breakout detection in the cleaned meters dataset will be used the [Breakout Detection package](https://github.com/twitter/BreakoutDetection) developed by Twitter. A brief introduction about this package can be found [here](https://blog.twitter.com/engineering/en_us/a/2014/breakout-detection-in-the-wild.html). Cleaned meter data (outliers and 24hs zero readings removed) are used for this analysis."
   ]
  },
  {
   "cell_type": "code",
   "execution_count": null,
   "metadata": {},
   "outputs": [],
   "source": [
    "library(BreakoutDetection)\n",
    "library(tidyverse)"
   ]
  },
  {
   "cell_type": "code",
   "execution_count": null,
   "metadata": {},
   "outputs": [],
   "source": [
    "# List of files in directory\n",
    "files = list.files(path=\"..//data//meters//raw//\", pattern=\"*.csv\", full.names=TRUE, recursive=FALSE)\n",
    "files"
   ]
  },
  {
   "cell_type": "code",
   "execution_count": null,
   "metadata": {},
   "outputs": [],
   "source": [
    "# Apply method to all elementes\n",
    "lapply(files, function(x){\n",
    "  \n",
    "  # meter name\n",
    "  meter = str_split(str_split(x, \"//\")[[1]][5], \".csv\")[[1]][1]\n",
    "    \n",
    "  # load data\n",
    "  data = read_csv(x)\n",
    "    \n",
    "  # timestamp as time object\n",
    "  data$timestamp = as.POSIXct(data$timestamp, format=\"%Y-%m-%d %H:%M:%OS\")\n",
    "    \n",
    "  # Adds relative time (in hours) column\n",
    "  data$RelativeTime = seq(0,length(data$timestamp)-1)\n",
    "  \n",
    "  # Creates df only with timestamp an Relative time\n",
    "  df_res = data[,c(1, length(data))]\n",
    "  \n",
    "  # Loop over all columns (except timestamp and Relative time)\n",
    "  for (i in seq(2,length(data)-1)){\n",
    "    # Column name\n",
    "    name = colnames(data)[i]\n",
    "    # Creates df with only timestamp, relative time and selected building readings\n",
    "    df = na.omit(data[, c(1,length(data),i)])\n",
    "    # rename building column to work with package\n",
    "    df = rename(df, count = 3)\n",
    "    # Breakout detection\n",
    "    res = breakout(df, min.size=168, method='multi', beta=.001, degree=1, plot=FALSE)\n",
    "    # Creates dataframe with breakouts (only for merging)\n",
    "    loc = data.frame(\"RelativeTime\" = res$loc, \"breakout\" = res$loc)\n",
    "    # Merge datasets\n",
    "    df_res = merge(df_res, loc, by=\"RelativeTime\", all.x = TRUE)\n",
    "    # Rename column to building name\n",
    "    df_res = rename(df_res, !!name := breakout)\n",
    "    # Drop useless column\n",
    "    df_res$count = NULL\n",
    "    }\n",
    "  \n",
    "    # write file\n",
    "    write_csv(df_res, paste0(\"..//data/meters//screening//breakout//\", meter, \"_breakout.csv\"))\n",
    "})"
   ]
  }
 ],
 "metadata": {
  "kernelspec": {
   "display_name": "R",
   "language": "R",
   "name": "ir"
  },
  "language_info": {
   "codemirror_mode": "r",
   "file_extension": ".r",
   "mimetype": "text/x-r-source",
   "name": "R",
   "pygments_lexer": "r",
   "version": "3.6.1"
  }
 },
 "nbformat": 4,
 "nbformat_minor": 4
}
