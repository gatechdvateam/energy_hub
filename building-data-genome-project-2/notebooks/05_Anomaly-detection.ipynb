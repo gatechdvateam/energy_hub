{
 "cells": [
  {
   "cell_type": "markdown",
   "metadata": {},
   "source": [
    "# Building Data Genome 2.0\n",
    "## Anomaly Detection\n",
    "Biam! (pic.biam@gmail.com)"
   ]
  },
  {
   "cell_type": "markdown",
   "metadata": {},
   "source": [
    "# Introduction"
   ]
  },
  {
   "cell_type": "markdown",
   "metadata": {},
   "source": [
    "For outliers detection in the raw meters dataset will be used the [Seasonal Hybrid ESD (S-H-ESD)](https://github.com/twitter/AnomalyDetection) developed by Twitter. A brief introduction about this package can be found [here](https://blog.twitter.com/engineering/en_us/a/2015/introducing-practical-and-robust-anomaly-detection-in-a-time-series.html)."
   ]
  },
  {
   "cell_type": "code",
   "execution_count": null,
   "metadata": {},
   "outputs": [],
   "source": [
    "library(AnomalyDetection)\n",
    "library(tidyverse)"
   ]
  },
  {
   "cell_type": "code",
   "execution_count": null,
   "metadata": {},
   "outputs": [],
   "source": [
    "# List of files in directory\n",
    "files = list.files(path=\"..//data//meters//processed//\", pattern=\"*_units.csv\", full.names=TRUE, recursive=FALSE)\n",
    "files"
   ]
  },
  {
   "cell_type": "code",
   "execution_count": null,
   "metadata": {},
   "outputs": [],
   "source": [
    "# Apply method to all elementes\n",
    "lapply(files, function(x){\n",
    "  \n",
    "  # meter name\n",
    "  meter = str_split(str_split(x, \"//\")[[1]][6], \".csv\")[[1]][1]\n",
    "  \n",
    "  # load data\n",
    "  data = read_csv(x)\n",
    "  \n",
    "  # timestamp as time object\n",
    "  data$timestamp = as.POSIXct(data$timestamp)\n",
    "  \n",
    "  # Creates df only with timestamp\n",
    "  anoms = data[,1]\n",
    "  \n",
    "  # Loop over all columns (except timestamp)\n",
    "  for (i in seq(2,ncol(data))){\n",
    "    # Column name\n",
    "    name = colnames(data)[i]\n",
    "    # Creates df with only timestamp and selected building readings\n",
    "    df = na.omit(data[, c(1,i)])\n",
    "    # If all values are nan (and number of rows equal zero), skip\n",
    "    if(nrow(df)==0) next\n",
    "    # Applies S-H-ESD test\n",
    "    res = ad_ts(df, max_anoms=0.02, direction='both')\n",
    "    # If there are no anomalies (and number of rows equal zero), skip\n",
    "    if(nrow(res)==0) next\n",
    "    # Rename column\n",
    "    names(res)[2] = name\n",
    "    # Adds results to anoms df\n",
    "    anoms = merge(anoms, res, by.x=\"timestamp\", by.y=\"timestamp\", all.x = TRUE)\n",
    "  }\n",
    "  \n",
    "  # write file\n",
    "  write_csv(anoms, paste0(\"..//data//meters//screening//anomalies//\", meter, \"_anoms.csv\"))\n",
    "  })"
   ]
  }
 ],
 "metadata": {
  "kernelspec": {
   "display_name": "R",
   "language": "R",
   "name": "ir"
  },
  "language_info": {
   "codemirror_mode": "r",
   "file_extension": ".r",
   "mimetype": "text/x-r-source",
   "name": "R",
   "pygments_lexer": "r",
   "version": "3.6.1"
  }
 },
 "nbformat": 4,
 "nbformat_minor": 4
}
