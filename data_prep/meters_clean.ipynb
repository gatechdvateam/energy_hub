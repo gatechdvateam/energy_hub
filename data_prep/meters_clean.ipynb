{
   "cells": [
      {
         "cell_type": "code",
         "execution_count": 1,
         "metadata": {},
         "outputs": [],
         "source": [
            "import sys\n",
            "sys.path.append(\"..\")\n",
            "from webapp.utils.azure_utils import KeyVault, DataLake\n",
            "from webapp.utils.data_pre_utils import df_val_map\n",
            "import numpy as np\n",
            "import pandas as pd\n",
            "import fastparquet\n",
            "import os"
         ]
      },
      {
         "cell_type": "code",
         "execution_count": 2,
         "metadata": {},
         "outputs": [],
         "source": [
            "# Connect to Storage Account\n",
            "vault = KeyVault(keyVaultName = \"keyvaultdva2022\")\n",
            "storage_credential = vault.get_secret(secretName = \"storagePrimaryKey\")\n",
            "storage = DataLake(account_name = \"storageaccountdva\", credential = storage_credential)"
         ]
      },
      {
         "cell_type": "code",
         "execution_count": 3,
         "metadata": {},
         "outputs": [],
         "source": [
            "file_system = \"energyhub\"\n",
            "directory_raw = \"/data_original/meters/cleaned\"\n",
            "directory_clean = \"/data_parq/meters\""
         ]
      },
      {
         "cell_type": "code",
         "execution_count": 4,
         "metadata": {},
         "outputs": [],
         "source": [
            "paths = storage.list_directory_contents(file_system, directory_raw)\n",
            "file_names = []\n",
            "for file in paths:\n",
            "    file_names.append(file.split(\"/\")[3])"
         ]
      },
      {
         "cell_type": "code",
         "execution_count": 5,
         "metadata": {},
         "outputs": [
            {
               "data": {
                  "text/plain": [
                     "['chilledwater_cleaned.csv',\n",
                     " 'electricity_cleaned.csv',\n",
                     " 'gas_cleaned.csv',\n",
                     " 'hotwater_cleaned.csv',\n",
                     " 'irrigation_cleaned.csv',\n",
                     " 'solar_cleaned.csv',\n",
                     " 'steam_cleaned.csv',\n",
                     " 'water_cleaned.csv']"
                  ]
               },
               "execution_count": 5,
               "metadata": {},
               "output_type": "execute_result"
            }
         ],
         "source": [
            "file_names"
         ]
      },
      {
         "cell_type": "code",
         "execution_count": 6,
         "metadata": {},
         "outputs": [
            {
               "name": "stdout",
               "output_type": "stream",
               "text": [
                  "chilledwater.parq write complete\n",
                  "electricity.parq write complete\n",
                  "gas.parq write complete\n",
                  "hotwater.parq write complete\n",
                  "irrigation.parq write complete\n",
                  "solar.parq write complete\n",
                  "steam.parq write complete\n",
                  "water.parq write complete\n"
               ]
            }
         ],
         "source": [
            "for name in file_names:\n",
            "\n",
            "    new_name = name.split(\"_\")[0]+\".parq\"\n",
            "    col_name = name.split(\"_\")[0]\n",
            "    df = storage.pandas_read(file_system, directory_raw, file_name=name)\n",
            "    df[\"timestamp\"] = pd.to_datetime(df[\"timestamp\"])\n",
            "    df.iloc[:, 1:] = df.iloc[:, 1:].astype(\"float64\")\n",
            "    df_tf = df.melt(id_vars='timestamp', var_name= 'building_id', value_name= col_name)\n",
            "    df_tf = df_tf.astype({'building_id': 'category'})\n",
            "    #df_tf = df_tf.set_index(\"timestamp\")\n",
            "    assert len(df) *(len(df.columns)-1) == len(df_tf)\n",
            "\n",
            "    df_tf.to_parquet(path = new_name, engine = \"pyarrow\", compression = \"gzip\", index = False)\n",
            "    storage.upload(file_system, directory = directory_clean, file_name = new_name, file_path = new_name, overwrite=True)\n",
            "    os.remove(new_name)   "
         ]
      }
   ],
   "metadata": {
      "interpreter": {
         "hash": "a6f32d01d5b22f0f036211ddd2212f9d7a468214a2e2c6ab6e23af4ae0eada46"
      },
      "kernelspec": {
         "display_name": "Python 3.9.0 ('venv': venv)",
         "language": "python",
         "name": "python3"
      },
      "language_info": {
         "codemirror_mode": {
            "name": "ipython",
            "version": 3
         },
         "file_extension": ".py",
         "mimetype": "text/x-python",
         "name": "python",
         "nbconvert_exporter": "python",
         "pygments_lexer": "ipython3",
         "version": "3.8.8"
      },
      "orig_nbformat": 4
   },
   "nbformat": 4,
   "nbformat_minor": 2
}
