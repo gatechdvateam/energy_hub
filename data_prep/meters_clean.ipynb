{
 "cells": [
  {
   "cell_type": "code",
   "execution_count": 29,
   "metadata": {},
   "outputs": [],
   "source": [
    "import sys\n",
    "sys.path.append(\"..\")\n",
    "from utils.azure_utils import KeyVault, DataLake\n",
    "from utils.data_pre_utils import df_val_map\n",
    "import numpy as np\n",
    "import pandas as pd"
   ]
  },
  {
   "cell_type": "code",
   "execution_count": 30,
   "metadata": {},
   "outputs": [],
   "source": [
    "# Connect to Storage Account\n",
    "vault = KeyVault(keyVaultName = \"keyvaultdva2022\")\n",
    "storage_credential = vault.get_secret(secretName = \"storagePrimaryKey\")\n",
    "storage = DataLake(account_name = \"storageaccountdva\", credential = storage_credential)"
   ]
  },
  {
   "cell_type": "code",
   "execution_count": 31,
   "metadata": {},
   "outputs": [],
   "source": [
    "file_system = \"energyhub\"\n",
    "directory_raw = \"/data_original/meters/cleaned\"\n",
    "directory_clean = \"/data/meters\""
   ]
  },
  {
   "cell_type": "code",
   "execution_count": 32,
   "metadata": {},
   "outputs": [],
   "source": [
    "paths = storage.list_directory_contents(file_system, directory_raw, print_paths=False)\n",
    "file_names = []\n",
    "for file in paths:\n",
    "    file_names.append(file.name.split(\"/\")[3])"
   ]
  },
  {
   "cell_type": "code",
   "execution_count": 33,
   "metadata": {},
   "outputs": [
    {
     "data": {
      "text/plain": [
       "['chilledwater_cleaned.csv',\n",
       " 'electricity_cleaned.csv',\n",
       " 'gas_cleaned.csv',\n",
       " 'hotwater_cleaned.csv',\n",
       " 'irrigation_cleaned.csv',\n",
       " 'solar_cleaned.csv',\n",
       " 'steam_cleaned.csv',\n",
       " 'water_cleaned.csv']"
      ]
     },
     "execution_count": 33,
     "metadata": {},
     "output_type": "execute_result"
    }
   ],
   "source": [
    "file_names"
   ]
  },
  {
   "cell_type": "code",
   "execution_count": 34,
   "metadata": {},
   "outputs": [],
   "source": [
    "for name in file_names:\n",
    "    df = storage.read(file_system, directory_raw, file_name=name)\n",
    "    df_tf = df.melt(id_vars='timestamp')\n",
    "    assert len(df) *(len(df.columns)-1) == len(df_tf)\n",
    "    new_name = name.split(\"_\")[0]\n",
    "    storage.write(file_system, directory_clean, file = df_tf, file_name = new_name, extension=\"csv\", overwrite = True)\n",
    "\n",
    "    "
   ]
  }
 ],
 "metadata": {
  "interpreter": {
   "hash": "a6f32d01d5b22f0f036211ddd2212f9d7a468214a2e2c6ab6e23af4ae0eada46"
  },
  "kernelspec": {
   "display_name": "Python 3.9.0 ('venv': venv)",
   "language": "python",
   "name": "python3"
  },
  "language_info": {
   "codemirror_mode": {
    "name": "ipython",
    "version": 3
   },
   "file_extension": ".py",
   "mimetype": "text/x-python",
   "name": "python",
   "nbconvert_exporter": "python",
   "pygments_lexer": "ipython3",
   "version": "3.9.0"
  },
  "orig_nbformat": 4
 },
 "nbformat": 4,
 "nbformat_minor": 2
}
