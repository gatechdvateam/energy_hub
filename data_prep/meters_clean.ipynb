{
   "cells": [
      {
         "cell_type": "code",
         "execution_count": 1,
         "metadata": {},
         "outputs": [],
         "source": [
            "import sys\n",
            "sys.path.append(\"..\")\n",
            "from webapp.utils.azure_utils import KeyVault, DataLake\n",
            "from webapp.utils.data_pre_utils import df_val_map\n",
            "import numpy as np\n",
            "import pandas as pd"
         ]
      },
      {
         "cell_type": "code",
         "execution_count": 2,
         "metadata": {},
         "outputs": [],
         "source": [
            "# Connect to Storage Account\n",
            "vault = KeyVault(keyVaultName = \"keyvaultdva2022\")\n",
            "storage_credential = vault.get_secret(secretName = \"storagePrimaryKey\")\n",
            "storage = DataLake(account_name = \"storageaccountdva\", credential = storage_credential)"
         ]
      },
      {
         "cell_type": "code",
         "execution_count": 3,
         "metadata": {},
         "outputs": [],
         "source": [
            "file_system = \"energyhub\"\n",
            "directory_raw = \"/data_original/meters/cleaned\"\n",
            "directory_clean = \"/data/meters\""
         ]
      },
      {
         "cell_type": "code",
         "execution_count": 4,
         "metadata": {},
         "outputs": [],
         "source": [
            "paths = storage.list_directory_contents(file_system, directory_raw, print_paths=False)\n",
            "file_names = []\n",
            "for file in paths:\n",
            "    file_names.append(file.name.split(\"/\")[3])"
         ]
      },
      {
         "cell_type": "code",
         "execution_count": 5,
         "metadata": {},
         "outputs": [
            {
               "data": {
                  "text/plain": [
                     "['chilledwater_cleaned.csv',\n",
                     " 'electricity_cleaned.csv',\n",
                     " 'gas_cleaned.csv',\n",
                     " 'hotwater_cleaned.csv',\n",
                     " 'irrigation_cleaned.csv',\n",
                     " 'solar_cleaned.csv',\n",
                     " 'steam_cleaned.csv',\n",
                     " 'water_cleaned.csv']"
                  ]
               },
               "execution_count": 5,
               "metadata": {},
               "output_type": "execute_result"
            }
         ],
         "source": [
            "file_names"
         ]
      },
      {
         "cell_type": "code",
         "execution_count": 7,
         "metadata": {},
         "outputs": [
            {
               "name": "stdout",
               "output_type": "stream",
               "text": [
                  "chilledwater.csv write complete\n",
                  "electricity.csv write complete\n",
                  "gas.csv write complete\n",
                  "hotwater.csv write complete\n",
                  "irrigation.csv write complete\n",
                  "solar.csv write complete\n",
                  "steam.csv write complete\n",
                  "water.csv write complete\n"
               ]
            }
         ],
         "source": [
            "for name in file_names:\n",
            "\n",
            "    new_name = name.split(\"_\")[0]+\".csv\"\n",
            "    col_name = name.split(\"_\")[0]\n",
            "    df = storage.read(file_system, directory_raw, file_name=name)\n",
            "    df_tf = df.melt(id_vars='timestamp', var_name= 'building_id', value_name= col_name )\n",
            "    assert len(df) *(len(df.columns)-1) == len(df_tf)\n",
            "    \n",
            "    storage.write(file_system, directory_clean, file = df_tf, file_name = new_name, extension=\"csv\", overwrite = True)\n",
            "\n",
            "    "
         ]
      }
   ],
   "metadata": {
      "interpreter": {
         "hash": "a6f32d01d5b22f0f036211ddd2212f9d7a468214a2e2c6ab6e23af4ae0eada46"
      },
      "kernelspec": {
         "display_name": "Python 3.9.0 ('venv': venv)",
         "language": "python",
         "name": "python3"
      },
      "language_info": {
         "codemirror_mode": {
            "name": "ipython",
            "version": 3
         },
         "file_extension": ".py",
         "mimetype": "text/x-python",
         "name": "python",
         "nbconvert_exporter": "python",
         "pygments_lexer": "ipython3",
         "version": "3.8.8"
      },
      "orig_nbformat": 4
   },
   "nbformat": 4,
   "nbformat_minor": 2
}