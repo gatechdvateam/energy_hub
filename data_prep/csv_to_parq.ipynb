{
 "cells": [
  {
   "cell_type": "markdown",
   "metadata": {},
   "source": [
    "Convert csv files to parquet on Azure Data Lake Storage"
   ]
  },
  {
   "cell_type": "code",
   "execution_count": 1,
   "metadata": {},
   "outputs": [],
   "source": [
    "import sys\n",
    "import os\n",
    "sys.path.append(\"..\")\n",
    "import pandas as pd\n",
    "import numpy as np\n",
    "from matplotlib import pyplot as plt\n",
    "from webapp.utils.azure_utils import KeyVault, DataLake"
   ]
  },
  {
   "cell_type": "code",
   "execution_count": 2,
   "metadata": {},
   "outputs": [],
   "source": [
    "# Connect to Storage Account\n",
    "vault = KeyVault(keyVaultName = \"keyvaultdva2022\")\n",
    "storage_credential = vault.get_secret(secretName = \"storagePrimaryKey\")\n",
    "storage = DataLake(account_name = \"storageaccountdva\", credential = storage_credential)"
   ]
  },
  {
   "cell_type": "code",
   "execution_count": 3,
   "metadata": {},
   "outputs": [],
   "source": [
    "file_system = \"energyhub\""
   ]
  },
  {
   "cell_type": "code",
   "execution_count": 11,
   "metadata": {},
   "outputs": [
    {
     "name": "stdout",
     "output_type": "stream",
     "text": [
      "metadata.parq write complete\n",
      "Success\n",
      "weather.parq write complete\n",
      "Success\n"
     ]
    }
   ],
   "source": [
    "storage.csv_to_parquet_adls(file_system, file_name = \"metadata\", origin_dir = \"data/metadata\", dest_dir = \"data_parq/metadata\")\n",
    "storage.csv_to_parquet_adls(file_system, file_name = \"weather\", origin_dir = \"data/weather\", dest_dir = \"data_parq/weather\")"
   ]
  },
  {
   "cell_type": "code",
   "execution_count": 13,
   "metadata": {},
   "outputs": [
    {
     "name": "stdout",
     "output_type": "stream",
     "text": [
      "chilledwater.parq write complete\n",
      "Success\n",
      "electricity.parq write complete\n",
      "Success\n",
      "gas.parq write complete\n",
      "Success\n",
      "hotwater.parq write complete\n",
      "Success\n",
      "irrigation.parq write complete\n",
      "Success\n",
      "solar.parq write complete\n",
      "Success\n",
      "steam.parq write complete\n",
      "Success\n",
      "water.parq write complete\n",
      "Success\n"
     ]
    }
   ],
   "source": [
    "meters = ['chilledwater', 'electricity', 'gas', 'hotwater', 'irrigation', 'solar', 'steam', 'water']\n",
    "\n",
    "for meter in meters:\n",
    "    storage.csv_to_parquet_adls(file_system, file_name = meter, origin_dir = \"data/meters\", dest_dir = \"data_parq/meters\")"
   ]
  }
 ],
 "metadata": {
  "interpreter": {
   "hash": "a36958482b636de30c6f22e27dd07f9205d77a571c040a53f5dd2b190cea407e"
  },
  "kernelspec": {
   "display_name": "Python 3.8.8 ('.venv': venv)",
   "language": "python",
   "name": "python3"
  },
  "language_info": {
   "codemirror_mode": {
    "name": "ipython",
    "version": 3
   },
   "file_extension": ".py",
   "mimetype": "text/x-python",
   "name": "python",
   "nbconvert_exporter": "python",
   "pygments_lexer": "ipython3",
   "version": "3.8.8"
  },
  "orig_nbformat": 4
 },
 "nbformat": 4,
 "nbformat_minor": 2
}
