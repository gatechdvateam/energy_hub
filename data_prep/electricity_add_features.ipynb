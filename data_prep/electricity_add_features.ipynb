{
 "cells": [
  {
   "cell_type": "markdown",
   "metadata": {},
   "source": [
    "# Add metadata and weather features to electricity"
   ]
  },
  {
   "cell_type": "code",
   "execution_count": 1,
   "metadata": {},
   "outputs": [],
   "source": [
    "import sys\n",
    "import os\n",
    "sys.path.append(\"..\")\n",
    "import pandas as pd\n",
    "import numpy as np\n",
    "from matplotlib import pyplot as plt\n",
    "from webapp.utils.azure_utils import KeyVault, DataLake"
   ]
  },
  {
   "cell_type": "code",
   "execution_count": 2,
   "metadata": {},
   "outputs": [],
   "source": [
    "# Connect to Storage Account\n",
    "vault = KeyVault(keyVaultName = \"keyvaultdva2022\")\n",
    "storage_credential = vault.get_secret(secretName = \"storagePrimaryKey\")\n",
    "storage = DataLake(account_name = \"storageaccountdva\", credential = storage_credential)\n",
    "file_system = \"energyhub\""
   ]
  },
  {
   "cell_type": "code",
   "execution_count": 3,
   "metadata": {},
   "outputs": [],
   "source": [
    "# Read data:\n",
    "metadata = storage.read(file_system, directory = \"data_parq/metadata\", file_name = \"metadata.parq\", extension = \"parq\")\n",
    "weather = storage.read(file_system, directory = \"data_parq/weather\", file_name = \"weather.parq\", extension = \"parq\")\n",
    "electricity = storage.read(file_system, directory = \"data_parq/meters\", file_name = \"electricity.parq\", extension = \"parq\")"
   ]
  },
  {
   "cell_type": "code",
   "execution_count": 4,
   "metadata": {},
   "outputs": [],
   "source": [
    "# Remove unnecessary columns from meta:\n",
    "metadata = metadata.drop(columns = ['building_id_kaggle', 'site_id_kaggle', 'sq_feet', 'electricity', 'hotwater',\n",
    "       'chilledwater', 'steam', 'water', 'irrigation', 'solar', 'gas'])"
   ]
  },
  {
   "cell_type": "code",
   "execution_count": 5,
   "metadata": {},
   "outputs": [],
   "source": [
    "weather = weather.set_index(\"site_id\")\n",
    "metadata = metadata.set_index(\"site_id\")\n",
    "df = pd.merge(metadata, weather, on = \"site_id\", how = \"left\")"
   ]
  },
  {
   "cell_type": "code",
   "execution_count": 6,
   "metadata": {},
   "outputs": [],
   "source": [
    "del weather, metadata"
   ]
  },
  {
   "cell_type": "code",
   "execution_count": 7,
   "metadata": {},
   "outputs": [],
   "source": [
    "df = df.set_index([\"building_id\", \"timestamp\"])\n",
    "electricity = electricity.set_index([\"building_id\", \"timestamp\"])"
   ]
  },
  {
   "cell_type": "code",
   "execution_count": 8,
   "metadata": {},
   "outputs": [],
   "source": [
    "df = pd.merge(electricity, df, left_index = True, right_index = True, how = \"left\")"
   ]
  },
  {
   "cell_type": "code",
   "execution_count": 9,
   "metadata": {},
   "outputs": [],
   "source": [
    "del electricity"
   ]
  },
  {
   "cell_type": "code",
   "execution_count": 10,
   "metadata": {},
   "outputs": [
    {
     "ename": "AttributeError",
     "evalue": "'str' object has no attribute 'reset_index'",
     "output_type": "error",
     "traceback": [
      "\u001b[1;31m---------------------------------------------------------------------------\u001b[0m",
      "\u001b[1;31mAttributeError\u001b[0m                            Traceback (most recent call last)",
      "\u001b[1;32mc:\\Users\\nmert\\OneDrive\\Data Science\\OMSA\\HW & Projects\\omsa_dva_project\\data_prep\\electricity_add_features.ipynb Cell 11'\u001b[0m in \u001b[0;36m<module>\u001b[1;34m\u001b[0m\n\u001b[1;32m----> <a href='vscode-notebook-cell:/c%3A/Users/nmert/OneDrive/Data%20Science/OMSA/HW%20%26%20Projects/omsa_dva_project/data_prep/electricity_add_features.ipynb#ch0000012?line=0'>1</a>\u001b[0m storage\u001b[39m.\u001b[39;49mwrite(file_system, directory \u001b[39m=\u001b[39;49m \u001b[39m\"\u001b[39;49m\u001b[39mprocessed\u001b[39;49m\u001b[39m\"\u001b[39;49m, file \u001b[39m=\u001b[39;49m df, file_name \u001b[39m=\u001b[39;49m \u001b[39m\"\u001b[39;49m\u001b[39melectricity_meta.parq\u001b[39;49m\u001b[39m\"\u001b[39;49m, extension\u001b[39m=\u001b[39;49m\u001b[39m\"\u001b[39;49m\u001b[39mparq\u001b[39;49m\u001b[39m\"\u001b[39;49m, overwrite\u001b[39m=\u001b[39;49m\u001b[39mTrue\u001b[39;49;00m)\n",
      "File \u001b[1;32mc:\\Users\\nmert\\OneDrive\\Data Science\\OMSA\\HW & Projects\\omsa_dva_project\\webapp\\utils\\azure_utils.py:101\u001b[0m, in \u001b[0;36mDataLake.write\u001b[1;34m(self, file_system, directory, file, file_name, extension, overwrite)\u001b[0m\n\u001b[0;32m     <a href='file:///c%3A/Users/nmert/OneDrive/Data%20Science/OMSA/HW%20%26%20Projects/omsa_dva_project/webapp/utils/azure_utils.py?line=98'>99</a>\u001b[0m \u001b[39mif\u001b[39;00m extension \u001b[39m==\u001b[39m \u001b[39m\"\u001b[39m\u001b[39mparq\u001b[39m\u001b[39m\"\u001b[39m:\n\u001b[0;32m    <a href='file:///c%3A/Users/nmert/OneDrive/Data%20Science/OMSA/HW%20%26%20Projects/omsa_dva_project/webapp/utils/azure_utils.py?line=99'>100</a>\u001b[0m     file \u001b[39m=\u001b[39m \u001b[39mf\u001b[39m\u001b[39m\"\u001b[39m\u001b[39m{\u001b[39;00mfile_name\u001b[39m}\u001b[39;00m\u001b[39m.parq\u001b[39m\u001b[39m\"\u001b[39m\n\u001b[1;32m--> <a href='file:///c%3A/Users/nmert/OneDrive/Data%20Science/OMSA/HW%20%26%20Projects/omsa_dva_project/webapp/utils/azure_utils.py?line=100'>101</a>\u001b[0m     fastparquet\u001b[39m.\u001b[39;49mwrite(file_name, file, compression\u001b[39m=\u001b[39;49m\u001b[39m\"\u001b[39;49m\u001b[39mGZIP\u001b[39;49m\u001b[39m\"\u001b[39;49m)\n\u001b[0;32m    <a href='file:///c%3A/Users/nmert/OneDrive/Data%20Science/OMSA/HW%20%26%20Projects/omsa_dva_project/webapp/utils/azure_utils.py?line=101'>102</a>\u001b[0m     \u001b[39mself\u001b[39m\u001b[39m.\u001b[39mupload(file_system, directory, file_name\u001b[39m=\u001b[39mfile,\n\u001b[0;32m    <a href='file:///c%3A/Users/nmert/OneDrive/Data%20Science/OMSA/HW%20%26%20Projects/omsa_dva_project/webapp/utils/azure_utils.py?line=102'>103</a>\u001b[0m                 file_path\u001b[39m=\u001b[39mfile, overwrite\u001b[39m=\u001b[39m\u001b[39mTrue\u001b[39;00m)\n\u001b[0;32m    <a href='file:///c%3A/Users/nmert/OneDrive/Data%20Science/OMSA/HW%20%26%20Projects/omsa_dva_project/webapp/utils/azure_utils.py?line=103'>104</a>\u001b[0m     os\u001b[39m.\u001b[39mremove(file)\n",
      "File \u001b[1;32mc:\\Users\\nmert\\OneDrive\\Data Science\\OMSA\\HW & Projects\\omsa_dva_project\\.venv\\lib\\site-packages\\fastparquet\\writer.py:1191\u001b[0m, in \u001b[0;36mwrite\u001b[1;34m(filename, data, row_group_offsets, compression, file_scheme, open_with, mkdirs, has_nulls, write_index, partition_on, fixed_text, append, object_encoding, times, custom_metadata, stats)\u001b[0m\n\u001b[0;32m   <a href='file:///c%3A/Users/nmert/OneDrive/Data%20Science/OMSA/HW%20%26%20Projects/omsa_dva_project/.venv/lib/site-packages/fastparquet/writer.py?line=1186'>1187</a>\u001b[0m \u001b[39mif\u001b[39;00m (write_index \u001b[39mor\u001b[39;00m write_index \u001b[39mis\u001b[39;00m \u001b[39mNone\u001b[39;00m\n\u001b[0;32m   <a href='file:///c%3A/Users/nmert/OneDrive/Data%20Science/OMSA/HW%20%26%20Projects/omsa_dva_project/.venv/lib/site-packages/fastparquet/writer.py?line=1187'>1188</a>\u001b[0m     \u001b[39mand\u001b[39;00m \u001b[39mnot\u001b[39;00m \u001b[39misinstance\u001b[39m(data\u001b[39m.\u001b[39mindex, pd\u001b[39m.\u001b[39mRangeIndex)):\n\u001b[0;32m   <a href='file:///c%3A/Users/nmert/OneDrive/Data%20Science/OMSA/HW%20%26%20Projects/omsa_dva_project/.venv/lib/site-packages/fastparquet/writer.py?line=1188'>1189</a>\u001b[0m     \u001b[39m# Keep name(s) of index to metadata.\u001b[39;00m\n\u001b[0;32m   <a href='file:///c%3A/Users/nmert/OneDrive/Data%20Science/OMSA/HW%20%26%20Projects/omsa_dva_project/.venv/lib/site-packages/fastparquet/writer.py?line=1189'>1190</a>\u001b[0m     cols \u001b[39m=\u001b[39m \u001b[39mset\u001b[39m(data)\n\u001b[1;32m-> <a href='file:///c%3A/Users/nmert/OneDrive/Data%20Science/OMSA/HW%20%26%20Projects/omsa_dva_project/.venv/lib/site-packages/fastparquet/writer.py?line=1190'>1191</a>\u001b[0m     data \u001b[39m=\u001b[39m reset_row_idx(data)\n\u001b[0;32m   <a href='file:///c%3A/Users/nmert/OneDrive/Data%20Science/OMSA/HW%20%26%20Projects/omsa_dva_project/.venv/lib/site-packages/fastparquet/writer.py?line=1191'>1192</a>\u001b[0m     index_cols \u001b[39m=\u001b[39m [c \u001b[39mfor\u001b[39;00m c \u001b[39min\u001b[39;00m data \u001b[39mif\u001b[39;00m c \u001b[39mnot\u001b[39;00m \u001b[39min\u001b[39;00m cols]\n\u001b[0;32m   <a href='file:///c%3A/Users/nmert/OneDrive/Data%20Science/OMSA/HW%20%26%20Projects/omsa_dva_project/.venv/lib/site-packages/fastparquet/writer.py?line=1192'>1193</a>\u001b[0m \u001b[39melif\u001b[39;00m write_index \u001b[39mis\u001b[39;00m \u001b[39mNone\u001b[39;00m \u001b[39mand\u001b[39;00m \u001b[39misinstance\u001b[39m(data\u001b[39m.\u001b[39mindex, pd\u001b[39m.\u001b[39mRangeIndex):\n\u001b[0;32m   <a href='file:///c%3A/Users/nmert/OneDrive/Data%20Science/OMSA/HW%20%26%20Projects/omsa_dva_project/.venv/lib/site-packages/fastparquet/writer.py?line=1193'>1194</a>\u001b[0m     \u001b[39m# write_index=None, range to metadata\u001b[39;00m\n",
      "File \u001b[1;32mc:\\Users\\nmert\\OneDrive\\Data Science\\OMSA\\HW & Projects\\omsa_dva_project\\.venv\\lib\\site-packages\\fastparquet\\util.py:143\u001b[0m, in \u001b[0;36mreset_row_idx\u001b[1;34m(data)\u001b[0m\n\u001b[0;32m    <a href='file:///c%3A/Users/nmert/OneDrive/Data%20Science/OMSA/HW%20%26%20Projects/omsa_dva_project/.venv/lib/site-packages/fastparquet/util.py?line=140'>141</a>\u001b[0m     data\u001b[39m.\u001b[39mreset_index(drop\u001b[39m=\u001b[39m\u001b[39mTrue\u001b[39;00m)\n\u001b[0;32m    <a href='file:///c%3A/Users/nmert/OneDrive/Data%20Science/OMSA/HW%20%26%20Projects/omsa_dva_project/.venv/lib/site-packages/fastparquet/util.py?line=141'>142</a>\u001b[0m \u001b[39melse\u001b[39;00m:\n\u001b[1;32m--> <a href='file:///c%3A/Users/nmert/OneDrive/Data%20Science/OMSA/HW%20%26%20Projects/omsa_dva_project/.venv/lib/site-packages/fastparquet/util.py?line=142'>143</a>\u001b[0m     data \u001b[39m=\u001b[39m data\u001b[39m.\u001b[39;49mreset_index()\n\u001b[0;32m    <a href='file:///c%3A/Users/nmert/OneDrive/Data%20Science/OMSA/HW%20%26%20Projects/omsa_dva_project/.venv/lib/site-packages/fastparquet/util.py?line=143'>144</a>\u001b[0m \u001b[39mreturn\u001b[39;00m data\n",
      "\u001b[1;31mAttributeError\u001b[0m: 'str' object has no attribute 'reset_index'"
     ]
    }
   ],
   "source": [
    "storage.write(file_system, directory = \"processed\", file = df, file_name = \"electricity_meta.parq\", extension=\"parq\", overwrite=True)"
   ]
  },
  {
   "cell_type": "code",
   "execution_count": null,
   "metadata": {},
   "outputs": [],
   "source": []
  }
 ],
 "metadata": {
  "interpreter": {
   "hash": "a36958482b636de30c6f22e27dd07f9205d77a571c040a53f5dd2b190cea407e"
  },
  "kernelspec": {
   "display_name": "Python 3.8.8 ('.venv': venv)",
   "language": "python",
   "name": "python3"
  },
  "language_info": {
   "codemirror_mode": {
    "name": "ipython",
    "version": 3
   },
   "file_extension": ".py",
   "mimetype": "text/x-python",
   "name": "python",
   "nbconvert_exporter": "python",
   "pygments_lexer": "ipython3",
   "version": "3.8.8"
  },
  "orig_nbformat": 4
 },
 "nbformat": 4,
 "nbformat_minor": 2
}
