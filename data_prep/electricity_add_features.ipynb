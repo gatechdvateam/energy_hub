{
 "cells": [
  {
   "cell_type": "markdown",
   "metadata": {},
   "source": [
    "# Add metadata and weather features to electricity"
   ]
  },
  {
   "cell_type": "code",
   "execution_count": 1,
   "metadata": {},
   "outputs": [],
   "source": [
    "import sys\n",
    "import os\n",
    "sys.path.append(\"..\")\n",
    "import pandas as pd\n",
    "import numpy as np\n",
    "from matplotlib import pyplot as plt\n",
    "from webapp.utils.azure_utils import KeyVault, DataLake"
   ]
  },
  {
   "cell_type": "code",
   "execution_count": 2,
   "metadata": {},
   "outputs": [],
   "source": [
    "# Connect to Storage Account\n",
    "vault = KeyVault(keyVaultName = \"keyvaultdva2022\")\n",
    "storage_credential = vault.get_secret(secretName = \"storagePrimaryKey\")\n",
    "storage = DataLake(account_name = \"storageaccountdva\", credential = storage_credential)\n",
    "file_system = \"energyhub\""
   ]
  },
  {
   "cell_type": "code",
   "execution_count": 4,
   "metadata": {},
   "outputs": [],
   "source": [
    "# Read data:\n",
    "metadata = storage.read(file_system, directory = \"data_parq/metadata\", file_name = \"metadata.parq\", extension = \"parq\")\n",
    "weather = storage.read(file_system, directory = \"data_parq/weather\", file_name = \"weather.parq\", extension = \"parq\")\n",
    "electricity = storage.read(file_system, directory = \"data_parq/meters\", file_name = \"electricity.parq\", extension = \"parq\")"
   ]
  },
  {
   "cell_type": "code",
   "execution_count": 7,
   "metadata": {},
   "outputs": [],
   "source": [
    "# Remove unnecessary columns from meta:\n",
    "metadata = metadata.drop(columns = ['building_id_kaggle', 'site_id_kaggle', 'sq_feet', 'electricity', 'hotwater',\n",
    "       'chilledwater', 'steam', 'water', 'irrigation', 'solar', 'gas'])"
   ]
  },
  {
   "cell_type": "code",
   "execution_count": 10,
   "metadata": {},
   "outputs": [],
   "source": [
    "weather = weather.set_index(\"site_id\")\n",
    "metadata = metadata.set_index(\"site_id\")\n",
    "df = pd.merge(metadata, weather, on = \"site_id\", how = \"left\")"
   ]
  },
  {
   "cell_type": "code",
   "execution_count": 11,
   "metadata": {},
   "outputs": [],
   "source": [
    "del weather, metadata"
   ]
  },
  {
   "cell_type": "code",
   "execution_count": 12,
   "metadata": {},
   "outputs": [],
   "source": [
    "df = df.set_index([\"building_id\", \"timestamp\"])\n",
    "electricity = electricity.set_index([\"building_id\", \"timestamp\"])"
   ]
  },
  {
   "cell_type": "code",
   "execution_count": 13,
   "metadata": {},
   "outputs": [],
   "source": [
    "df = pd.merge(electricity, df, left_index = True, right_index = True, how = \"left\")"
   ]
  },
  {
   "cell_type": "code",
   "execution_count": 14,
   "metadata": {},
   "outputs": [],
   "source": [
    "del electricity"
   ]
  },
  {
   "cell_type": "code",
   "execution_count": 15,
   "metadata": {},
   "outputs": [
    {
     "ename": "KeyError",
     "evalue": "\"['electricity_y'] not found in axis\"",
     "output_type": "error",
     "traceback": [
      "\u001b[1;31m---------------------------------------------------------------------------\u001b[0m",
      "\u001b[1;31mKeyError\u001b[0m                                  Traceback (most recent call last)",
      "\u001b[1;32mc:\\Users\\nmert\\OneDrive\\Data Science\\OMSA\\HW & Projects\\omsa_dva_project\\data_prep\\electricity_add_features.ipynb Cell 11'\u001b[0m in \u001b[0;36m<module>\u001b[1;34m\u001b[0m\n\u001b[0;32m      <a href='vscode-notebook-cell:/c%3A/Users/nmert/OneDrive/Data%20Science/OMSA/HW%20%26%20Projects/omsa_dva_project/data_prep/electricity_add_features.ipynb#ch0000010?line=0'>1</a>\u001b[0m df \u001b[39m=\u001b[39m df\u001b[39m.\u001b[39mrename(columns \u001b[39m=\u001b[39m {\u001b[39m\"\u001b[39m\u001b[39melectricity_x\u001b[39m\u001b[39m\"\u001b[39m: \u001b[39m\"\u001b[39m\u001b[39melectricity\u001b[39m\u001b[39m\"\u001b[39m})\n\u001b[1;32m----> <a href='vscode-notebook-cell:/c%3A/Users/nmert/OneDrive/Data%20Science/OMSA/HW%20%26%20Projects/omsa_dva_project/data_prep/electricity_add_features.ipynb#ch0000010?line=1'>2</a>\u001b[0m df \u001b[39m=\u001b[39m df\u001b[39m.\u001b[39;49mdrop(columns \u001b[39m=\u001b[39;49m [\u001b[39m\"\u001b[39;49m\u001b[39melectricity_y\u001b[39;49m\u001b[39m\"\u001b[39;49m])\n",
      "File \u001b[1;32mc:\\Users\\nmert\\OneDrive\\Data Science\\OMSA\\HW & Projects\\omsa_dva_project\\.venv\\lib\\site-packages\\pandas\\util\\_decorators.py:311\u001b[0m, in \u001b[0;36mdeprecate_nonkeyword_arguments.<locals>.decorate.<locals>.wrapper\u001b[1;34m(*args, **kwargs)\u001b[0m\n\u001b[0;32m    <a href='file:///c%3A/Users/nmert/OneDrive/Data%20Science/OMSA/HW%20%26%20Projects/omsa_dva_project/.venv/lib/site-packages/pandas/util/_decorators.py?line=304'>305</a>\u001b[0m \u001b[39mif\u001b[39;00m \u001b[39mlen\u001b[39m(args) \u001b[39m>\u001b[39m num_allow_args:\n\u001b[0;32m    <a href='file:///c%3A/Users/nmert/OneDrive/Data%20Science/OMSA/HW%20%26%20Projects/omsa_dva_project/.venv/lib/site-packages/pandas/util/_decorators.py?line=305'>306</a>\u001b[0m     warnings\u001b[39m.\u001b[39mwarn(\n\u001b[0;32m    <a href='file:///c%3A/Users/nmert/OneDrive/Data%20Science/OMSA/HW%20%26%20Projects/omsa_dva_project/.venv/lib/site-packages/pandas/util/_decorators.py?line=306'>307</a>\u001b[0m         msg\u001b[39m.\u001b[39mformat(arguments\u001b[39m=\u001b[39marguments),\n\u001b[0;32m    <a href='file:///c%3A/Users/nmert/OneDrive/Data%20Science/OMSA/HW%20%26%20Projects/omsa_dva_project/.venv/lib/site-packages/pandas/util/_decorators.py?line=307'>308</a>\u001b[0m         \u001b[39mFutureWarning\u001b[39;00m,\n\u001b[0;32m    <a href='file:///c%3A/Users/nmert/OneDrive/Data%20Science/OMSA/HW%20%26%20Projects/omsa_dva_project/.venv/lib/site-packages/pandas/util/_decorators.py?line=308'>309</a>\u001b[0m         stacklevel\u001b[39m=\u001b[39mstacklevel,\n\u001b[0;32m    <a href='file:///c%3A/Users/nmert/OneDrive/Data%20Science/OMSA/HW%20%26%20Projects/omsa_dva_project/.venv/lib/site-packages/pandas/util/_decorators.py?line=309'>310</a>\u001b[0m     )\n\u001b[1;32m--> <a href='file:///c%3A/Users/nmert/OneDrive/Data%20Science/OMSA/HW%20%26%20Projects/omsa_dva_project/.venv/lib/site-packages/pandas/util/_decorators.py?line=310'>311</a>\u001b[0m \u001b[39mreturn\u001b[39;00m func(\u001b[39m*\u001b[39;49margs, \u001b[39m*\u001b[39;49m\u001b[39m*\u001b[39;49mkwargs)\n",
      "File \u001b[1;32mc:\\Users\\nmert\\OneDrive\\Data Science\\OMSA\\HW & Projects\\omsa_dva_project\\.venv\\lib\\site-packages\\pandas\\core\\frame.py:4956\u001b[0m, in \u001b[0;36mDataFrame.drop\u001b[1;34m(self, labels, axis, index, columns, level, inplace, errors)\u001b[0m\n\u001b[0;32m   <a href='file:///c%3A/Users/nmert/OneDrive/Data%20Science/OMSA/HW%20%26%20Projects/omsa_dva_project/.venv/lib/site-packages/pandas/core/frame.py?line=4807'>4808</a>\u001b[0m \u001b[39m@deprecate_nonkeyword_arguments\u001b[39m(version\u001b[39m=\u001b[39m\u001b[39mNone\u001b[39;00m, allowed_args\u001b[39m=\u001b[39m[\u001b[39m\"\u001b[39m\u001b[39mself\u001b[39m\u001b[39m\"\u001b[39m, \u001b[39m\"\u001b[39m\u001b[39mlabels\u001b[39m\u001b[39m\"\u001b[39m])\n\u001b[0;32m   <a href='file:///c%3A/Users/nmert/OneDrive/Data%20Science/OMSA/HW%20%26%20Projects/omsa_dva_project/.venv/lib/site-packages/pandas/core/frame.py?line=4808'>4809</a>\u001b[0m \u001b[39mdef\u001b[39;00m \u001b[39mdrop\u001b[39m(\n\u001b[0;32m   <a href='file:///c%3A/Users/nmert/OneDrive/Data%20Science/OMSA/HW%20%26%20Projects/omsa_dva_project/.venv/lib/site-packages/pandas/core/frame.py?line=4809'>4810</a>\u001b[0m     \u001b[39mself\u001b[39m,\n\u001b[1;32m   (...)\u001b[0m\n\u001b[0;32m   <a href='file:///c%3A/Users/nmert/OneDrive/Data%20Science/OMSA/HW%20%26%20Projects/omsa_dva_project/.venv/lib/site-packages/pandas/core/frame.py?line=4816'>4817</a>\u001b[0m     errors: \u001b[39mstr\u001b[39m \u001b[39m=\u001b[39m \u001b[39m\"\u001b[39m\u001b[39mraise\u001b[39m\u001b[39m\"\u001b[39m,\n\u001b[0;32m   <a href='file:///c%3A/Users/nmert/OneDrive/Data%20Science/OMSA/HW%20%26%20Projects/omsa_dva_project/.venv/lib/site-packages/pandas/core/frame.py?line=4817'>4818</a>\u001b[0m ):\n\u001b[0;32m   <a href='file:///c%3A/Users/nmert/OneDrive/Data%20Science/OMSA/HW%20%26%20Projects/omsa_dva_project/.venv/lib/site-packages/pandas/core/frame.py?line=4818'>4819</a>\u001b[0m     \u001b[39m\"\"\"\u001b[39;00m\n\u001b[0;32m   <a href='file:///c%3A/Users/nmert/OneDrive/Data%20Science/OMSA/HW%20%26%20Projects/omsa_dva_project/.venv/lib/site-packages/pandas/core/frame.py?line=4819'>4820</a>\u001b[0m \u001b[39m    Drop specified labels from rows or columns.\u001b[39;00m\n\u001b[0;32m   <a href='file:///c%3A/Users/nmert/OneDrive/Data%20Science/OMSA/HW%20%26%20Projects/omsa_dva_project/.venv/lib/site-packages/pandas/core/frame.py?line=4820'>4821</a>\u001b[0m \n\u001b[1;32m   (...)\u001b[0m\n\u001b[0;32m   <a href='file:///c%3A/Users/nmert/OneDrive/Data%20Science/OMSA/HW%20%26%20Projects/omsa_dva_project/.venv/lib/site-packages/pandas/core/frame.py?line=4953'>4954</a>\u001b[0m \u001b[39m            weight  1.0     0.8\u001b[39;00m\n\u001b[0;32m   <a href='file:///c%3A/Users/nmert/OneDrive/Data%20Science/OMSA/HW%20%26%20Projects/omsa_dva_project/.venv/lib/site-packages/pandas/core/frame.py?line=4954'>4955</a>\u001b[0m \u001b[39m    \"\"\"\u001b[39;00m\n\u001b[1;32m-> <a href='file:///c%3A/Users/nmert/OneDrive/Data%20Science/OMSA/HW%20%26%20Projects/omsa_dva_project/.venv/lib/site-packages/pandas/core/frame.py?line=4955'>4956</a>\u001b[0m     \u001b[39mreturn\u001b[39;00m \u001b[39msuper\u001b[39;49m()\u001b[39m.\u001b[39;49mdrop(\n\u001b[0;32m   <a href='file:///c%3A/Users/nmert/OneDrive/Data%20Science/OMSA/HW%20%26%20Projects/omsa_dva_project/.venv/lib/site-packages/pandas/core/frame.py?line=4956'>4957</a>\u001b[0m         labels\u001b[39m=\u001b[39;49mlabels,\n\u001b[0;32m   <a href='file:///c%3A/Users/nmert/OneDrive/Data%20Science/OMSA/HW%20%26%20Projects/omsa_dva_project/.venv/lib/site-packages/pandas/core/frame.py?line=4957'>4958</a>\u001b[0m         axis\u001b[39m=\u001b[39;49maxis,\n\u001b[0;32m   <a href='file:///c%3A/Users/nmert/OneDrive/Data%20Science/OMSA/HW%20%26%20Projects/omsa_dva_project/.venv/lib/site-packages/pandas/core/frame.py?line=4958'>4959</a>\u001b[0m         index\u001b[39m=\u001b[39;49mindex,\n\u001b[0;32m   <a href='file:///c%3A/Users/nmert/OneDrive/Data%20Science/OMSA/HW%20%26%20Projects/omsa_dva_project/.venv/lib/site-packages/pandas/core/frame.py?line=4959'>4960</a>\u001b[0m         columns\u001b[39m=\u001b[39;49mcolumns,\n\u001b[0;32m   <a href='file:///c%3A/Users/nmert/OneDrive/Data%20Science/OMSA/HW%20%26%20Projects/omsa_dva_project/.venv/lib/site-packages/pandas/core/frame.py?line=4960'>4961</a>\u001b[0m         level\u001b[39m=\u001b[39;49mlevel,\n\u001b[0;32m   <a href='file:///c%3A/Users/nmert/OneDrive/Data%20Science/OMSA/HW%20%26%20Projects/omsa_dva_project/.venv/lib/site-packages/pandas/core/frame.py?line=4961'>4962</a>\u001b[0m         inplace\u001b[39m=\u001b[39;49minplace,\n\u001b[0;32m   <a href='file:///c%3A/Users/nmert/OneDrive/Data%20Science/OMSA/HW%20%26%20Projects/omsa_dva_project/.venv/lib/site-packages/pandas/core/frame.py?line=4962'>4963</a>\u001b[0m         errors\u001b[39m=\u001b[39;49merrors,\n\u001b[0;32m   <a href='file:///c%3A/Users/nmert/OneDrive/Data%20Science/OMSA/HW%20%26%20Projects/omsa_dva_project/.venv/lib/site-packages/pandas/core/frame.py?line=4963'>4964</a>\u001b[0m     )\n",
      "File \u001b[1;32mc:\\Users\\nmert\\OneDrive\\Data Science\\OMSA\\HW & Projects\\omsa_dva_project\\.venv\\lib\\site-packages\\pandas\\core\\generic.py:4279\u001b[0m, in \u001b[0;36mNDFrame.drop\u001b[1;34m(self, labels, axis, index, columns, level, inplace, errors)\u001b[0m\n\u001b[0;32m   <a href='file:///c%3A/Users/nmert/OneDrive/Data%20Science/OMSA/HW%20%26%20Projects/omsa_dva_project/.venv/lib/site-packages/pandas/core/generic.py?line=4276'>4277</a>\u001b[0m \u001b[39mfor\u001b[39;00m axis, labels \u001b[39min\u001b[39;00m axes\u001b[39m.\u001b[39mitems():\n\u001b[0;32m   <a href='file:///c%3A/Users/nmert/OneDrive/Data%20Science/OMSA/HW%20%26%20Projects/omsa_dva_project/.venv/lib/site-packages/pandas/core/generic.py?line=4277'>4278</a>\u001b[0m     \u001b[39mif\u001b[39;00m labels \u001b[39mis\u001b[39;00m \u001b[39mnot\u001b[39;00m \u001b[39mNone\u001b[39;00m:\n\u001b[1;32m-> <a href='file:///c%3A/Users/nmert/OneDrive/Data%20Science/OMSA/HW%20%26%20Projects/omsa_dva_project/.venv/lib/site-packages/pandas/core/generic.py?line=4278'>4279</a>\u001b[0m         obj \u001b[39m=\u001b[39m obj\u001b[39m.\u001b[39;49m_drop_axis(labels, axis, level\u001b[39m=\u001b[39;49mlevel, errors\u001b[39m=\u001b[39;49merrors)\n\u001b[0;32m   <a href='file:///c%3A/Users/nmert/OneDrive/Data%20Science/OMSA/HW%20%26%20Projects/omsa_dva_project/.venv/lib/site-packages/pandas/core/generic.py?line=4280'>4281</a>\u001b[0m \u001b[39mif\u001b[39;00m inplace:\n\u001b[0;32m   <a href='file:///c%3A/Users/nmert/OneDrive/Data%20Science/OMSA/HW%20%26%20Projects/omsa_dva_project/.venv/lib/site-packages/pandas/core/generic.py?line=4281'>4282</a>\u001b[0m     \u001b[39mself\u001b[39m\u001b[39m.\u001b[39m_update_inplace(obj)\n",
      "File \u001b[1;32mc:\\Users\\nmert\\OneDrive\\Data Science\\OMSA\\HW & Projects\\omsa_dva_project\\.venv\\lib\\site-packages\\pandas\\core\\generic.py:4323\u001b[0m, in \u001b[0;36mNDFrame._drop_axis\u001b[1;34m(self, labels, axis, level, errors, consolidate, only_slice)\u001b[0m\n\u001b[0;32m   <a href='file:///c%3A/Users/nmert/OneDrive/Data%20Science/OMSA/HW%20%26%20Projects/omsa_dva_project/.venv/lib/site-packages/pandas/core/generic.py?line=4320'>4321</a>\u001b[0m         new_axis \u001b[39m=\u001b[39m axis\u001b[39m.\u001b[39mdrop(labels, level\u001b[39m=\u001b[39mlevel, errors\u001b[39m=\u001b[39merrors)\n\u001b[0;32m   <a href='file:///c%3A/Users/nmert/OneDrive/Data%20Science/OMSA/HW%20%26%20Projects/omsa_dva_project/.venv/lib/site-packages/pandas/core/generic.py?line=4321'>4322</a>\u001b[0m     \u001b[39melse\u001b[39;00m:\n\u001b[1;32m-> <a href='file:///c%3A/Users/nmert/OneDrive/Data%20Science/OMSA/HW%20%26%20Projects/omsa_dva_project/.venv/lib/site-packages/pandas/core/generic.py?line=4322'>4323</a>\u001b[0m         new_axis \u001b[39m=\u001b[39m axis\u001b[39m.\u001b[39;49mdrop(labels, errors\u001b[39m=\u001b[39;49merrors)\n\u001b[0;32m   <a href='file:///c%3A/Users/nmert/OneDrive/Data%20Science/OMSA/HW%20%26%20Projects/omsa_dva_project/.venv/lib/site-packages/pandas/core/generic.py?line=4323'>4324</a>\u001b[0m     indexer \u001b[39m=\u001b[39m axis\u001b[39m.\u001b[39mget_indexer(new_axis)\n\u001b[0;32m   <a href='file:///c%3A/Users/nmert/OneDrive/Data%20Science/OMSA/HW%20%26%20Projects/omsa_dva_project/.venv/lib/site-packages/pandas/core/generic.py?line=4325'>4326</a>\u001b[0m \u001b[39m# Case for non-unique axis\u001b[39;00m\n\u001b[0;32m   <a href='file:///c%3A/Users/nmert/OneDrive/Data%20Science/OMSA/HW%20%26%20Projects/omsa_dva_project/.venv/lib/site-packages/pandas/core/generic.py?line=4326'>4327</a>\u001b[0m \u001b[39melse\u001b[39;00m:\n",
      "File \u001b[1;32mc:\\Users\\nmert\\OneDrive\\Data Science\\OMSA\\HW & Projects\\omsa_dva_project\\.venv\\lib\\site-packages\\pandas\\core\\indexes\\base.py:6644\u001b[0m, in \u001b[0;36mIndex.drop\u001b[1;34m(self, labels, errors)\u001b[0m\n\u001b[0;32m   <a href='file:///c%3A/Users/nmert/OneDrive/Data%20Science/OMSA/HW%20%26%20Projects/omsa_dva_project/.venv/lib/site-packages/pandas/core/indexes/base.py?line=6641'>6642</a>\u001b[0m \u001b[39mif\u001b[39;00m mask\u001b[39m.\u001b[39many():\n\u001b[0;32m   <a href='file:///c%3A/Users/nmert/OneDrive/Data%20Science/OMSA/HW%20%26%20Projects/omsa_dva_project/.venv/lib/site-packages/pandas/core/indexes/base.py?line=6642'>6643</a>\u001b[0m     \u001b[39mif\u001b[39;00m errors \u001b[39m!=\u001b[39m \u001b[39m\"\u001b[39m\u001b[39mignore\u001b[39m\u001b[39m\"\u001b[39m:\n\u001b[1;32m-> <a href='file:///c%3A/Users/nmert/OneDrive/Data%20Science/OMSA/HW%20%26%20Projects/omsa_dva_project/.venv/lib/site-packages/pandas/core/indexes/base.py?line=6643'>6644</a>\u001b[0m         \u001b[39mraise\u001b[39;00m \u001b[39mKeyError\u001b[39;00m(\u001b[39mf\u001b[39m\u001b[39m\"\u001b[39m\u001b[39m{\u001b[39;00m\u001b[39mlist\u001b[39m(labels[mask])\u001b[39m}\u001b[39;00m\u001b[39m not found in axis\u001b[39m\u001b[39m\"\u001b[39m)\n\u001b[0;32m   <a href='file:///c%3A/Users/nmert/OneDrive/Data%20Science/OMSA/HW%20%26%20Projects/omsa_dva_project/.venv/lib/site-packages/pandas/core/indexes/base.py?line=6644'>6645</a>\u001b[0m     indexer \u001b[39m=\u001b[39m indexer[\u001b[39m~\u001b[39mmask]\n\u001b[0;32m   <a href='file:///c%3A/Users/nmert/OneDrive/Data%20Science/OMSA/HW%20%26%20Projects/omsa_dva_project/.venv/lib/site-packages/pandas/core/indexes/base.py?line=6645'>6646</a>\u001b[0m \u001b[39mreturn\u001b[39;00m \u001b[39mself\u001b[39m\u001b[39m.\u001b[39mdelete(indexer)\n",
      "\u001b[1;31mKeyError\u001b[0m: \"['electricity_y'] not found in axis\""
     ]
    }
   ],
   "source": [
    "df = df.rename(columns = {\"electricity_x\": \"electricity\"})\n",
    "df = df.drop(columns = [\"electricity_y\"])"
   ]
  },
  {
   "cell_type": "code",
   "execution_count": null,
   "metadata": {},
   "outputs": [],
   "source": [
    "df = df.reset_index()"
   ]
  },
  {
   "cell_type": "code",
   "execution_count": null,
   "metadata": {},
   "outputs": [],
   "source": []
  }
 ],
 "metadata": {
  "interpreter": {
   "hash": "a36958482b636de30c6f22e27dd07f9205d77a571c040a53f5dd2b190cea407e"
  },
  "kernelspec": {
   "display_name": "Python 3.8.8 ('.venv': venv)",
   "language": "python",
   "name": "python3"
  },
  "language_info": {
   "codemirror_mode": {
    "name": "ipython",
    "version": 3
   },
   "file_extension": ".py",
   "mimetype": "text/x-python",
   "name": "python",
   "nbconvert_exporter": "python",
   "pygments_lexer": "ipython3",
   "version": "3.8.8"
  },
  "orig_nbformat": 4
 },
 "nbformat": 4,
 "nbformat_minor": 2
}
