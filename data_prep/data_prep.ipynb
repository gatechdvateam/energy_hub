{
 "cells": [
  {
   "cell_type": "code",
   "execution_count": 9,
   "metadata": {},
   "outputs": [],
   "source": [
    "import sys\n",
    "sys.path.append(\"..\")\n",
    "from utils.azure_utils import KeyVault, DataLake\n",
    "from utils.data_pre_utils import df_val_map\n",
    "import numpy as np\n",
    "import pandas as pd"
   ]
  },
  {
   "cell_type": "code",
   "execution_count": 10,
   "metadata": {},
   "outputs": [],
   "source": [
    "# Connect to Storage Account\n",
    "vault = KeyVault(keyVaultName = \"keyvaultdva2022\")\n",
    "storage_credential = vault.get_secret(secretName = \"storagePrimaryKey\")\n",
    "storage = DataLake(account_name = \"storageaccountdva\", credential = storage_credential)"
   ]
  },
  {
   "cell_type": "code",
   "execution_count": 23,
   "metadata": {},
   "outputs": [],
   "source": [
    "file_system = \"energyhub\""
   ]
  },
  {
   "cell_type": "code",
   "execution_count": 24,
   "metadata": {},
   "outputs": [],
   "source": [
    "meta_data = storage.read(file_system, directory=\"data_original/metadata\", file_name=\"metadata.csv\")"
   ]
  },
  {
   "cell_type": "code",
   "execution_count": 18,
   "metadata": {},
   "outputs": [],
   "source": [
    "# Change column names:\n",
    "meta_data = meta_data.rename(columns = {'building_id': 'building_id',\n",
    "                    'site_id': 'site_id',\n",
    "                    'building_id_kaggle': 'building_id_kaggle',\n",
    "                    'site_id_kaggle': 'site_id_kaggle',\n",
    "                    'primaryspaceusage': 'primary_space_usage',\n",
    "                    'sub_primaryspaceusage': 'sub_primary_space_usage',\n",
    "                    'sqm': 'sq_meter',\n",
    "                    'sqft': 'sq_feet',\n",
    "                    'lat': 'latitude',\n",
    "                    'lng': 'longitude',\n",
    "                    'timezone': 'timezone',\n",
    "                    'electricity': 'electricity',\n",
    "                    'hotwater': 'hot_water',\n",
    "                    'chilledwater': 'chilled_water',\n",
    "                    'steam': 'steam',\n",
    "                    'water': 'water',\n",
    "                    'irrigation': 'irrigation',\n",
    "                    'solar': 'solar',\n",
    "                    'gas': 'gas',\n",
    "                    'industry': 'industry',\n",
    "                    'subindustry': 'subindustry',\n",
    "                    'heatingtype': 'heating_type',\n",
    "                    'yearbuilt': 'year_built',\n",
    "                    'date_opened': 'date_opened',\n",
    "                    'numberoffloors': 'number_of_floors',\n",
    "                    'occupants': 'occupants',\n",
    "                    'energystarscore': 'energy_stars_core',\n",
    "                    'eui': 'eui',\n",
    "                    'site_eui': 'site_eui',\n",
    "                    'source_eui': 'source_eui',\n",
    "                    'leed_level': 'leed_level',\n",
    "                    'rating': 'rating'})"
   ]
  },
  {
   "cell_type": "code",
   "execution_count": 21,
   "metadata": {},
   "outputs": [],
   "source": [
    "# Map values with Yes flag:\n",
    "mapping_values = {'Yes': True, np.nan: False}\n",
    "cols_to_map = [\"electricity\", \"hot_water\", \"chilled_water\", \"steam\", \"water\", \"irrigation\", \"solar\", \"gas\"]\n",
    "\n",
    "for col in cols_to_map:\n",
    "    df_val_map(meta_data, col, mapping_values)"
   ]
  },
  {
   "cell_type": "code",
   "execution_count": 25,
   "metadata": {},
   "outputs": [
    {
     "name": "stdout",
     "output_type": "stream",
     "text": [
      "file_name write complete\n"
     ]
    }
   ],
   "source": [
    "file_name = \"metadata.csv\"\n",
    "storage.write(file_system = \"energyhub\", directory = \"data/metadata\", file = meta_data, file_name = \"file_name\", extension=\"csv\", overwrite = True)"
   ]
  }
 ],
 "metadata": {
  "interpreter": {
   "hash": "a36958482b636de30c6f22e27dd07f9205d77a571c040a53f5dd2b190cea407e"
  },
  "kernelspec": {
   "display_name": "Python 3.8.8 ('.venv': venv)",
   "language": "python",
   "name": "python3"
  },
  "language_info": {
   "codemirror_mode": {
    "name": "ipython",
    "version": 3
   },
   "file_extension": ".py",
   "mimetype": "text/x-python",
   "name": "python",
   "nbconvert_exporter": "python",
   "pygments_lexer": "ipython3",
   "version": "3.8.8"
  },
  "orig_nbformat": 4
 },
 "nbformat": 4,
 "nbformat_minor": 2
}
