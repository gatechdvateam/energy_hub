{
 "cells": [
  {
   "cell_type": "code",
   "execution_count": 2,
   "metadata": {},
   "outputs": [
    {
     "name": "stdout",
     "output_type": "stream",
     "text": [
      "Requirement already satisfied: azure-identity in c:\\users\\phuon\\anaconda3\\envs\\astronet\\lib\\site-packages (1.7.1)\n",
      "Requirement already satisfied: msal-extensions~=0.3.0 in c:\\users\\phuon\\anaconda3\\envs\\astronet\\lib\\site-packages (from azure-identity) (0.3.1)\n",
      "Requirement already satisfied: azure-core<2.0.0,>=1.11.0 in c:\\users\\phuon\\anaconda3\\envs\\astronet\\lib\\site-packages (from azure-identity) (1.21.1)\n",
      "Requirement already satisfied: msal<2.0.0,>=1.12.0 in c:\\users\\phuon\\anaconda3\\envs\\astronet\\lib\\site-packages (from azure-identity) (1.16.0)\n",
      "Requirement already satisfied: six>=1.12.0 in c:\\users\\phuon\\anaconda3\\envs\\astronet\\lib\\site-packages (from azure-identity) (1.16.0)\n",
      "Requirement already satisfied: cryptography>=2.5 in c:\\users\\phuon\\anaconda3\\envs\\astronet\\lib\\site-packages (from azure-identity) (36.0.1)\n",
      "Requirement already satisfied: requests>=2.18.4 in c:\\users\\phuon\\anaconda3\\envs\\astronet\\lib\\site-packages (from azure-core<2.0.0,>=1.11.0->azure-identity) (2.27.1)\n",
      "Requirement already satisfied: cffi>=1.12 in c:\\users\\phuon\\anaconda3\\envs\\astronet\\lib\\site-packages (from cryptography>=2.5->azure-identity) (1.15.0)\n",
      "Requirement already satisfied: pycparser in c:\\users\\phuon\\anaconda3\\envs\\astronet\\lib\\site-packages (from cffi>=1.12->cryptography>=2.5->azure-identity) (2.21)\n",
      "Requirement already satisfied: PyJWT[crypto]<3,>=1.0.0 in c:\\users\\phuon\\anaconda3\\envs\\astronet\\lib\\site-packages (from msal<2.0.0,>=1.12.0->azure-identity) (2.3.0)\n",
      "Requirement already satisfied: portalocker<3,>=1.6 in c:\\users\\phuon\\anaconda3\\envs\\astronet\\lib\\site-packages (from msal-extensions~=0.3.0->azure-identity) (2.3.2)\n",
      "Requirement already satisfied: pywin32>=226 in c:\\users\\phuon\\anaconda3\\envs\\astronet\\lib\\site-packages (from portalocker<3,>=1.6->msal-extensions~=0.3.0->azure-identity) (303)\n",
      "Requirement already satisfied: charset-normalizer~=2.0.0 in c:\\users\\phuon\\anaconda3\\envs\\astronet\\lib\\site-packages (from requests>=2.18.4->azure-core<2.0.0,>=1.11.0->azure-identity) (2.0.10)\n",
      "Requirement already satisfied: idna<4,>=2.5 in c:\\users\\phuon\\anaconda3\\envs\\astronet\\lib\\site-packages (from requests>=2.18.4->azure-core<2.0.0,>=1.11.0->azure-identity) (3.3)\n",
      "Requirement already satisfied: certifi>=2017.4.17 in c:\\users\\phuon\\anaconda3\\envs\\astronet\\lib\\site-packages (from requests>=2.18.4->azure-core<2.0.0,>=1.11.0->azure-identity) (2021.10.8)\n",
      "Requirement already satisfied: urllib3<1.27,>=1.21.1 in c:\\users\\phuon\\anaconda3\\envs\\astronet\\lib\\site-packages (from requests>=2.18.4->azure-core<2.0.0,>=1.11.0->azure-identity) (1.26.8)\n",
      "Requirement already satisfied: azure-keyvault-secrets in c:\\users\\phuon\\anaconda3\\envs\\astronet\\lib\\site-packages (4.3.0)\n",
      "Requirement already satisfied: azure-core<2.0.0,>=1.7.0 in c:\\users\\phuon\\anaconda3\\envs\\astronet\\lib\\site-packages (from azure-keyvault-secrets) (1.21.1)\n",
      "Requirement already satisfied: msrest>=0.6.21 in c:\\users\\phuon\\anaconda3\\envs\\astronet\\lib\\site-packages (from azure-keyvault-secrets) (0.6.21)\n",
      "Requirement already satisfied: azure-common~=1.1 in c:\\users\\phuon\\anaconda3\\envs\\astronet\\lib\\site-packages (from azure-keyvault-secrets) (1.1.27)\n",
      "Requirement already satisfied: requests>=2.18.4 in c:\\users\\phuon\\anaconda3\\envs\\astronet\\lib\\site-packages (from azure-core<2.0.0,>=1.7.0->azure-keyvault-secrets) (2.27.1)\n",
      "Requirement already satisfied: six>=1.11.0 in c:\\users\\phuon\\anaconda3\\envs\\astronet\\lib\\site-packages (from azure-core<2.0.0,>=1.7.0->azure-keyvault-secrets) (1.16.0)\n",
      "Requirement already satisfied: certifi>=2017.4.17 in c:\\users\\phuon\\anaconda3\\envs\\astronet\\lib\\site-packages (from msrest>=0.6.21->azure-keyvault-secrets) (2021.10.8)\n",
      "Requirement already satisfied: requests-oauthlib>=0.5.0 in c:\\users\\phuon\\anaconda3\\envs\\astronet\\lib\\site-packages (from msrest>=0.6.21->azure-keyvault-secrets) (1.3.0)\n",
      "Requirement already satisfied: isodate>=0.6.0 in c:\\users\\phuon\\anaconda3\\envs\\astronet\\lib\\site-packages (from msrest>=0.6.21->azure-keyvault-secrets) (0.6.1)\n",
      "Requirement already satisfied: charset-normalizer~=2.0.0 in c:\\users\\phuon\\anaconda3\\envs\\astronet\\lib\\site-packages (from requests>=2.18.4->azure-core<2.0.0,>=1.7.0->azure-keyvault-secrets) (2.0.10)\n",
      "Requirement already satisfied: urllib3<1.27,>=1.21.1 in c:\\users\\phuon\\anaconda3\\envs\\astronet\\lib\\site-packages (from requests>=2.18.4->azure-core<2.0.0,>=1.7.0->azure-keyvault-secrets) (1.26.8)\n",
      "Requirement already satisfied: idna<4,>=2.5 in c:\\users\\phuon\\anaconda3\\envs\\astronet\\lib\\site-packages (from requests>=2.18.4->azure-core<2.0.0,>=1.7.0->azure-keyvault-secrets) (3.3)\n",
      "Requirement already satisfied: oauthlib>=3.0.0 in c:\\users\\phuon\\anaconda3\\envs\\astronet\\lib\\site-packages (from requests-oauthlib>=0.5.0->msrest>=0.6.21->azure-keyvault-secrets) (3.1.1)\n",
      "Requirement already satisfied: azure-storage-file-datalake in c:\\users\\phuon\\anaconda3\\envs\\astronet\\lib\\site-packages (12.5.0)\n",
      "Requirement already satisfied: azure-core<2.0.0,>=1.10.0 in c:\\users\\phuon\\anaconda3\\envs\\astronet\\lib\\site-packages (from azure-storage-file-datalake) (1.21.1)\n",
      "Requirement already satisfied: azure-storage-blob<13.0.0,>=12.9.0b1 in c:\\users\\phuon\\anaconda3\\envs\\astronet\\lib\\site-packages (from azure-storage-file-datalake) (12.10.0b2)\n",
      "Requirement already satisfied: msrest>=0.6.21 in c:\\users\\phuon\\anaconda3\\envs\\astronet\\lib\\site-packages (from azure-storage-file-datalake) (0.6.21)\n",
      "Requirement already satisfied: six>=1.11.0 in c:\\users\\phuon\\anaconda3\\envs\\astronet\\lib\\site-packages (from azure-core<2.0.0,>=1.10.0->azure-storage-file-datalake) (1.16.0)\n",
      "Requirement already satisfied: requests>=2.18.4 in c:\\users\\phuon\\anaconda3\\envs\\astronet\\lib\\site-packages (from azure-core<2.0.0,>=1.10.0->azure-storage-file-datalake) (2.27.1)\n",
      "Requirement already satisfied: cryptography>=2.1.4 in c:\\users\\phuon\\anaconda3\\envs\\astronet\\lib\\site-packages (from azure-storage-blob<13.0.0,>=12.9.0b1->azure-storage-file-datalake) (36.0.1)\n",
      "Requirement already satisfied: cffi>=1.12 in c:\\users\\phuon\\anaconda3\\envs\\astronet\\lib\\site-packages (from cryptography>=2.1.4->azure-storage-blob<13.0.0,>=12.9.0b1->azure-storage-file-datalake) (1.15.0)\n",
      "Requirement already satisfied: pycparser in c:\\users\\phuon\\anaconda3\\envs\\astronet\\lib\\site-packages (from cffi>=1.12->cryptography>=2.1.4->azure-storage-blob<13.0.0,>=12.9.0b1->azure-storage-file-datalake) (2.21)\n",
      "Requirement already satisfied: certifi>=2017.4.17 in c:\\users\\phuon\\anaconda3\\envs\\astronet\\lib\\site-packages (from msrest>=0.6.21->azure-storage-file-datalake) (2021.10.8)\n",
      "Requirement already satisfied: requests-oauthlib>=0.5.0 in c:\\users\\phuon\\anaconda3\\envs\\astronet\\lib\\site-packages (from msrest>=0.6.21->azure-storage-file-datalake) (1.3.0)\n",
      "Requirement already satisfied: isodate>=0.6.0 in c:\\users\\phuon\\anaconda3\\envs\\astronet\\lib\\site-packages (from msrest>=0.6.21->azure-storage-file-datalake) (0.6.1)\n",
      "Requirement already satisfied: charset-normalizer~=2.0.0 in c:\\users\\phuon\\anaconda3\\envs\\astronet\\lib\\site-packages (from requests>=2.18.4->azure-core<2.0.0,>=1.10.0->azure-storage-file-datalake) (2.0.10)\n",
      "Requirement already satisfied: urllib3<1.27,>=1.21.1 in c:\\users\\phuon\\anaconda3\\envs\\astronet\\lib\\site-packages (from requests>=2.18.4->azure-core<2.0.0,>=1.10.0->azure-storage-file-datalake) (1.26.8)\n",
      "Requirement already satisfied: idna<4,>=2.5 in c:\\users\\phuon\\anaconda3\\envs\\astronet\\lib\\site-packages (from requests>=2.18.4->azure-core<2.0.0,>=1.10.0->azure-storage-file-datalake) (3.3)\n",
      "Requirement already satisfied: oauthlib>=3.0.0 in c:\\users\\phuon\\anaconda3\\envs\\astronet\\lib\\site-packages (from requests-oauthlib>=0.5.0->msrest>=0.6.21->azure-storage-file-datalake) (3.1.1)\n"
     ]
    }
   ],
   "source": [
    "! python -m pip install azure-identity --upgrade\n",
    "! python -m pip install azure-keyvault-secrets --upgrade\n",
    "! python -m pip install azure-storage-file-datalake --upgrade"
   ]
  },
  {
   "cell_type": "code",
   "execution_count": 3,
   "metadata": {},
   "outputs": [],
   "source": [
    "from azure_utils import KeyVault, DataLake"
   ]
  },
  {
   "cell_type": "markdown",
   "metadata": {},
   "source": [
    "# Prerequisites\n",
    "\n",
    "Details available in Teams OneNote  "
   ]
  },
  {
   "cell_type": "code",
   "execution_count": 4,
   "metadata": {},
   "outputs": [],
   "source": [
    "vault = KeyVault(keyVaultName = \"keyvaultdva2022\")"
   ]
  },
  {
   "cell_type": "markdown",
   "metadata": {},
   "source": [
    "# Read/set secret with Azure KeyVault:"
   ]
  },
  {
   "cell_type": "code",
   "execution_count": 5,
   "metadata": {},
   "outputs": [
    {
     "name": "stderr",
     "output_type": "stream",
     "text": [
      "DefaultAzureCredential failed to retrieve a token from the included credentials.\n",
      "Attempted credentials:\n",
      "\tEnvironmentCredential: Authentication failed: AADSTS7000215: Invalid client secret provided. Ensure the secret being sent in the request is the client secret value, not the client secret ID, for a secret added to app '304a8bfd-de3b-45a7-81a1-6c444372b65f'.\n",
      "Trace ID: 7834aed2-8754-4d83-96c8-9fbc95f00900\n",
      "Correlation ID: b8c8a805-f87c-4a41-bb76-d037d0f01f0e\n",
      "Timestamp: 2022-01-29 01:43:55Z\n",
      "To mitigate this issue, please refer to the troubleshooting guidelines here at https://aka.ms/azsdk/python/identity/defaultazurecredential/troubleshoot.\n"
     ]
    },
    {
     "ename": "ClientAuthenticationError",
     "evalue": "DefaultAzureCredential failed to retrieve a token from the included credentials.\nAttempted credentials:\n\tEnvironmentCredential: Authentication failed: AADSTS7000215: Invalid client secret provided. Ensure the secret being sent in the request is the client secret value, not the client secret ID, for a secret added to app '304a8bfd-de3b-45a7-81a1-6c444372b65f'.\r\nTrace ID: 7834aed2-8754-4d83-96c8-9fbc95f00900\r\nCorrelation ID: b8c8a805-f87c-4a41-bb76-d037d0f01f0e\r\nTimestamp: 2022-01-29 01:43:55Z\nTo mitigate this issue, please refer to the troubleshooting guidelines here at https://aka.ms/azsdk/python/identity/defaultazurecredential/troubleshoot.",
     "output_type": "error",
     "traceback": [
      "\u001b[1;31m---------------------------------------------------------------------------\u001b[0m",
      "\u001b[1;31mClientAuthenticationError\u001b[0m                 Traceback (most recent call last)",
      "Input \u001b[1;32mIn [5]\u001b[0m, in \u001b[0;36m<module>\u001b[1;34m\u001b[0m\n\u001b[1;32m----> 1\u001b[0m secret \u001b[38;5;241m=\u001b[39m \u001b[43mvault\u001b[49m\u001b[38;5;241;43m.\u001b[39;49m\u001b[43mget_secret\u001b[49m\u001b[43m(\u001b[49m\u001b[43msecretName\u001b[49m\u001b[43m \u001b[49m\u001b[38;5;241;43m=\u001b[39;49m\u001b[43m \u001b[49m\u001b[38;5;124;43m\"\u001b[39;49m\u001b[38;5;124;43mtest\u001b[39;49m\u001b[38;5;124;43m\"\u001b[39;49m\u001b[43m)\u001b[49m\n\u001b[0;32m      2\u001b[0m \u001b[38;5;28mprint\u001b[39m(secret)\n",
      "File \u001b[1;32mc:\\Users\\phuon\\Documents\\Projects\\project\\utils\\azure_utils.py:34\u001b[0m, in \u001b[0;36mKeyVault.get_secret\u001b[1;34m(self, secretName)\u001b[0m\n\u001b[0;32m     31\u001b[0m \u001b[38;5;28;01mdef\u001b[39;00m \u001b[38;5;21mget_secret\u001b[39m(\u001b[38;5;28mself\u001b[39m, secretName: \u001b[38;5;28mstr\u001b[39m) \u001b[38;5;241m-\u001b[39m\u001b[38;5;241m>\u001b[39m \u001b[38;5;28mstr\u001b[39m:\n\u001b[0;32m     32\u001b[0m     \u001b[38;5;124;03m\"\"\"Get KeyVault secret\"\"\"\u001b[39;00m\n\u001b[1;32m---> 34\u001b[0m     secret \u001b[38;5;241m=\u001b[39m \u001b[38;5;28;43mself\u001b[39;49m\u001b[38;5;241;43m.\u001b[39;49m\u001b[43mclient\u001b[49m\u001b[38;5;241;43m.\u001b[39;49m\u001b[43mget_secret\u001b[49m\u001b[43m(\u001b[49m\u001b[43msecretName\u001b[49m\u001b[43m)\u001b[49m\u001b[38;5;241m.\u001b[39mvalue\n\u001b[0;32m     36\u001b[0m     \u001b[38;5;28;01mreturn\u001b[39;00m secret\n",
      "File \u001b[1;32m~\\anaconda3\\envs\\astronet\\lib\\site-packages\\azure\\core\\tracing\\decorator.py:83\u001b[0m, in \u001b[0;36mdistributed_trace.<locals>.decorator.<locals>.wrapper_use_tracer\u001b[1;34m(*args, **kwargs)\u001b[0m\n\u001b[0;32m     81\u001b[0m span_impl_type \u001b[38;5;241m=\u001b[39m settings\u001b[38;5;241m.\u001b[39mtracing_implementation()\n\u001b[0;32m     82\u001b[0m \u001b[38;5;28;01mif\u001b[39;00m span_impl_type \u001b[38;5;129;01mis\u001b[39;00m \u001b[38;5;28;01mNone\u001b[39;00m:\n\u001b[1;32m---> 83\u001b[0m     \u001b[38;5;28;01mreturn\u001b[39;00m func(\u001b[38;5;241m*\u001b[39margs, \u001b[38;5;241m*\u001b[39m\u001b[38;5;241m*\u001b[39mkwargs)\n\u001b[0;32m     85\u001b[0m \u001b[38;5;66;03m# Merge span is parameter is set, but only if no explicit parent are passed\u001b[39;00m\n\u001b[0;32m     86\u001b[0m \u001b[38;5;28;01mif\u001b[39;00m merge_span \u001b[38;5;129;01mand\u001b[39;00m \u001b[38;5;129;01mnot\u001b[39;00m passed_in_parent:\n",
      "File \u001b[1;32m~\\anaconda3\\envs\\astronet\\lib\\site-packages\\azure\\keyvault\\secrets\\_client.py:67\u001b[0m, in \u001b[0;36mSecretClient.get_secret\u001b[1;34m(self, name, version, **kwargs)\u001b[0m\n\u001b[0;32m     47\u001b[0m \u001b[38;5;129m@distributed_trace\u001b[39m\n\u001b[0;32m     48\u001b[0m \u001b[38;5;28;01mdef\u001b[39;00m \u001b[38;5;21mget_secret\u001b[39m(\u001b[38;5;28mself\u001b[39m, name, version\u001b[38;5;241m=\u001b[39m\u001b[38;5;28;01mNone\u001b[39;00m, \u001b[38;5;241m*\u001b[39m\u001b[38;5;241m*\u001b[39mkwargs):\n\u001b[0;32m     49\u001b[0m     \u001b[38;5;66;03m# type: (str, str, **Any) -> KeyVaultSecret\u001b[39;00m\n\u001b[0;32m     50\u001b[0m     \u001b[38;5;124;03m\"\"\"Get a secret. Requires the secrets/get permission.\u001b[39;00m\n\u001b[0;32m     51\u001b[0m \n\u001b[0;32m     52\u001b[0m \u001b[38;5;124;03m    :param str name: The name of the secret\u001b[39;00m\n\u001b[1;32m   (...)\u001b[0m\n\u001b[0;32m     65\u001b[0m \u001b[38;5;124;03m            :dedent: 8\u001b[39;00m\n\u001b[0;32m     66\u001b[0m \u001b[38;5;124;03m    \"\"\"\u001b[39;00m\n\u001b[1;32m---> 67\u001b[0m     bundle \u001b[38;5;241m=\u001b[39m \u001b[38;5;28mself\u001b[39m\u001b[38;5;241m.\u001b[39m_client\u001b[38;5;241m.\u001b[39mget_secret(\n\u001b[0;32m     68\u001b[0m         vault_base_url\u001b[38;5;241m=\u001b[39m\u001b[38;5;28mself\u001b[39m\u001b[38;5;241m.\u001b[39m_vault_url,\n\u001b[0;32m     69\u001b[0m         secret_name\u001b[38;5;241m=\u001b[39mname,\n\u001b[0;32m     70\u001b[0m         secret_version\u001b[38;5;241m=\u001b[39mversion \u001b[38;5;129;01mor\u001b[39;00m \u001b[38;5;124m\"\u001b[39m\u001b[38;5;124m\"\u001b[39m,\n\u001b[0;32m     71\u001b[0m         error_map\u001b[38;5;241m=\u001b[39m_error_map,\n\u001b[0;32m     72\u001b[0m         \u001b[38;5;241m*\u001b[39m\u001b[38;5;241m*\u001b[39mkwargs\n\u001b[0;32m     73\u001b[0m     )\n\u001b[0;32m     74\u001b[0m     \u001b[38;5;28;01mreturn\u001b[39;00m KeyVaultSecret\u001b[38;5;241m.\u001b[39m_from_secret_bundle(bundle)\n",
      "File \u001b[1;32m~\\anaconda3\\envs\\astronet\\lib\\site-packages\\azure\\keyvault\\secrets\\_generated\\_operations_mixin.py:1515\u001b[0m, in \u001b[0;36mKeyVaultClientOperationsMixin.get_secret\u001b[1;34m(self, vault_base_url, secret_name, secret_version, **kwargs)\u001b[0m\n\u001b[0;32m   1513\u001b[0m mixin_instance\u001b[38;5;241m.\u001b[39m_serialize\u001b[38;5;241m.\u001b[39mclient_side_validation \u001b[38;5;241m=\u001b[39m \u001b[38;5;28;01mFalse\u001b[39;00m\n\u001b[0;32m   1514\u001b[0m mixin_instance\u001b[38;5;241m.\u001b[39m_deserialize \u001b[38;5;241m=\u001b[39m Deserializer(\u001b[38;5;28mself\u001b[39m\u001b[38;5;241m.\u001b[39m_models_dict(api_version))\n\u001b[1;32m-> 1515\u001b[0m \u001b[38;5;28;01mreturn\u001b[39;00m mixin_instance\u001b[38;5;241m.\u001b[39mget_secret(vault_base_url, secret_name, secret_version, \u001b[38;5;241m*\u001b[39m\u001b[38;5;241m*\u001b[39mkwargs)\n",
      "File \u001b[1;32m~\\anaconda3\\envs\\astronet\\lib\\site-packages\\azure\\keyvault\\secrets\\_generated\\v7_2\\operations\\_key_vault_client_operations.py:286\u001b[0m, in \u001b[0;36mKeyVaultClientOperationsMixin.get_secret\u001b[1;34m(self, vault_base_url, secret_name, secret_version, **kwargs)\u001b[0m\n\u001b[0;32m    283\u001b[0m header_parameters[\u001b[38;5;124m'\u001b[39m\u001b[38;5;124mAccept\u001b[39m\u001b[38;5;124m'\u001b[39m] \u001b[38;5;241m=\u001b[39m \u001b[38;5;28mself\u001b[39m\u001b[38;5;241m.\u001b[39m_serialize\u001b[38;5;241m.\u001b[39mheader(\u001b[38;5;124m\"\u001b[39m\u001b[38;5;124maccept\u001b[39m\u001b[38;5;124m\"\u001b[39m, accept, \u001b[38;5;124m'\u001b[39m\u001b[38;5;124mstr\u001b[39m\u001b[38;5;124m'\u001b[39m)\n\u001b[0;32m    285\u001b[0m request \u001b[38;5;241m=\u001b[39m \u001b[38;5;28mself\u001b[39m\u001b[38;5;241m.\u001b[39m_client\u001b[38;5;241m.\u001b[39mget(url, query_parameters, header_parameters)\n\u001b[1;32m--> 286\u001b[0m pipeline_response \u001b[38;5;241m=\u001b[39m \u001b[38;5;28mself\u001b[39m\u001b[38;5;241m.\u001b[39m_client\u001b[38;5;241m.\u001b[39m_pipeline\u001b[38;5;241m.\u001b[39mrun(request, stream\u001b[38;5;241m=\u001b[39m\u001b[38;5;28;01mFalse\u001b[39;00m, \u001b[38;5;241m*\u001b[39m\u001b[38;5;241m*\u001b[39mkwargs)\n\u001b[0;32m    287\u001b[0m response \u001b[38;5;241m=\u001b[39m pipeline_response\u001b[38;5;241m.\u001b[39mhttp_response\n\u001b[0;32m    289\u001b[0m \u001b[38;5;28;01mif\u001b[39;00m response\u001b[38;5;241m.\u001b[39mstatus_code \u001b[38;5;129;01mnot\u001b[39;00m \u001b[38;5;129;01min\u001b[39;00m [\u001b[38;5;241m200\u001b[39m]:\n",
      "File \u001b[1;32m~\\anaconda3\\envs\\astronet\\lib\\site-packages\\azure\\core\\pipeline\\_base.py:211\u001b[0m, in \u001b[0;36mPipeline.run\u001b[1;34m(self, request, **kwargs)\u001b[0m\n\u001b[0;32m    203\u001b[0m pipeline_request \u001b[38;5;241m=\u001b[39m PipelineRequest(\n\u001b[0;32m    204\u001b[0m     request, context\n\u001b[0;32m    205\u001b[0m )  \u001b[38;5;66;03m# type: PipelineRequest[HTTPRequestType]\u001b[39;00m\n\u001b[0;32m    206\u001b[0m first_node \u001b[38;5;241m=\u001b[39m (\n\u001b[0;32m    207\u001b[0m     \u001b[38;5;28mself\u001b[39m\u001b[38;5;241m.\u001b[39m_impl_policies[\u001b[38;5;241m0\u001b[39m]\n\u001b[0;32m    208\u001b[0m     \u001b[38;5;28;01mif\u001b[39;00m \u001b[38;5;28mself\u001b[39m\u001b[38;5;241m.\u001b[39m_impl_policies\n\u001b[0;32m    209\u001b[0m     \u001b[38;5;28;01melse\u001b[39;00m _TransportRunner(\u001b[38;5;28mself\u001b[39m\u001b[38;5;241m.\u001b[39m_transport)\n\u001b[0;32m    210\u001b[0m )\n\u001b[1;32m--> 211\u001b[0m \u001b[38;5;28;01mreturn\u001b[39;00m \u001b[43mfirst_node\u001b[49m\u001b[38;5;241;43m.\u001b[39;49m\u001b[43msend\u001b[49m\u001b[43m(\u001b[49m\u001b[43mpipeline_request\u001b[49m\u001b[43m)\u001b[49m\n",
      "File \u001b[1;32m~\\anaconda3\\envs\\astronet\\lib\\site-packages\\azure\\core\\pipeline\\_base.py:71\u001b[0m, in \u001b[0;36m_SansIOHTTPPolicyRunner.send\u001b[1;34m(self, request)\u001b[0m\n\u001b[0;32m     69\u001b[0m _await_result(\u001b[38;5;28mself\u001b[39m\u001b[38;5;241m.\u001b[39m_policy\u001b[38;5;241m.\u001b[39mon_request, request)\n\u001b[0;32m     70\u001b[0m \u001b[38;5;28;01mtry\u001b[39;00m:\n\u001b[1;32m---> 71\u001b[0m     response \u001b[38;5;241m=\u001b[39m \u001b[38;5;28;43mself\u001b[39;49m\u001b[38;5;241;43m.\u001b[39;49m\u001b[43mnext\u001b[49m\u001b[38;5;241;43m.\u001b[39;49m\u001b[43msend\u001b[49m\u001b[43m(\u001b[49m\u001b[43mrequest\u001b[49m\u001b[43m)\u001b[49m\n\u001b[0;32m     72\u001b[0m \u001b[38;5;28;01mexcept\u001b[39;00m \u001b[38;5;167;01mException\u001b[39;00m:  \u001b[38;5;66;03m# pylint: disable=broad-except\u001b[39;00m\n\u001b[0;32m     73\u001b[0m     _await_result(\u001b[38;5;28mself\u001b[39m\u001b[38;5;241m.\u001b[39m_policy\u001b[38;5;241m.\u001b[39mon_exception, request)\n",
      "File \u001b[1;32m~\\anaconda3\\envs\\astronet\\lib\\site-packages\\azure\\core\\pipeline\\_base.py:71\u001b[0m, in \u001b[0;36m_SansIOHTTPPolicyRunner.send\u001b[1;34m(self, request)\u001b[0m\n\u001b[0;32m     69\u001b[0m _await_result(\u001b[38;5;28mself\u001b[39m\u001b[38;5;241m.\u001b[39m_policy\u001b[38;5;241m.\u001b[39mon_request, request)\n\u001b[0;32m     70\u001b[0m \u001b[38;5;28;01mtry\u001b[39;00m:\n\u001b[1;32m---> 71\u001b[0m     response \u001b[38;5;241m=\u001b[39m \u001b[38;5;28;43mself\u001b[39;49m\u001b[38;5;241;43m.\u001b[39;49m\u001b[43mnext\u001b[49m\u001b[38;5;241;43m.\u001b[39;49m\u001b[43msend\u001b[49m\u001b[43m(\u001b[49m\u001b[43mrequest\u001b[49m\u001b[43m)\u001b[49m\n\u001b[0;32m     72\u001b[0m \u001b[38;5;28;01mexcept\u001b[39;00m \u001b[38;5;167;01mException\u001b[39;00m:  \u001b[38;5;66;03m# pylint: disable=broad-except\u001b[39;00m\n\u001b[0;32m     73\u001b[0m     _await_result(\u001b[38;5;28mself\u001b[39m\u001b[38;5;241m.\u001b[39m_policy\u001b[38;5;241m.\u001b[39mon_exception, request)\n",
      "    \u001b[1;31m[... skipping similar frames: _SansIOHTTPPolicyRunner.send at line 71 (2 times)]\u001b[0m\n",
      "File \u001b[1;32m~\\anaconda3\\envs\\astronet\\lib\\site-packages\\azure\\core\\pipeline\\_base.py:71\u001b[0m, in \u001b[0;36m_SansIOHTTPPolicyRunner.send\u001b[1;34m(self, request)\u001b[0m\n\u001b[0;32m     69\u001b[0m _await_result(\u001b[38;5;28mself\u001b[39m\u001b[38;5;241m.\u001b[39m_policy\u001b[38;5;241m.\u001b[39mon_request, request)\n\u001b[0;32m     70\u001b[0m \u001b[38;5;28;01mtry\u001b[39;00m:\n\u001b[1;32m---> 71\u001b[0m     response \u001b[38;5;241m=\u001b[39m \u001b[38;5;28;43mself\u001b[39;49m\u001b[38;5;241;43m.\u001b[39;49m\u001b[43mnext\u001b[49m\u001b[38;5;241;43m.\u001b[39;49m\u001b[43msend\u001b[49m\u001b[43m(\u001b[49m\u001b[43mrequest\u001b[49m\u001b[43m)\u001b[49m\n\u001b[0;32m     72\u001b[0m \u001b[38;5;28;01mexcept\u001b[39;00m \u001b[38;5;167;01mException\u001b[39;00m:  \u001b[38;5;66;03m# pylint: disable=broad-except\u001b[39;00m\n\u001b[0;32m     73\u001b[0m     _await_result(\u001b[38;5;28mself\u001b[39m\u001b[38;5;241m.\u001b[39m_policy\u001b[38;5;241m.\u001b[39mon_exception, request)\n",
      "File \u001b[1;32m~\\anaconda3\\envs\\astronet\\lib\\site-packages\\azure\\core\\pipeline\\policies\\_redirect.py:158\u001b[0m, in \u001b[0;36mRedirectPolicy.send\u001b[1;34m(self, request)\u001b[0m\n\u001b[0;32m    156\u001b[0m redirect_settings \u001b[38;5;241m=\u001b[39m \u001b[38;5;28mself\u001b[39m\u001b[38;5;241m.\u001b[39mconfigure_redirects(request\u001b[38;5;241m.\u001b[39mcontext\u001b[38;5;241m.\u001b[39moptions)\n\u001b[0;32m    157\u001b[0m \u001b[38;5;28;01mwhile\u001b[39;00m retryable:\n\u001b[1;32m--> 158\u001b[0m     response \u001b[38;5;241m=\u001b[39m \u001b[38;5;28;43mself\u001b[39;49m\u001b[38;5;241;43m.\u001b[39;49m\u001b[43mnext\u001b[49m\u001b[38;5;241;43m.\u001b[39;49m\u001b[43msend\u001b[49m\u001b[43m(\u001b[49m\u001b[43mrequest\u001b[49m\u001b[43m)\u001b[49m\n\u001b[0;32m    159\u001b[0m     redirect_location \u001b[38;5;241m=\u001b[39m \u001b[38;5;28mself\u001b[39m\u001b[38;5;241m.\u001b[39mget_redirect_location(response)\n\u001b[0;32m    160\u001b[0m     \u001b[38;5;28;01mif\u001b[39;00m redirect_location \u001b[38;5;129;01mand\u001b[39;00m redirect_settings[\u001b[38;5;124m'\u001b[39m\u001b[38;5;124mallow\u001b[39m\u001b[38;5;124m'\u001b[39m]:\n",
      "File \u001b[1;32m~\\anaconda3\\envs\\astronet\\lib\\site-packages\\azure\\core\\pipeline\\policies\\_retry.py:445\u001b[0m, in \u001b[0;36mRetryPolicy.send\u001b[1;34m(self, request)\u001b[0m\n\u001b[0;32m    443\u001b[0m start_time \u001b[38;5;241m=\u001b[39m time\u001b[38;5;241m.\u001b[39mtime()\n\u001b[0;32m    444\u001b[0m \u001b[38;5;28mself\u001b[39m\u001b[38;5;241m.\u001b[39m_configure_timeout(request, absolute_timeout, is_response_error)\n\u001b[1;32m--> 445\u001b[0m response \u001b[38;5;241m=\u001b[39m \u001b[38;5;28;43mself\u001b[39;49m\u001b[38;5;241;43m.\u001b[39;49m\u001b[43mnext\u001b[49m\u001b[38;5;241;43m.\u001b[39;49m\u001b[43msend\u001b[49m\u001b[43m(\u001b[49m\u001b[43mrequest\u001b[49m\u001b[43m)\u001b[49m\n\u001b[0;32m    446\u001b[0m \u001b[38;5;28;01mif\u001b[39;00m \u001b[38;5;28mself\u001b[39m\u001b[38;5;241m.\u001b[39mis_retry(retry_settings, response):\n\u001b[0;32m    447\u001b[0m     retry_active \u001b[38;5;241m=\u001b[39m \u001b[38;5;28mself\u001b[39m\u001b[38;5;241m.\u001b[39mincrement(retry_settings, response\u001b[38;5;241m=\u001b[39mresponse)\n",
      "File \u001b[1;32m~\\anaconda3\\envs\\astronet\\lib\\site-packages\\azure\\keyvault\\secrets\\_shared\\challenge_auth_policy.py:111\u001b[0m, in \u001b[0;36mChallengeAuthPolicy.send\u001b[1;34m(self, request)\u001b[0m\n\u001b[0;32m    107\u001b[0m     \u001b[38;5;28;01mexcept\u001b[39;00m \u001b[38;5;167;01mValueError\u001b[39;00m:\n\u001b[0;32m    108\u001b[0m         \u001b[38;5;66;03m# didn't receive the expected challenge -> nothing more this policy can do\u001b[39;00m\n\u001b[0;32m    109\u001b[0m         \u001b[38;5;28;01mreturn\u001b[39;00m challenger\n\u001b[1;32m--> 111\u001b[0m \u001b[38;5;28;43mself\u001b[39;49m\u001b[38;5;241;43m.\u001b[39;49m\u001b[43m_handle_challenge\u001b[49m\u001b[43m(\u001b[49m\u001b[43mrequest\u001b[49m\u001b[43m,\u001b[49m\u001b[43m \u001b[49m\u001b[43mchallenge\u001b[49m\u001b[43m)\u001b[49m\n\u001b[0;32m    112\u001b[0m response \u001b[38;5;241m=\u001b[39m \u001b[38;5;28mself\u001b[39m\u001b[38;5;241m.\u001b[39mnext\u001b[38;5;241m.\u001b[39msend(request)\n\u001b[0;32m    114\u001b[0m \u001b[38;5;28;01mif\u001b[39;00m response\u001b[38;5;241m.\u001b[39mhttp_response\u001b[38;5;241m.\u001b[39mstatus_code \u001b[38;5;241m==\u001b[39m \u001b[38;5;241m401\u001b[39m:\n\u001b[0;32m    115\u001b[0m     \u001b[38;5;66;03m# any cached token must be invalid\u001b[39;00m\n",
      "File \u001b[1;32m~\\anaconda3\\envs\\astronet\\lib\\site-packages\\azure\\keyvault\\secrets\\_shared\\challenge_auth_policy.py:137\u001b[0m, in \u001b[0;36mChallengeAuthPolicy._handle_challenge\u001b[1;34m(self, request, challenge)\u001b[0m\n\u001b[0;32m    134\u001b[0m \u001b[38;5;28;01mif\u001b[39;00m \u001b[38;5;28mself\u001b[39m\u001b[38;5;241m.\u001b[39m_need_new_token:\n\u001b[0;32m    135\u001b[0m     \u001b[38;5;66;03m# azure-identity credentials require an AADv2 scope but the challenge may specify an AADv1 resource\u001b[39;00m\n\u001b[0;32m    136\u001b[0m     scope \u001b[38;5;241m=\u001b[39m challenge\u001b[38;5;241m.\u001b[39mget_scope() \u001b[38;5;129;01mor\u001b[39;00m challenge\u001b[38;5;241m.\u001b[39mget_resource() \u001b[38;5;241m+\u001b[39m \u001b[38;5;124m\"\u001b[39m\u001b[38;5;124m/.default\u001b[39m\u001b[38;5;124m\"\u001b[39m\n\u001b[1;32m--> 137\u001b[0m     \u001b[38;5;28mself\u001b[39m\u001b[38;5;241m.\u001b[39m_token \u001b[38;5;241m=\u001b[39m \u001b[38;5;28;43mself\u001b[39;49m\u001b[38;5;241;43m.\u001b[39;49m\u001b[43m_credential\u001b[49m\u001b[38;5;241;43m.\u001b[39;49m\u001b[43mget_token\u001b[49m\u001b[43m(\u001b[49m\u001b[43mscope\u001b[49m\u001b[43m)\u001b[49m\n\u001b[0;32m    139\u001b[0m \u001b[38;5;66;03m# ignore mypy's warning because although self._token is Optional, get_token raises when it fails to get a token\u001b[39;00m\n\u001b[0;32m    140\u001b[0m request\u001b[38;5;241m.\u001b[39mhttp_request\u001b[38;5;241m.\u001b[39mheaders[\u001b[38;5;124m\"\u001b[39m\u001b[38;5;124mAuthorization\u001b[39m\u001b[38;5;124m\"\u001b[39m] \u001b[38;5;241m=\u001b[39m \u001b[38;5;124m\"\u001b[39m\u001b[38;5;124mBearer \u001b[39m\u001b[38;5;132;01m{}\u001b[39;00m\u001b[38;5;124m\"\u001b[39m\u001b[38;5;241m.\u001b[39mformat(\u001b[38;5;28mself\u001b[39m\u001b[38;5;241m.\u001b[39m_token\u001b[38;5;241m.\u001b[39mtoken)\n",
      "File \u001b[1;32m~\\anaconda3\\envs\\astronet\\lib\\site-packages\\azure\\identity\\_credentials\\default.py:172\u001b[0m, in \u001b[0;36mDefaultAzureCredential.get_token\u001b[1;34m(self, *scopes, **kwargs)\u001b[0m\n\u001b[0;32m    167\u001b[0m     _LOGGER\u001b[38;5;241m.\u001b[39minfo(\n\u001b[0;32m    168\u001b[0m         \u001b[38;5;124m\"\u001b[39m\u001b[38;5;132;01m%s\u001b[39;00m\u001b[38;5;124m acquired a token from \u001b[39m\u001b[38;5;132;01m%s\u001b[39;00m\u001b[38;5;124m\"\u001b[39m, \u001b[38;5;28mself\u001b[39m\u001b[38;5;241m.\u001b[39m\u001b[38;5;18m__class__\u001b[39m\u001b[38;5;241m.\u001b[39m\u001b[38;5;18m__name__\u001b[39m, \u001b[38;5;28mself\u001b[39m\u001b[38;5;241m.\u001b[39m_successful_credential\u001b[38;5;241m.\u001b[39m\u001b[38;5;18m__class__\u001b[39m\u001b[38;5;241m.\u001b[39m\u001b[38;5;18m__name__\u001b[39m\n\u001b[0;32m    169\u001b[0m     )\n\u001b[0;32m    170\u001b[0m     \u001b[38;5;28;01mreturn\u001b[39;00m token\n\u001b[1;32m--> 172\u001b[0m \u001b[38;5;28;01mreturn\u001b[39;00m \u001b[38;5;28msuper\u001b[39m(DefaultAzureCredential, \u001b[38;5;28mself\u001b[39m)\u001b[38;5;241m.\u001b[39mget_token(\u001b[38;5;241m*\u001b[39mscopes, \u001b[38;5;241m*\u001b[39m\u001b[38;5;241m*\u001b[39mkwargs)\n",
      "File \u001b[1;32m~\\anaconda3\\envs\\astronet\\lib\\site-packages\\azure\\identity\\_credentials\\chained.py:108\u001b[0m, in \u001b[0;36mChainedTokenCredential.get_token\u001b[1;34m(self, *scopes, **kwargs)\u001b[0m\n\u001b[0;32m    104\u001b[0m message \u001b[38;5;241m=\u001b[39m \u001b[38;5;28mself\u001b[39m\u001b[38;5;241m.\u001b[39m\u001b[38;5;18m__class__\u001b[39m\u001b[38;5;241m.\u001b[39m\u001b[38;5;18m__name__\u001b[39m \u001b[38;5;241m+\u001b[39m \u001b[38;5;124m\"\u001b[39m\u001b[38;5;124m failed to retrieve a token from the included credentials.\u001b[39m\u001b[38;5;124m\"\u001b[39m \u001b[38;5;241m+\u001b[39m attempts \\\n\u001b[0;32m    105\u001b[0m           \u001b[38;5;241m+\u001b[39m \u001b[38;5;124m\"\u001b[39m\u001b[38;5;130;01m\\n\u001b[39;00m\u001b[38;5;124mTo mitigate this issue, please refer to the troubleshooting guidelines here at \u001b[39m\u001b[38;5;124m\"\u001b[39m \\\n\u001b[0;32m    106\u001b[0m             \u001b[38;5;124m\"\u001b[39m\u001b[38;5;124mhttps://aka.ms/azsdk/python/identity/defaultazurecredential/troubleshoot.\u001b[39m\u001b[38;5;124m\"\u001b[39m\n\u001b[0;32m    107\u001b[0m _LOGGER\u001b[38;5;241m.\u001b[39mwarning(message)\n\u001b[1;32m--> 108\u001b[0m \u001b[38;5;28;01mraise\u001b[39;00m ClientAuthenticationError(message\u001b[38;5;241m=\u001b[39mmessage)\n",
      "\u001b[1;31mClientAuthenticationError\u001b[0m: DefaultAzureCredential failed to retrieve a token from the included credentials.\nAttempted credentials:\n\tEnvironmentCredential: Authentication failed: AADSTS7000215: Invalid client secret provided. Ensure the secret being sent in the request is the client secret value, not the client secret ID, for a secret added to app '304a8bfd-de3b-45a7-81a1-6c444372b65f'.\r\nTrace ID: 7834aed2-8754-4d83-96c8-9fbc95f00900\r\nCorrelation ID: b8c8a805-f87c-4a41-bb76-d037d0f01f0e\r\nTimestamp: 2022-01-29 01:43:55Z\nTo mitigate this issue, please refer to the troubleshooting guidelines here at https://aka.ms/azsdk/python/identity/defaultazurecredential/troubleshoot."
     ]
    }
   ],
   "source": [
    "secret = vault.get_secret(secretName = \"test\")\n",
    "print(secret)"
   ]
  },
  {
   "cell_type": "code",
   "execution_count": null,
   "metadata": {},
   "outputs": [
    {
     "name": "stdout",
     "output_type": "stream",
     "text": [
      "Credential set\n",
      "12345678\n"
     ]
    }
   ],
   "source": [
    "vault.set_secret(secretName = \"test\", secretValue = 12345678)\n",
    "secret = vault.get_secret(secretName = \"test\")\n",
    "print(secret)"
   ]
  },
  {
   "cell_type": "markdown",
   "metadata": {},
   "source": [
    "# Azure DataLake"
   ]
  },
  {
   "cell_type": "code",
   "execution_count": null,
   "metadata": {},
   "outputs": [],
   "source": [
    "vault = KeyVault(keyVaultName = \"keyvaultdva2022\")\n",
    "storage_credential = vault.get_secret(secretName = \"storagePrimaryKey\")"
   ]
  },
  {
   "cell_type": "code",
   "execution_count": null,
   "metadata": {},
   "outputs": [],
   "source": [
    "# Connect to storage:\n",
    "storage = DataLake(account_name = \"storageaccountdva\", credential = storage_credential)"
   ]
  },
  {
   "cell_type": "code",
   "execution_count": null,
   "metadata": {},
   "outputs": [],
   "source": [
    "# Create a dummy table:\n",
    "import pandas as pd\n",
    "\n",
    "df = pd.DataFrame(columns = [\"col1\"])\n",
    "df[\"col1\"] = range(10)"
   ]
  },
  {
   "cell_type": "code",
   "execution_count": null,
   "metadata": {},
   "outputs": [
    {
     "data": {
      "text/html": [
       "<div>\n",
       "<style scoped>\n",
       "    .dataframe tbody tr th:only-of-type {\n",
       "        vertical-align: middle;\n",
       "    }\n",
       "\n",
       "    .dataframe tbody tr th {\n",
       "        vertical-align: top;\n",
       "    }\n",
       "\n",
       "    .dataframe thead th {\n",
       "        text-align: right;\n",
       "    }\n",
       "</style>\n",
       "<table border=\"1\" class=\"dataframe\">\n",
       "  <thead>\n",
       "    <tr style=\"text-align: right;\">\n",
       "      <th></th>\n",
       "      <th>col1</th>\n",
       "    </tr>\n",
       "  </thead>\n",
       "  <tbody>\n",
       "    <tr>\n",
       "      <th>0</th>\n",
       "      <td>0</td>\n",
       "    </tr>\n",
       "    <tr>\n",
       "      <th>1</th>\n",
       "      <td>1</td>\n",
       "    </tr>\n",
       "    <tr>\n",
       "      <th>2</th>\n",
       "      <td>2</td>\n",
       "    </tr>\n",
       "    <tr>\n",
       "      <th>3</th>\n",
       "      <td>3</td>\n",
       "    </tr>\n",
       "    <tr>\n",
       "      <th>4</th>\n",
       "      <td>4</td>\n",
       "    </tr>\n",
       "    <tr>\n",
       "      <th>5</th>\n",
       "      <td>5</td>\n",
       "    </tr>\n",
       "    <tr>\n",
       "      <th>6</th>\n",
       "      <td>6</td>\n",
       "    </tr>\n",
       "    <tr>\n",
       "      <th>7</th>\n",
       "      <td>7</td>\n",
       "    </tr>\n",
       "    <tr>\n",
       "      <th>8</th>\n",
       "      <td>8</td>\n",
       "    </tr>\n",
       "    <tr>\n",
       "      <th>9</th>\n",
       "      <td>9</td>\n",
       "    </tr>\n",
       "  </tbody>\n",
       "</table>\n",
       "</div>"
      ],
      "text/plain": [
       "   col1\n",
       "0     0\n",
       "1     1\n",
       "2     2\n",
       "3     3\n",
       "4     4\n",
       "5     5\n",
       "6     6\n",
       "7     7\n",
       "8     8\n",
       "9     9"
      ]
     },
     "execution_count": 10,
     "metadata": {},
     "output_type": "execute_result"
    }
   ],
   "source": [
    "df"
   ]
  },
  {
   "cell_type": "code",
   "execution_count": null,
   "metadata": {},
   "outputs": [
    {
     "name": "stdout",
     "output_type": "stream",
     "text": [
      "test.csv write complete\n"
     ]
    }
   ],
   "source": [
    "# Write to storage:\n",
    "storage.write(file_system = \"test\", directory = \"test\", file=df, file_name = \"test.csv\", extension=\"csv\", overwrite = True)"
   ]
  },
  {
   "cell_type": "code",
   "execution_count": null,
   "metadata": {},
   "outputs": [],
   "source": [
    "# read from storage:\n",
    "df = storage.read(file_system = \"test\", directory = \"test\", file_name = \"test.csv\", extension = \"csv\")"
   ]
  },
  {
   "cell_type": "code",
   "execution_count": null,
   "metadata": {},
   "outputs": [
    {
     "data": {
      "text/html": [
       "<div>\n",
       "<style scoped>\n",
       "    .dataframe tbody tr th:only-of-type {\n",
       "        vertical-align: middle;\n",
       "    }\n",
       "\n",
       "    .dataframe tbody tr th {\n",
       "        vertical-align: top;\n",
       "    }\n",
       "\n",
       "    .dataframe thead th {\n",
       "        text-align: right;\n",
       "    }\n",
       "</style>\n",
       "<table border=\"1\" class=\"dataframe\">\n",
       "  <thead>\n",
       "    <tr style=\"text-align: right;\">\n",
       "      <th></th>\n",
       "      <th>col1</th>\n",
       "    </tr>\n",
       "  </thead>\n",
       "  <tbody>\n",
       "    <tr>\n",
       "      <th>0</th>\n",
       "      <td>0</td>\n",
       "    </tr>\n",
       "    <tr>\n",
       "      <th>1</th>\n",
       "      <td>1</td>\n",
       "    </tr>\n",
       "    <tr>\n",
       "      <th>2</th>\n",
       "      <td>2</td>\n",
       "    </tr>\n",
       "    <tr>\n",
       "      <th>3</th>\n",
       "      <td>3</td>\n",
       "    </tr>\n",
       "    <tr>\n",
       "      <th>4</th>\n",
       "      <td>4</td>\n",
       "    </tr>\n",
       "    <tr>\n",
       "      <th>5</th>\n",
       "      <td>5</td>\n",
       "    </tr>\n",
       "    <tr>\n",
       "      <th>6</th>\n",
       "      <td>6</td>\n",
       "    </tr>\n",
       "    <tr>\n",
       "      <th>7</th>\n",
       "      <td>7</td>\n",
       "    </tr>\n",
       "    <tr>\n",
       "      <th>8</th>\n",
       "      <td>8</td>\n",
       "    </tr>\n",
       "    <tr>\n",
       "      <th>9</th>\n",
       "      <td>9</td>\n",
       "    </tr>\n",
       "  </tbody>\n",
       "</table>\n",
       "</div>"
      ],
      "text/plain": [
       "   col1\n",
       "0     0\n",
       "1     1\n",
       "2     2\n",
       "3     3\n",
       "4     4\n",
       "5     5\n",
       "6     6\n",
       "7     7\n",
       "8     8\n",
       "9     9"
      ]
     },
     "execution_count": 13,
     "metadata": {},
     "output_type": "execute_result"
    }
   ],
   "source": [
    "df"
   ]
  },
  {
   "cell_type": "code",
   "execution_count": null,
   "metadata": {},
   "outputs": [
    {
     "name": "stdout",
     "output_type": "stream",
     "text": [
      "test.csv deleted\n"
     ]
    }
   ],
   "source": [
    "# Delete file from storage:\n",
    "storage.delete(file_system = \"test\", directory = \"test\", file_name = \"test.csv\")"
   ]
  }
 ],
 "metadata": {
  "interpreter": {
   "hash": "91ec43aa1f0db36d96140b828b08e86586f62f08ccada0f9bf3c6347196c39a6"
  },
  "kernelspec": {
   "display_name": "Python 3.8.8 64-bit ('base': conda)",
   "language": "python",
   "name": "python3"
  },
  "language_info": {
   "codemirror_mode": {
    "name": "ipython",
    "version": 3
   },
   "file_extension": ".py",
   "mimetype": "text/x-python",
   "name": "python",
   "nbconvert_exporter": "python",
   "pygments_lexer": "ipython3",
   "version": "3.9.7"
  },
  "orig_nbformat": 4
 },
 "nbformat": 4,
 "nbformat_minor": 2
}
