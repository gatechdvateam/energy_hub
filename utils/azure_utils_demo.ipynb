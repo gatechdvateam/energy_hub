{
 "cells": [
  {
   "cell_type": "code",
   "execution_count": 2,
   "metadata": {},
   "outputs": [
    {
     "name": "stdout",
     "output_type": "stream",
     "text": [
      "Requirement already satisfied: azure-identity in c:\\users\\nmert\\anaconda3\\lib\\site-packages (1.7.1)\n",
      "Requirement already satisfied: msal<2.0.0,>=1.12.0 in c:\\users\\nmert\\anaconda3\\lib\\site-packages (from azure-identity) (1.16.0)\n",
      "Requirement already satisfied: cryptography>=2.5 in c:\\users\\nmert\\anaconda3\\lib\\site-packages (from azure-identity) (3.4.7)\n",
      "Requirement already satisfied: azure-core<2.0.0,>=1.11.0 in c:\\users\\nmert\\anaconda3\\lib\\site-packages (from azure-identity) (1.21.1)\n",
      "Requirement already satisfied: msal-extensions~=0.3.0 in c:\\users\\nmert\\anaconda3\\lib\\site-packages (from azure-identity) (0.3.1)\n",
      "Requirement already satisfied: six>=1.12.0 in c:\\users\\nmert\\anaconda3\\lib\\site-packages (from azure-identity) (1.15.0)\n",
      "Requirement already satisfied: requests>=2.18.4 in c:\\users\\nmert\\anaconda3\\lib\\site-packages (from azure-core<2.0.0,>=1.11.0->azure-identity) (2.25.1)\n",
      "Requirement already satisfied: cffi>=1.12 in c:\\users\\nmert\\anaconda3\\lib\\site-packages (from cryptography>=2.5->azure-identity) (1.14.5)\n",
      "Requirement already satisfied: PyJWT[crypto]<3,>=1.0.0 in c:\\users\\nmert\\anaconda3\\lib\\site-packages (from msal<2.0.0,>=1.12.0->azure-identity) (2.3.0)\n",
      "Requirement already satisfied: portalocker<3,>=1.6 in c:\\users\\nmert\\anaconda3\\lib\\site-packages (from msal-extensions~=0.3.0->azure-identity) (2.3.2)\n",
      "Requirement already satisfied: pycparser in c:\\users\\nmert\\anaconda3\\lib\\site-packages (from cffi>=1.12->cryptography>=2.5->azure-identity) (2.20)\n",
      "Requirement already satisfied: pywin32>=226 in c:\\users\\nmert\\anaconda3\\lib\\site-packages (from portalocker<3,>=1.6->msal-extensions~=0.3.0->azure-identity) (227)\n",
      "Requirement already satisfied: chardet<5,>=3.0.2 in c:\\users\\nmert\\anaconda3\\lib\\site-packages (from requests>=2.18.4->azure-core<2.0.0,>=1.11.0->azure-identity) (4.0.0)\n",
      "Requirement already satisfied: urllib3<1.27,>=1.21.1 in c:\\users\\nmert\\anaconda3\\lib\\site-packages (from requests>=2.18.4->azure-core<2.0.0,>=1.11.0->azure-identity) (1.26.4)\n",
      "Requirement already satisfied: certifi>=2017.4.17 in c:\\users\\nmert\\anaconda3\\lib\\site-packages (from requests>=2.18.4->azure-core<2.0.0,>=1.11.0->azure-identity) (2020.12.5)\n",
      "Requirement already satisfied: idna<3,>=2.5 in c:\\users\\nmert\\anaconda3\\lib\\site-packages (from requests>=2.18.4->azure-core<2.0.0,>=1.11.0->azure-identity) (2.10)\n",
      "Requirement already satisfied: azure-keyvault-secrets in c:\\users\\nmert\\anaconda3\\lib\\site-packages (4.3.0)\n",
      "Requirement already satisfied: msrest>=0.6.21 in c:\\users\\nmert\\anaconda3\\lib\\site-packages (from azure-keyvault-secrets) (0.6.21)\n",
      "Requirement already satisfied: azure-common~=1.1 in c:\\users\\nmert\\anaconda3\\lib\\site-packages (from azure-keyvault-secrets) (1.1.27)\n",
      "Requirement already satisfied: azure-core<2.0.0,>=1.7.0 in c:\\users\\nmert\\anaconda3\\lib\\site-packages (from azure-keyvault-secrets) (1.21.1)\n",
      "Requirement already satisfied: requests>=2.18.4 in c:\\users\\nmert\\anaconda3\\lib\\site-packages (from azure-core<2.0.0,>=1.7.0->azure-keyvault-secrets) (2.25.1)\n",
      "Requirement already satisfied: six>=1.11.0 in c:\\users\\nmert\\anaconda3\\lib\\site-packages (from azure-core<2.0.0,>=1.7.0->azure-keyvault-secrets) (1.15.0)\n",
      "Requirement already satisfied: isodate>=0.6.0 in c:\\users\\nmert\\anaconda3\\lib\\site-packages (from msrest>=0.6.21->azure-keyvault-secrets) (0.6.1)\n",
      "Requirement already satisfied: certifi>=2017.4.17 in c:\\users\\nmert\\anaconda3\\lib\\site-packages (from msrest>=0.6.21->azure-keyvault-secrets) (2020.12.5)\n",
      "Requirement already satisfied: requests-oauthlib>=0.5.0 in c:\\users\\nmert\\anaconda3\\lib\\site-packages (from msrest>=0.6.21->azure-keyvault-secrets) (1.3.0)\n",
      "Requirement already satisfied: chardet<5,>=3.0.2 in c:\\users\\nmert\\anaconda3\\lib\\site-packages (from requests>=2.18.4->azure-core<2.0.0,>=1.7.0->azure-keyvault-secrets) (4.0.0)\n",
      "Requirement already satisfied: idna<3,>=2.5 in c:\\users\\nmert\\anaconda3\\lib\\site-packages (from requests>=2.18.4->azure-core<2.0.0,>=1.7.0->azure-keyvault-secrets) (2.10)\n",
      "Requirement already satisfied: urllib3<1.27,>=1.21.1 in c:\\users\\nmert\\anaconda3\\lib\\site-packages (from requests>=2.18.4->azure-core<2.0.0,>=1.7.0->azure-keyvault-secrets) (1.26.4)\n",
      "Requirement already satisfied: oauthlib>=3.0.0 in c:\\users\\nmert\\anaconda3\\lib\\site-packages (from requests-oauthlib>=0.5.0->msrest>=0.6.21->azure-keyvault-secrets) (3.1.1)\n",
      "Collecting azure-storage-file-datalake\n",
      "  Using cached azure_storage_file_datalake-12.5.0-py2.py3-none-any.whl (208 kB)\n",
      "Requirement already satisfied: azure-core<2.0.0,>=1.10.0 in c:\\users\\nmert\\anaconda3\\lib\\site-packages (from azure-storage-file-datalake) (1.21.1)\n",
      "Requirement already satisfied: msrest>=0.6.21 in c:\\users\\nmert\\anaconda3\\lib\\site-packages (from azure-storage-file-datalake) (0.6.21)\n",
      "Collecting azure-storage-blob<13.0.0,>=12.9.0b1\n",
      "  Downloading azure_storage_blob-12.10.0b2-py2.py3-none-any.whl (342 kB)\n",
      "Requirement already satisfied: requests>=2.18.4 in c:\\users\\nmert\\anaconda3\\lib\\site-packages (from azure-core<2.0.0,>=1.10.0->azure-storage-file-datalake) (2.25.1)\n",
      "Requirement already satisfied: six>=1.11.0 in c:\\users\\nmert\\anaconda3\\lib\\site-packages (from azure-core<2.0.0,>=1.10.0->azure-storage-file-datalake) (1.15.0)\n",
      "Requirement already satisfied: cryptography>=2.1.4 in c:\\users\\nmert\\anaconda3\\lib\\site-packages (from azure-storage-blob<13.0.0,>=12.9.0b1->azure-storage-file-datalake) (3.4.7)\n",
      "Requirement already satisfied: certifi>=2017.4.17 in c:\\users\\nmert\\anaconda3\\lib\\site-packages (from msrest>=0.6.21->azure-storage-file-datalake) (2020.12.5)\n",
      "Requirement already satisfied: requests-oauthlib>=0.5.0 in c:\\users\\nmert\\anaconda3\\lib\\site-packages (from msrest>=0.6.21->azure-storage-file-datalake) (1.3.0)\n",
      "Requirement already satisfied: isodate>=0.6.0 in c:\\users\\nmert\\anaconda3\\lib\\site-packages (from msrest>=0.6.21->azure-storage-file-datalake) (0.6.1)\n",
      "Requirement already satisfied: cffi>=1.12 in c:\\users\\nmert\\anaconda3\\lib\\site-packages (from cryptography>=2.1.4->azure-storage-blob<13.0.0,>=12.9.0b1->azure-storage-file-datalake) (1.14.5)\n",
      "Requirement already satisfied: idna<3,>=2.5 in c:\\users\\nmert\\anaconda3\\lib\\site-packages (from requests>=2.18.4->azure-core<2.0.0,>=1.10.0->azure-storage-file-datalake) (2.10)\n",
      "Requirement already satisfied: chardet<5,>=3.0.2 in c:\\users\\nmert\\anaconda3\\lib\\site-packages (from requests>=2.18.4->azure-core<2.0.0,>=1.10.0->azure-storage-file-datalake) (4.0.0)\n",
      "Requirement already satisfied: urllib3<1.27,>=1.21.1 in c:\\users\\nmert\\anaconda3\\lib\\site-packages (from requests>=2.18.4->azure-core<2.0.0,>=1.10.0->azure-storage-file-datalake) (1.26.4)\n",
      "Requirement already satisfied: oauthlib>=3.0.0 in c:\\users\\nmert\\anaconda3\\lib\\site-packages (from requests-oauthlib>=0.5.0->msrest>=0.6.21->azure-storage-file-datalake) (3.1.1)\n",
      "Requirement already satisfied: pycparser in c:\\users\\nmert\\anaconda3\\lib\\site-packages (from cffi>=1.12->cryptography>=2.1.4->azure-storage-blob<13.0.0,>=12.9.0b1->azure-storage-file-datalake) (2.20)\n",
      "Installing collected packages: azure-storage-blob, azure-storage-file-datalake\n",
      "Successfully installed azure-storage-blob-12.10.0b2 azure-storage-file-datalake-12.5.0\n"
     ]
    }
   ],
   "source": [
    "! python -m pip install azure-identity --upgrade\n",
    "! python -m pip install azure-keyvault-secrets --upgrade\n",
    "! python -m pip install azure-storage-file-datalake --upgrade"
   ]
  },
  {
   "cell_type": "code",
   "execution_count": 3,
   "metadata": {},
   "outputs": [],
   "source": [
    "from azure_utils import KeyVault, DataLake"
   ]
  },
  {
   "cell_type": "markdown",
   "metadata": {},
   "source": [
    "# Prerequisites\n",
    "\n",
    "Details available in Teams OneNote  "
   ]
  },
  {
   "cell_type": "code",
   "execution_count": 4,
   "metadata": {},
   "outputs": [],
   "source": [
    "vault = KeyVault(keyVaultName = \"keyvaultdva2022\")"
   ]
  },
  {
   "cell_type": "markdown",
   "metadata": {},
   "source": [
    "# Read/set secret with Azure KeyVault:"
   ]
  },
  {
   "cell_type": "code",
   "execution_count": 5,
   "metadata": {},
   "outputs": [
    {
     "name": "stdout",
     "output_type": "stream",
     "text": [
      "12345678\n"
     ]
    }
   ],
   "source": [
    "secret = vault.get_secret(secretName = \"test\")\n",
    "print(secret)"
   ]
  },
  {
   "cell_type": "code",
   "execution_count": 6,
   "metadata": {},
   "outputs": [
    {
     "name": "stdout",
     "output_type": "stream",
     "text": [
      "Credential set\n",
      "12345678\n"
     ]
    }
   ],
   "source": [
    "vault.set_secret(secretName = \"test\", secretValue = 12345678)\n",
    "secret = vault.get_secret(secretName = \"test\")\n",
    "print(secret)"
   ]
  },
  {
   "cell_type": "markdown",
   "metadata": {},
   "source": [
    "# Azure DataLake"
   ]
  },
  {
   "cell_type": "code",
   "execution_count": 7,
   "metadata": {},
   "outputs": [],
   "source": [
    "vault = KeyVault(keyVaultName = \"keyvaultdva2022\")\n",
    "storage_credential = vault.get_secret(secretName = \"storagePrimaryKey\")"
   ]
  },
  {
   "cell_type": "code",
   "execution_count": 8,
   "metadata": {},
   "outputs": [],
   "source": [
    "# Connect to storage:\n",
    "storage = DataLake(account_name = \"storageaccountdva\", credential = storage_credential)"
   ]
  },
  {
   "cell_type": "code",
   "execution_count": 9,
   "metadata": {},
   "outputs": [],
   "source": [
    "# Create a dummy table:\n",
    "import pandas as pd\n",
    "\n",
    "df = pd.DataFrame(columns = [\"col1\"])\n",
    "df[\"col1\"] = range(10)"
   ]
  },
  {
   "cell_type": "code",
   "execution_count": 10,
   "metadata": {},
   "outputs": [
    {
     "data": {
      "text/html": [
       "<div>\n",
       "<style scoped>\n",
       "    .dataframe tbody tr th:only-of-type {\n",
       "        vertical-align: middle;\n",
       "    }\n",
       "\n",
       "    .dataframe tbody tr th {\n",
       "        vertical-align: top;\n",
       "    }\n",
       "\n",
       "    .dataframe thead th {\n",
       "        text-align: right;\n",
       "    }\n",
       "</style>\n",
       "<table border=\"1\" class=\"dataframe\">\n",
       "  <thead>\n",
       "    <tr style=\"text-align: right;\">\n",
       "      <th></th>\n",
       "      <th>col1</th>\n",
       "    </tr>\n",
       "  </thead>\n",
       "  <tbody>\n",
       "    <tr>\n",
       "      <th>0</th>\n",
       "      <td>0</td>\n",
       "    </tr>\n",
       "    <tr>\n",
       "      <th>1</th>\n",
       "      <td>1</td>\n",
       "    </tr>\n",
       "    <tr>\n",
       "      <th>2</th>\n",
       "      <td>2</td>\n",
       "    </tr>\n",
       "    <tr>\n",
       "      <th>3</th>\n",
       "      <td>3</td>\n",
       "    </tr>\n",
       "    <tr>\n",
       "      <th>4</th>\n",
       "      <td>4</td>\n",
       "    </tr>\n",
       "    <tr>\n",
       "      <th>5</th>\n",
       "      <td>5</td>\n",
       "    </tr>\n",
       "    <tr>\n",
       "      <th>6</th>\n",
       "      <td>6</td>\n",
       "    </tr>\n",
       "    <tr>\n",
       "      <th>7</th>\n",
       "      <td>7</td>\n",
       "    </tr>\n",
       "    <tr>\n",
       "      <th>8</th>\n",
       "      <td>8</td>\n",
       "    </tr>\n",
       "    <tr>\n",
       "      <th>9</th>\n",
       "      <td>9</td>\n",
       "    </tr>\n",
       "  </tbody>\n",
       "</table>\n",
       "</div>"
      ],
      "text/plain": [
       "   col1\n",
       "0     0\n",
       "1     1\n",
       "2     2\n",
       "3     3\n",
       "4     4\n",
       "5     5\n",
       "6     6\n",
       "7     7\n",
       "8     8\n",
       "9     9"
      ]
     },
     "execution_count": 10,
     "metadata": {},
     "output_type": "execute_result"
    }
   ],
   "source": [
    "df"
   ]
  },
  {
   "cell_type": "code",
   "execution_count": 11,
   "metadata": {},
   "outputs": [
    {
     "name": "stdout",
     "output_type": "stream",
     "text": [
      "test.csv write complete\n"
     ]
    }
   ],
   "source": [
    "# Write to storage:\n",
    "storage.write(file_system = \"test\", directory = \"test\", file=df, file_name = \"test.csv\", extension=\"csv\", overwrite = True)"
   ]
  },
  {
   "cell_type": "code",
   "execution_count": 12,
   "metadata": {},
   "outputs": [],
   "source": [
    "# read from storage:\n",
    "df = storage.read(file_system = \"test\", directory = \"test\", file_name = \"test.csv\", extension = \"csv\")"
   ]
  },
  {
   "cell_type": "code",
   "execution_count": 13,
   "metadata": {},
   "outputs": [
    {
     "data": {
      "text/html": [
       "<div>\n",
       "<style scoped>\n",
       "    .dataframe tbody tr th:only-of-type {\n",
       "        vertical-align: middle;\n",
       "    }\n",
       "\n",
       "    .dataframe tbody tr th {\n",
       "        vertical-align: top;\n",
       "    }\n",
       "\n",
       "    .dataframe thead th {\n",
       "        text-align: right;\n",
       "    }\n",
       "</style>\n",
       "<table border=\"1\" class=\"dataframe\">\n",
       "  <thead>\n",
       "    <tr style=\"text-align: right;\">\n",
       "      <th></th>\n",
       "      <th>col1</th>\n",
       "    </tr>\n",
       "  </thead>\n",
       "  <tbody>\n",
       "    <tr>\n",
       "      <th>0</th>\n",
       "      <td>0</td>\n",
       "    </tr>\n",
       "    <tr>\n",
       "      <th>1</th>\n",
       "      <td>1</td>\n",
       "    </tr>\n",
       "    <tr>\n",
       "      <th>2</th>\n",
       "      <td>2</td>\n",
       "    </tr>\n",
       "    <tr>\n",
       "      <th>3</th>\n",
       "      <td>3</td>\n",
       "    </tr>\n",
       "    <tr>\n",
       "      <th>4</th>\n",
       "      <td>4</td>\n",
       "    </tr>\n",
       "    <tr>\n",
       "      <th>5</th>\n",
       "      <td>5</td>\n",
       "    </tr>\n",
       "    <tr>\n",
       "      <th>6</th>\n",
       "      <td>6</td>\n",
       "    </tr>\n",
       "    <tr>\n",
       "      <th>7</th>\n",
       "      <td>7</td>\n",
       "    </tr>\n",
       "    <tr>\n",
       "      <th>8</th>\n",
       "      <td>8</td>\n",
       "    </tr>\n",
       "    <tr>\n",
       "      <th>9</th>\n",
       "      <td>9</td>\n",
       "    </tr>\n",
       "  </tbody>\n",
       "</table>\n",
       "</div>"
      ],
      "text/plain": [
       "   col1\n",
       "0     0\n",
       "1     1\n",
       "2     2\n",
       "3     3\n",
       "4     4\n",
       "5     5\n",
       "6     6\n",
       "7     7\n",
       "8     8\n",
       "9     9"
      ]
     },
     "execution_count": 13,
     "metadata": {},
     "output_type": "execute_result"
    }
   ],
   "source": [
    "df"
   ]
  },
  {
   "cell_type": "code",
   "execution_count": 14,
   "metadata": {},
   "outputs": [
    {
     "name": "stdout",
     "output_type": "stream",
     "text": [
      "test.csv deleted\n"
     ]
    }
   ],
   "source": [
    "# Delete file from storage:\n",
    "storage.delete(file_system = \"test\", directory = \"test\", file_name = \"test.csv\")"
   ]
  }
 ],
 "metadata": {
  "interpreter": {
   "hash": "91ec43aa1f0db36d96140b828b08e86586f62f08ccada0f9bf3c6347196c39a6"
  },
  "kernelspec": {
   "display_name": "Python 3.8.8 64-bit ('base': conda)",
   "language": "python",
   "name": "python3"
  },
  "language_info": {
   "codemirror_mode": {
    "name": "ipython",
    "version": 3
   },
   "file_extension": ".py",
   "mimetype": "text/x-python",
   "name": "python",
   "nbconvert_exporter": "python",
   "pygments_lexer": "ipython3",
   "version": "3.8.8"
  },
  "orig_nbformat": 4
 },
 "nbformat": 4,
 "nbformat_minor": 2
}
