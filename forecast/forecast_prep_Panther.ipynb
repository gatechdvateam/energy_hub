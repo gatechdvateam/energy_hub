{
 "cells": [
  {
   "cell_type": "code",
   "execution_count": 1,
   "metadata": {},
   "outputs": [
    {
     "name": "stderr",
     "output_type": "stream",
     "text": [
      "c:\\Users\\nmert\\OneDrive\\Data Science\\OMSA\\HW & Projects\\omsa_dva_project\\.venv\\lib\\site-packages\\numpy\\_distributor_init.py:30: UserWarning: loaded more than 1 DLL from .libs:\n",
      "c:\\Users\\nmert\\OneDrive\\Data Science\\OMSA\\HW & Projects\\omsa_dva_project\\.venv\\lib\\site-packages\\numpy\\.libs\\libopenblas.EL2C6PLE4ZYW3ECEVIV3OXXGRN2NRFM2.gfortran-win_amd64.dll\n",
      "c:\\Users\\nmert\\OneDrive\\Data Science\\OMSA\\HW & Projects\\omsa_dva_project\\.venv\\lib\\site-packages\\numpy\\.libs\\libopenblas.XWYDX2IKJW2NMTWSFYNGFUWKQU3LYTCZ.gfortran-win_amd64.dll\n",
      "  warnings.warn(\"loaded more than 1 DLL from .libs:\"\n"
     ]
    }
   ],
   "source": [
    "import sys\n",
    "sys.path.append(\"..\")\n",
    "from data_prep.prep import MeterDataSet\n",
    "import pandas as pd\n",
    "import numpy as np\n",
    "from webapp.utils.azure_utils import KeyVault, DataLake\n",
    "from copy import deepcopy"
   ]
  },
  {
   "cell_type": "code",
   "execution_count": 2,
   "metadata": {},
   "outputs": [],
   "source": [
    "# Connect to Storage Account\n",
    "vault = KeyVault(keyVaultName = \"keyvaultdva2022\")\n",
    "storage_credential = vault.get_secret(secretName = \"storagePrimaryKey\")\n",
    "storage = DataLake(account_name = \"storageaccountdva\", credential = storage_credential)\n",
    "file_system = \"energyhub\""
   ]
  },
  {
   "cell_type": "code",
   "execution_count": 3,
   "metadata": {},
   "outputs": [],
   "source": [
    "meter = \"electricity\"\n",
    "metadata_cols = ['building_id', 'site_id','sq_meter']\n",
    "weather_cols = ['site_id', 'timestamp', 'air_temperature', 'cloud_coverage', 'dew_temperature', 'precipitation_depth_1_hr',\n",
    "    'precipitation_depth_6_hr', 'sea_level_pressure', 'wind_direction',\n",
    "    'wind_speed']"
   ]
  },
  {
   "cell_type": "code",
   "execution_count": 4,
   "metadata": {},
   "outputs": [],
   "source": [
    "metadata = storage.pandas_read(file_system, directory=\"data_parq/metadata\", file_name=\"metadata.parq\")\n",
    "weather = storage.pandas_read(file_system, directory=\"data_parq/weather\", file_name=\"weather.parq\")\n",
    "electricity = storage.pandas_read(file_system, directory=\"data_parq/meters\", file_name=\"electricity.parq\")\n",
    "bad_buildings = storage.pandas_read(file_system, directory=\"bad_buildings\", file_name=\"bad_buildings.csv\")[\"building_id\"].to_list()"
   ]
  },
  {
   "cell_type": "code",
   "execution_count": 5,
   "metadata": {},
   "outputs": [],
   "source": [
    "# Add cos, sin time features:\n",
    "def time_features(dff):\n",
    "    dff = deepcopy(dff)\n",
    "\n",
    "    dff[\"hour\"] = dff.timestamp.dt.hour\n",
    "    dff[\"weekday\"] = dff.timestamp.dt.weekday\n",
    "    dff[\"month\"] = dff.timestamp.dt.month\n",
    "    dff[\"year\"] = dff.timestamp.dt.year \n",
    "    \n",
    "    dff = dff.sort_values(by = \"timestamp\")\n",
    "    dff[\"time_idx\"] = dff.index\n",
    "\n",
    "    dff[\"time_norm\"] = 2 * np.pi * dff[\"time_idx\"] / dff[\"time_idx\"].max()\n",
    "    dff[\"cos_time\"] = np.cos(dff[\"time_norm\"])\n",
    "    dff[\"sin_time\"] = np.sin(dff[\"time_norm\"])\n",
    "\n",
    "    dff[\"month_cos\"] = np.cos(2*np.pi*dff[\"time_idx\"]/(30.4*24))\n",
    "    dff[\"month_sin\"] = np.sin(2*np.pi*dff[\"time_idx\"]/(30.4*24))\n",
    "        \n",
    "    dff[\"weekday_cos\"] = np.cos(2*np.pi*dff[\"time_idx\"]/(7*24))\n",
    "    dff[\"weekday_sin\"] = np.sin(2*np.pi*dff[\"time_idx\"]/(7*24))\n",
    "\n",
    "    return dff.set_index(\"timestamp\")"
   ]
  },
  {
   "cell_type": "code",
   "execution_count": 6,
   "metadata": {},
   "outputs": [],
   "source": [
    "metadata = metadata[metadata_cols]\n",
    "weather = weather[weather_cols]"
   ]
  },
  {
   "cell_type": "code",
   "execution_count": 7,
   "metadata": {},
   "outputs": [],
   "source": [
    "# Add site_id to electricity:\n",
    "electricity = pd.merge(electricity, metadata, on = \"building_id\", how = \"left\")"
   ]
  },
  {
   "cell_type": "code",
   "execution_count": 8,
   "metadata": {},
   "outputs": [],
   "source": [
    "buildings = electricity.building_id.unique()\n",
    "buildings = [building for building in buildings if building not in bad_buildings]\n",
    "electricity = electricity[electricity.building_id.isin(buildings)]"
   ]
  },
  {
   "cell_type": "code",
   "execution_count": 9,
   "metadata": {},
   "outputs": [],
   "source": [
    "sites = electricity.site_id.unique().to_list()"
   ]
  },
  {
   "cell_type": "code",
   "execution_count": 10,
   "metadata": {},
   "outputs": [
    {
     "data": {
      "text/plain": [
       "['Panther',\n",
       " 'Robin',\n",
       " 'Fox',\n",
       " 'Rat',\n",
       " 'Bear',\n",
       " 'Lamb',\n",
       " 'Peacock',\n",
       " 'Moose',\n",
       " 'Gator',\n",
       " 'Bull',\n",
       " 'Bobcat',\n",
       " 'Crow',\n",
       " 'Wolf',\n",
       " 'Hog',\n",
       " 'Eagle',\n",
       " 'Cockatoo',\n",
       " 'Mouse']"
      ]
     },
     "execution_count": 10,
     "metadata": {},
     "output_type": "execute_result"
    }
   ],
   "source": [
    "sites"
   ]
  },
  {
   "cell_type": "code",
   "execution_count": 11,
   "metadata": {},
   "outputs": [
    {
     "ename": "ValueError",
     "evalue": "No objects to concatenate",
     "output_type": "error",
     "traceback": [
      "\u001b[1;31m---------------------------------------------------------------------------\u001b[0m",
      "\u001b[1;31mValueError\u001b[0m                                Traceback (most recent call last)",
      "Input \u001b[1;32mIn [11]\u001b[0m, in \u001b[0;36m<cell line: 1>\u001b[1;34m()\u001b[0m\n\u001b[0;32m     51\u001b[0m     dfs_train\u001b[39m.\u001b[39mappend(df_train)\n\u001b[0;32m     52\u001b[0m     dfs_val\u001b[39m.\u001b[39mappend(df_val)\n\u001b[1;32m---> 54\u001b[0m train \u001b[39m=\u001b[39m pd\u001b[39m.\u001b[39;49mconcat(dfs_train)\u001b[39m.\u001b[39mreset_index(drop \u001b[39m=\u001b[39m \u001b[39mTrue\u001b[39;00m)\n\u001b[0;32m     55\u001b[0m val \u001b[39m=\u001b[39m pd\u001b[39m.\u001b[39mconcat(dfs_val)\u001b[39m.\u001b[39mreset_index(drop \u001b[39m=\u001b[39m \u001b[39mTrue\u001b[39;00m)\n\u001b[0;32m     57\u001b[0m directory \u001b[39m=\u001b[39m \u001b[39mf\u001b[39m\u001b[39m\"\u001b[39m\u001b[39mforecasting/data/\u001b[39m\u001b[39m{\u001b[39;00msite\u001b[39m}\u001b[39;00m\u001b[39m\"\u001b[39m\n",
      "File \u001b[1;32mc:\\Users\\nmert\\OneDrive\\Data Science\\OMSA\\HW & Projects\\omsa_dva_project\\.venv\\lib\\site-packages\\pandas\\util\\_decorators.py:311\u001b[0m, in \u001b[0;36mdeprecate_nonkeyword_arguments.<locals>.decorate.<locals>.wrapper\u001b[1;34m(*args, **kwargs)\u001b[0m\n\u001b[0;32m    <a href='file:///c%3A/Users/nmert/OneDrive/Data%20Science/OMSA/HW%20%26%20Projects/omsa_dva_project/.venv/lib/site-packages/pandas/util/_decorators.py?line=304'>305</a>\u001b[0m \u001b[39mif\u001b[39;00m \u001b[39mlen\u001b[39m(args) \u001b[39m>\u001b[39m num_allow_args:\n\u001b[0;32m    <a href='file:///c%3A/Users/nmert/OneDrive/Data%20Science/OMSA/HW%20%26%20Projects/omsa_dva_project/.venv/lib/site-packages/pandas/util/_decorators.py?line=305'>306</a>\u001b[0m     warnings\u001b[39m.\u001b[39mwarn(\n\u001b[0;32m    <a href='file:///c%3A/Users/nmert/OneDrive/Data%20Science/OMSA/HW%20%26%20Projects/omsa_dva_project/.venv/lib/site-packages/pandas/util/_decorators.py?line=306'>307</a>\u001b[0m         msg\u001b[39m.\u001b[39mformat(arguments\u001b[39m=\u001b[39marguments),\n\u001b[0;32m    <a href='file:///c%3A/Users/nmert/OneDrive/Data%20Science/OMSA/HW%20%26%20Projects/omsa_dva_project/.venv/lib/site-packages/pandas/util/_decorators.py?line=307'>308</a>\u001b[0m         \u001b[39mFutureWarning\u001b[39;00m,\n\u001b[0;32m    <a href='file:///c%3A/Users/nmert/OneDrive/Data%20Science/OMSA/HW%20%26%20Projects/omsa_dva_project/.venv/lib/site-packages/pandas/util/_decorators.py?line=308'>309</a>\u001b[0m         stacklevel\u001b[39m=\u001b[39mstacklevel,\n\u001b[0;32m    <a href='file:///c%3A/Users/nmert/OneDrive/Data%20Science/OMSA/HW%20%26%20Projects/omsa_dva_project/.venv/lib/site-packages/pandas/util/_decorators.py?line=309'>310</a>\u001b[0m     )\n\u001b[1;32m--> <a href='file:///c%3A/Users/nmert/OneDrive/Data%20Science/OMSA/HW%20%26%20Projects/omsa_dva_project/.venv/lib/site-packages/pandas/util/_decorators.py?line=310'>311</a>\u001b[0m \u001b[39mreturn\u001b[39;00m func(\u001b[39m*\u001b[39;49margs, \u001b[39m*\u001b[39;49m\u001b[39m*\u001b[39;49mkwargs)\n",
      "File \u001b[1;32mc:\\Users\\nmert\\OneDrive\\Data Science\\OMSA\\HW & Projects\\omsa_dva_project\\.venv\\lib\\site-packages\\pandas\\core\\reshape\\concat.py:346\u001b[0m, in \u001b[0;36mconcat\u001b[1;34m(objs, axis, join, ignore_index, keys, levels, names, verify_integrity, sort, copy)\u001b[0m\n\u001b[0;32m    <a href='file:///c%3A/Users/nmert/OneDrive/Data%20Science/OMSA/HW%20%26%20Projects/omsa_dva_project/.venv/lib/site-packages/pandas/core/reshape/concat.py?line=141'>142</a>\u001b[0m \u001b[39m@deprecate_nonkeyword_arguments\u001b[39m(version\u001b[39m=\u001b[39m\u001b[39mNone\u001b[39;00m, allowed_args\u001b[39m=\u001b[39m[\u001b[39m\"\u001b[39m\u001b[39mobjs\u001b[39m\u001b[39m\"\u001b[39m])\n\u001b[0;32m    <a href='file:///c%3A/Users/nmert/OneDrive/Data%20Science/OMSA/HW%20%26%20Projects/omsa_dva_project/.venv/lib/site-packages/pandas/core/reshape/concat.py?line=142'>143</a>\u001b[0m \u001b[39mdef\u001b[39;00m \u001b[39mconcat\u001b[39m(\n\u001b[0;32m    <a href='file:///c%3A/Users/nmert/OneDrive/Data%20Science/OMSA/HW%20%26%20Projects/omsa_dva_project/.venv/lib/site-packages/pandas/core/reshape/concat.py?line=143'>144</a>\u001b[0m     objs: Iterable[NDFrame] \u001b[39m|\u001b[39m Mapping[Hashable, NDFrame],\n\u001b[1;32m   (...)\u001b[0m\n\u001b[0;32m    <a href='file:///c%3A/Users/nmert/OneDrive/Data%20Science/OMSA/HW%20%26%20Projects/omsa_dva_project/.venv/lib/site-packages/pandas/core/reshape/concat.py?line=152'>153</a>\u001b[0m     copy: \u001b[39mbool\u001b[39m \u001b[39m=\u001b[39m \u001b[39mTrue\u001b[39;00m,\n\u001b[0;32m    <a href='file:///c%3A/Users/nmert/OneDrive/Data%20Science/OMSA/HW%20%26%20Projects/omsa_dva_project/.venv/lib/site-packages/pandas/core/reshape/concat.py?line=153'>154</a>\u001b[0m ) \u001b[39m-\u001b[39m\u001b[39m>\u001b[39m DataFrame \u001b[39m|\u001b[39m Series:\n\u001b[0;32m    <a href='file:///c%3A/Users/nmert/OneDrive/Data%20Science/OMSA/HW%20%26%20Projects/omsa_dva_project/.venv/lib/site-packages/pandas/core/reshape/concat.py?line=154'>155</a>\u001b[0m     \u001b[39m\"\"\"\u001b[39;00m\n\u001b[0;32m    <a href='file:///c%3A/Users/nmert/OneDrive/Data%20Science/OMSA/HW%20%26%20Projects/omsa_dva_project/.venv/lib/site-packages/pandas/core/reshape/concat.py?line=155'>156</a>\u001b[0m \u001b[39m    Concatenate pandas objects along a particular axis with optional set logic\u001b[39;00m\n\u001b[0;32m    <a href='file:///c%3A/Users/nmert/OneDrive/Data%20Science/OMSA/HW%20%26%20Projects/omsa_dva_project/.venv/lib/site-packages/pandas/core/reshape/concat.py?line=156'>157</a>\u001b[0m \u001b[39m    along the other axes.\u001b[39;00m\n\u001b[1;32m   (...)\u001b[0m\n\u001b[0;32m    <a href='file:///c%3A/Users/nmert/OneDrive/Data%20Science/OMSA/HW%20%26%20Projects/omsa_dva_project/.venv/lib/site-packages/pandas/core/reshape/concat.py?line=343'>344</a>\u001b[0m \u001b[39m    ValueError: Indexes have overlapping values: ['a']\u001b[39;00m\n\u001b[0;32m    <a href='file:///c%3A/Users/nmert/OneDrive/Data%20Science/OMSA/HW%20%26%20Projects/omsa_dva_project/.venv/lib/site-packages/pandas/core/reshape/concat.py?line=344'>345</a>\u001b[0m \u001b[39m    \"\"\"\u001b[39;00m\n\u001b[1;32m--> <a href='file:///c%3A/Users/nmert/OneDrive/Data%20Science/OMSA/HW%20%26%20Projects/omsa_dva_project/.venv/lib/site-packages/pandas/core/reshape/concat.py?line=345'>346</a>\u001b[0m     op \u001b[39m=\u001b[39m _Concatenator(\n\u001b[0;32m    <a href='file:///c%3A/Users/nmert/OneDrive/Data%20Science/OMSA/HW%20%26%20Projects/omsa_dva_project/.venv/lib/site-packages/pandas/core/reshape/concat.py?line=346'>347</a>\u001b[0m         objs,\n\u001b[0;32m    <a href='file:///c%3A/Users/nmert/OneDrive/Data%20Science/OMSA/HW%20%26%20Projects/omsa_dva_project/.venv/lib/site-packages/pandas/core/reshape/concat.py?line=347'>348</a>\u001b[0m         axis\u001b[39m=\u001b[39;49maxis,\n\u001b[0;32m    <a href='file:///c%3A/Users/nmert/OneDrive/Data%20Science/OMSA/HW%20%26%20Projects/omsa_dva_project/.venv/lib/site-packages/pandas/core/reshape/concat.py?line=348'>349</a>\u001b[0m         ignore_index\u001b[39m=\u001b[39;49mignore_index,\n\u001b[0;32m    <a href='file:///c%3A/Users/nmert/OneDrive/Data%20Science/OMSA/HW%20%26%20Projects/omsa_dva_project/.venv/lib/site-packages/pandas/core/reshape/concat.py?line=349'>350</a>\u001b[0m         join\u001b[39m=\u001b[39;49mjoin,\n\u001b[0;32m    <a href='file:///c%3A/Users/nmert/OneDrive/Data%20Science/OMSA/HW%20%26%20Projects/omsa_dva_project/.venv/lib/site-packages/pandas/core/reshape/concat.py?line=350'>351</a>\u001b[0m         keys\u001b[39m=\u001b[39;49mkeys,\n\u001b[0;32m    <a href='file:///c%3A/Users/nmert/OneDrive/Data%20Science/OMSA/HW%20%26%20Projects/omsa_dva_project/.venv/lib/site-packages/pandas/core/reshape/concat.py?line=351'>352</a>\u001b[0m         levels\u001b[39m=\u001b[39;49mlevels,\n\u001b[0;32m    <a href='file:///c%3A/Users/nmert/OneDrive/Data%20Science/OMSA/HW%20%26%20Projects/omsa_dva_project/.venv/lib/site-packages/pandas/core/reshape/concat.py?line=352'>353</a>\u001b[0m         names\u001b[39m=\u001b[39;49mnames,\n\u001b[0;32m    <a href='file:///c%3A/Users/nmert/OneDrive/Data%20Science/OMSA/HW%20%26%20Projects/omsa_dva_project/.venv/lib/site-packages/pandas/core/reshape/concat.py?line=353'>354</a>\u001b[0m         verify_integrity\u001b[39m=\u001b[39;49mverify_integrity,\n\u001b[0;32m    <a href='file:///c%3A/Users/nmert/OneDrive/Data%20Science/OMSA/HW%20%26%20Projects/omsa_dva_project/.venv/lib/site-packages/pandas/core/reshape/concat.py?line=354'>355</a>\u001b[0m         copy\u001b[39m=\u001b[39;49mcopy,\n\u001b[0;32m    <a href='file:///c%3A/Users/nmert/OneDrive/Data%20Science/OMSA/HW%20%26%20Projects/omsa_dva_project/.venv/lib/site-packages/pandas/core/reshape/concat.py?line=355'>356</a>\u001b[0m         sort\u001b[39m=\u001b[39;49msort,\n\u001b[0;32m    <a href='file:///c%3A/Users/nmert/OneDrive/Data%20Science/OMSA/HW%20%26%20Projects/omsa_dva_project/.venv/lib/site-packages/pandas/core/reshape/concat.py?line=356'>357</a>\u001b[0m     )\n\u001b[0;32m    <a href='file:///c%3A/Users/nmert/OneDrive/Data%20Science/OMSA/HW%20%26%20Projects/omsa_dva_project/.venv/lib/site-packages/pandas/core/reshape/concat.py?line=358'>359</a>\u001b[0m     \u001b[39mreturn\u001b[39;00m op\u001b[39m.\u001b[39mget_result()\n",
      "File \u001b[1;32mc:\\Users\\nmert\\OneDrive\\Data Science\\OMSA\\HW & Projects\\omsa_dva_project\\.venv\\lib\\site-packages\\pandas\\core\\reshape\\concat.py:403\u001b[0m, in \u001b[0;36m_Concatenator.__init__\u001b[1;34m(self, objs, axis, join, keys, levels, names, ignore_index, verify_integrity, copy, sort)\u001b[0m\n\u001b[0;32m    <a href='file:///c%3A/Users/nmert/OneDrive/Data%20Science/OMSA/HW%20%26%20Projects/omsa_dva_project/.venv/lib/site-packages/pandas/core/reshape/concat.py?line=399'>400</a>\u001b[0m     objs \u001b[39m=\u001b[39m \u001b[39mlist\u001b[39m(objs)\n\u001b[0;32m    <a href='file:///c%3A/Users/nmert/OneDrive/Data%20Science/OMSA/HW%20%26%20Projects/omsa_dva_project/.venv/lib/site-packages/pandas/core/reshape/concat.py?line=401'>402</a>\u001b[0m \u001b[39mif\u001b[39;00m \u001b[39mlen\u001b[39m(objs) \u001b[39m==\u001b[39m \u001b[39m0\u001b[39m:\n\u001b[1;32m--> <a href='file:///c%3A/Users/nmert/OneDrive/Data%20Science/OMSA/HW%20%26%20Projects/omsa_dva_project/.venv/lib/site-packages/pandas/core/reshape/concat.py?line=402'>403</a>\u001b[0m     \u001b[39mraise\u001b[39;00m \u001b[39mValueError\u001b[39;00m(\u001b[39m\"\u001b[39m\u001b[39mNo objects to concatenate\u001b[39m\u001b[39m\"\u001b[39m)\n\u001b[0;32m    <a href='file:///c%3A/Users/nmert/OneDrive/Data%20Science/OMSA/HW%20%26%20Projects/omsa_dva_project/.venv/lib/site-packages/pandas/core/reshape/concat.py?line=404'>405</a>\u001b[0m \u001b[39mif\u001b[39;00m keys \u001b[39mis\u001b[39;00m \u001b[39mNone\u001b[39;00m:\n\u001b[0;32m    <a href='file:///c%3A/Users/nmert/OneDrive/Data%20Science/OMSA/HW%20%26%20Projects/omsa_dva_project/.venv/lib/site-packages/pandas/core/reshape/concat.py?line=405'>406</a>\u001b[0m     objs \u001b[39m=\u001b[39m \u001b[39mlist\u001b[39m(com\u001b[39m.\u001b[39mnot_none(\u001b[39m*\u001b[39mobjs))\n",
      "\u001b[1;31mValueError\u001b[0m: No objects to concatenate"
     ]
    }
   ],
   "source": [
    "for site in sites[1:2]:\n",
    "    dfb = []\n",
    "\n",
    "    e = electricity.loc[electricity.site_id == site, :]\n",
    "    w = weather.loc[weather.site_id == site, :]\n",
    "    b = electricity.building_id.unique()\n",
    "\n",
    "    for building in b:\n",
    "        df = e.loc[e.building_id == building, :]\n",
    "        df = df.merge(w, left_on = [\"timestamp\"], right_on = [\"timestamp\"], how = \"left\")\n",
    "        df = df.sort_values(\"timestamp\").set_index(\"timestamp\")\n",
    "        df[\"cloud_coverage\"] = df[\"cloud_coverage\"].astype(\"category\")\n",
    "        df = df.rename(columns = {\"site_id_x\": \"site_id\"})\n",
    "        df = df.drop(columns= [\"site_id_y\"])\n",
    "        for col in df.columns:\n",
    "            if col == \"cloud_coverage\":\n",
    "                df.loc[:, col] = df.loc[:, col].fillna(method=\"bfill\") # Back fill this categorical\n",
    "            elif col in [\"site_id\", \"building_id\", \"timestamp\", \"sq_meter\"]:\n",
    "                pass\n",
    "            else:\n",
    "                q_low = df[col].quantile(0.01)\n",
    "                q_hi  = df[col].quantile(0.99)\n",
    "                df.loc[~((df[col] > q_low) & (df[col] < q_hi)), col] = np.nan\n",
    "                df.loc[:, col] = df.loc[:, col].interpolate(method = \"cubic\", limit = 6)\n",
    "        df = time_features(df.reset_index())\n",
    "        dfb.append(df)\n",
    "    result = pd.concat(dfb)\n",
    "    result.isna().sum()*100/len(result)\n",
    "    cols = result.columns.to_list()\n",
    "    cols.remove(\"precipitation_depth_6_hr\")\n",
    "    result = result[cols].dropna(how = \"any\")\n",
    "    result = result.sort_values([\"building_id\", \"timestamp\"])\n",
    "    result.isna().sum()*100/len(result)\n",
    "    buildings = result.building_id.unique()\n",
    "    result.building_id = result.building_id.astype(\"category\")\n",
    "    result.cloud_coverage = result.cloud_coverage.astype(\"category\")\n",
    "\n",
    "    days_test = 7\n",
    "    test_lengths = 24 * days_test\n",
    "\n",
    "    dfs_test = []\n",
    "    dfs_train = []\n",
    "    dfs_val = []\n",
    "\n",
    "    for building in buildings:\n",
    "        df = result.loc[result.building_id == building, :].sort_values([\"timestamp\"]).reset_index(drop = False)\n",
    "        val_cutoff = int(df.shape[0] * 0.80)\n",
    "        df_train = df[:val_cutoff]\n",
    "        df_val = df[val_cutoff:]\n",
    "        \n",
    "        dfs_train.append(df_train)\n",
    "        dfs_val.append(df_val)\n",
    "\n",
    "    train = pd.concat(dfs_train).reset_index(drop = True)\n",
    "    val = pd.concat(dfs_val).reset_index(drop = True)\n",
    "\n",
    "    directory = f\"forecasting/data/{site}\"\n",
    "    file_name = f\"test.parq\"\n",
    "\n",
    "    directory = f\"forecasting/data/{site}\"\n",
    "    file_name = f\"train.parq\"\n",
    "    train.to_parquet(path = file_name, engine = \"pyarrow\", compression = \"gzip\", index = False)\n",
    "    storage.upload(file_system, directory = directory, file_name = file_name, file_path = file_name, overwrite=True)\n",
    "\n",
    "    directory = f\"forecasting/data/{site}\"\n",
    "    file_name = f\"val.parq\"\n",
    "    val.to_parquet(path = file_name, engine = \"pyarrow\", compression = \"gzip\", index = False)\n",
    "    storage.upload(file_system, directory = directory, file_name = file_name, file_path = file_name, overwrite=True)"
   ]
  }
 ],
 "metadata": {
  "interpreter": {
   "hash": "a36958482b636de30c6f22e27dd07f9205d77a571c040a53f5dd2b190cea407e"
  },
  "kernelspec": {
   "display_name": "Python 3.8.8 ('.venv': venv)",
   "language": "python",
   "name": "python3"
  },
  "language_info": {
   "codemirror_mode": {
    "name": "ipython",
    "version": 3
   },
   "file_extension": ".py",
   "mimetype": "text/x-python",
   "name": "python",
   "nbconvert_exporter": "python",
   "pygments_lexer": "ipython3",
   "version": "3.8.8"
  },
  "orig_nbformat": 4
 },
 "nbformat": 4,
 "nbformat_minor": 2
}
