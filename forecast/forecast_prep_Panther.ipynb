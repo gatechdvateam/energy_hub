{
 "cells": [
  {
   "cell_type": "code",
   "execution_count": 5,
   "metadata": {},
   "outputs": [],
   "source": [
    "import sys\n",
    "sys.path.append(\"..\")\n",
    "from data_prep.prep import MeterDataSet\n",
    "import pandas as pd\n",
    "import numpy as np\n",
    "from webapp.utils.azure_utils import KeyVault, DataLake\n",
    "from copy import deepcopy"
   ]
  },
  {
   "cell_type": "code",
   "execution_count": 6,
   "metadata": {},
   "outputs": [],
   "source": [
    "# Connect to Storage Account\n",
    "vault = KeyVault(keyVaultName = \"keyvaultdva2022\")\n",
    "storage_credential = vault.get_secret(secretName = \"storagePrimaryKey\")\n",
    "storage = DataLake(account_name = \"storageaccountdva\", credential = storage_credential)\n",
    "file_system = \"energyhub\""
   ]
  },
  {
   "cell_type": "code",
   "execution_count": 7,
   "metadata": {},
   "outputs": [],
   "source": [
    "meter = \"electricity\"\n",
    "metadata_cols = ['building_id', 'site_id','sq_meter']\n",
    "weather_cols = ['site_id', 'timestamp', 'air_temperature', 'cloud_coverage', 'dew_temperature', 'precipitation_depth_1_hr',\n",
    "    'precipitation_depth_6_hr', 'sea_level_pressure', 'wind_direction',\n",
    "    'wind_speed']"
   ]
  },
  {
   "cell_type": "code",
   "execution_count": 8,
   "metadata": {},
   "outputs": [],
   "source": [
    "metadata = storage.pandas_read(file_system, directory=\"data_parq/metadata\", file_name=\"metadata.parq\")\n",
    "weather = storage.pandas_read(file_system, directory=\"data_parq/weather\", file_name=\"weather.parq\")\n",
    "electricity = storage.pandas_read(file_system, directory=\"data_parq/meters\", file_name=\"electricity.parq\")\n",
    "bad_buildings = storage.pandas_read(file_system, directory=\"bad_buildings\", file_name=\"bad_buildings.csv\")[\"building_id\"].to_list()"
   ]
  },
  {
   "cell_type": "code",
   "execution_count": 9,
   "metadata": {},
   "outputs": [],
   "source": [
    "# Add cos, sin time features:\n",
    "def time_features(dff):\n",
    "    dff = deepcopy(dff)\n",
    "\n",
    "    dff[\"hour\"] = dff.timestamp.dt.hour\n",
    "    dff[\"weekday\"] = dff.timestamp.dt.weekday\n",
    "    dff[\"month\"] = dff.timestamp.dt.month\n",
    "    dff[\"year\"] = dff.timestamp.dt.year \n",
    "    \n",
    "    dff = dff.sort_values(by = \"timestamp\")\n",
    "    dff[\"time_idx\"] = dff.index\n",
    "\n",
    "    dff[\"time_norm\"] = 2 * np.pi * dff[\"time_idx\"] / dff[\"time_idx\"].max()\n",
    "    dff[\"cos_time\"] = np.cos(dff[\"time_norm\"])\n",
    "    dff[\"sin_time\"] = np.sin(dff[\"time_norm\"])\n",
    "\n",
    "    dff[\"month_cos\"] = np.cos(2*np.pi*dff[\"time_idx\"]/(30.4*24))\n",
    "    dff[\"month_sin\"] = np.sin(2*np.pi*dff[\"time_idx\"]/(30.4*24))\n",
    "        \n",
    "    dff[\"weekday_cos\"] = np.cos(2*np.pi*dff[\"time_idx\"]/(7*24))\n",
    "    dff[\"weekday_sin\"] = np.sin(2*np.pi*dff[\"time_idx\"]/(7*24))\n",
    "\n",
    "    return dff.set_index(\"timestamp\")"
   ]
  },
  {
   "cell_type": "code",
   "execution_count": 10,
   "metadata": {},
   "outputs": [],
   "source": [
    "metadata = metadata[metadata_cols]\n",
    "weather = weather[weather_cols]"
   ]
  },
  {
   "cell_type": "code",
   "execution_count": 11,
   "metadata": {},
   "outputs": [],
   "source": [
    "# Add site_id to electricity:\n",
    "electricity = pd.merge(electricity, metadata, on = \"building_id\", how = \"left\")"
   ]
  },
  {
   "cell_type": "code",
   "execution_count": 12,
   "metadata": {},
   "outputs": [],
   "source": [
    "buildings = electricity.building_id.unique()\n",
    "buildings = [building for building in buildings if building not in bad_buildings]\n",
    "electricity = electricity[electricity.building_id.isin(buildings)]"
   ]
  },
  {
   "cell_type": "code",
   "execution_count": 13,
   "metadata": {},
   "outputs": [],
   "source": [
    "sites = electricity.site_id.unique().to_list()"
   ]
  },
  {
   "cell_type": "code",
   "execution_count": 14,
   "metadata": {},
   "outputs": [
    {
     "data": {
      "text/plain": [
       "['Panther',\n",
       " 'Robin',\n",
       " 'Fox',\n",
       " 'Rat',\n",
       " 'Bear',\n",
       " 'Lamb',\n",
       " 'Peacock',\n",
       " 'Moose',\n",
       " 'Gator',\n",
       " 'Bull',\n",
       " 'Bobcat',\n",
       " 'Crow',\n",
       " 'Wolf',\n",
       " 'Hog',\n",
       " 'Eagle',\n",
       " 'Cockatoo',\n",
       " 'Mouse']"
      ]
     },
     "execution_count": 14,
     "metadata": {},
     "output_type": "execute_result"
    }
   ],
   "source": [
    "sites"
   ]
  },
  {
   "cell_type": "code",
   "execution_count": 15,
   "metadata": {},
   "outputs": [],
   "source": [
    "dfb = []\n",
    "site = \"Panther\"\n",
    "\n",
    "e = electricity.loc[electricity.site_id == site, :]\n",
    "w = weather.loc[weather.site_id == site, :]\n",
    "b = electricity.building_id.unique()\n",
    "\n",
    "for building in b:\n",
    "    df = e.loc[e.building_id == building, :]\n",
    "    df = df.merge(w, left_on = [\"timestamp\"], right_on = [\"timestamp\"], how = \"left\")\n",
    "    df = df.sort_values(\"timestamp\").set_index(\"timestamp\")\n",
    "    df[\"cloud_coverage\"] = df[\"cloud_coverage\"].astype(\"category\")\n",
    "    df = df.rename(columns = {\"site_id_x\": \"site_id\"})\n",
    "    df = df.drop(columns= [\"site_id_y\"])\n",
    "    for col in df.columns:\n",
    "        if col == \"cloud_coverage\":\n",
    "            df.loc[:, col] = df.loc[:, col].fillna(method=\"bfill\") # Back fill this categorical\n",
    "        elif col in [\"site_id\", \"building_id\", \"timestamp\", \"sq_meter\"]:\n",
    "            pass\n",
    "        else:\n",
    "            q_low = df[col].quantile(0.01)\n",
    "            q_hi  = df[col].quantile(0.99)\n",
    "            df.loc[~((df[col] > q_low) & (df[col] < q_hi)), col] = np.nan\n",
    "            df.loc[:, col] = df.loc[:, col].interpolate(method = \"cubic\", limit = 6)\n",
    "    df = time_features(df.reset_index())\n",
    "    dfb.append(df)"
   ]
  },
  {
   "cell_type": "code",
   "execution_count": 17,
   "metadata": {},
   "outputs": [],
   "source": [
    "result = pd.concat(dfb)"
   ]
  },
  {
   "cell_type": "code",
   "execution_count": 18,
   "metadata": {},
   "outputs": [
    {
     "data": {
      "text/plain": [
       "building_id                  0.000000\n",
       "electricity                 19.483053\n",
       "site_id                      0.000000\n",
       "sq_meter                     0.000000\n",
       "air_temperature              0.381897\n",
       "cloud_coverage               0.017100\n",
       "dew_temperature              0.894893\n",
       "precipitation_depth_1_hr     0.057000\n",
       "precipitation_depth_6_hr    82.090743\n",
       "sea_level_pressure           1.681487\n",
       "wind_direction               0.661195\n",
       "wind_speed                   0.626995\n",
       "hour                         0.000000\n",
       "weekday                      0.000000\n",
       "month                        0.000000\n",
       "year                         0.000000\n",
       "time_idx                     0.000000\n",
       "time_norm                    0.000000\n",
       "cos_time                     0.000000\n",
       "sin_time                     0.000000\n",
       "month_cos                    0.000000\n",
       "month_sin                    0.000000\n",
       "weekday_cos                  0.000000\n",
       "weekday_sin                  0.000000\n",
       "dtype: float64"
      ]
     },
     "execution_count": 18,
     "metadata": {},
     "output_type": "execute_result"
    }
   ],
   "source": [
    "result.isna().sum()*100/len(result)"
   ]
  },
  {
   "cell_type": "code",
   "execution_count": 19,
   "metadata": {},
   "outputs": [],
   "source": [
    "cols = result.columns.to_list()\n",
    "cols.remove(\"precipitation_depth_6_hr\")"
   ]
  },
  {
   "cell_type": "code",
   "execution_count": 20,
   "metadata": {},
   "outputs": [],
   "source": [
    "result = result[cols].dropna(how = \"any\")"
   ]
  },
  {
   "cell_type": "code",
   "execution_count": 21,
   "metadata": {},
   "outputs": [],
   "source": [
    "result = result.sort_values([\"building_id\", \"timestamp\"])"
   ]
  },
  {
   "cell_type": "code",
   "execution_count": 22,
   "metadata": {},
   "outputs": [
    {
     "data": {
      "text/plain": [
       "building_id                 0.0\n",
       "electricity                 0.0\n",
       "site_id                     0.0\n",
       "sq_meter                    0.0\n",
       "air_temperature             0.0\n",
       "cloud_coverage              0.0\n",
       "dew_temperature             0.0\n",
       "precipitation_depth_1_hr    0.0\n",
       "sea_level_pressure          0.0\n",
       "wind_direction              0.0\n",
       "wind_speed                  0.0\n",
       "hour                        0.0\n",
       "weekday                     0.0\n",
       "month                       0.0\n",
       "year                        0.0\n",
       "time_idx                    0.0\n",
       "time_norm                   0.0\n",
       "cos_time                    0.0\n",
       "sin_time                    0.0\n",
       "month_cos                   0.0\n",
       "month_sin                   0.0\n",
       "weekday_cos                 0.0\n",
       "weekday_sin                 0.0\n",
       "dtype: float64"
      ]
     },
     "execution_count": 22,
     "metadata": {},
     "output_type": "execute_result"
    }
   ],
   "source": [
    "result.isna().sum()*100/len(result)"
   ]
  },
  {
   "cell_type": "code",
   "execution_count": 23,
   "metadata": {},
   "outputs": [],
   "source": [
    "buildings = result.building_id.unique()"
   ]
  },
  {
   "cell_type": "code",
   "execution_count": 24,
   "metadata": {},
   "outputs": [],
   "source": [
    "result.building_id = result.building_id.astype(\"category\")\n",
    "result.cloud_coverage = result.cloud_coverage.astype(\"category\")"
   ]
  },
  {
   "cell_type": "code",
   "execution_count": 25,
   "metadata": {},
   "outputs": [],
   "source": [
    "building = buildings[0]\n",
    "df = result.loc[result.building_id == building, :].sort_values([\"timestamp\"]).reset_index(drop = False)"
   ]
  },
  {
   "cell_type": "code",
   "execution_count": 47,
   "metadata": {},
   "outputs": [],
   "source": [
    "days_test = 7\n",
    "test_lengths = 24 * days_test\n",
    "\n",
    "dfs_test = []\n",
    "dfs_train = []\n",
    "dfs_val = []\n",
    "\n",
    "for building in buildings:\n",
    "    df = result.loc[result.building_id == building, :].sort_values([\"timestamp\"]).reset_index(drop = False)\n",
    "    val_cutoff = int(df.shape[0] * 0.80)\n",
    "    df_train = df[:val_cutoff]\n",
    "    df_val = df[val_cutoff:]\n",
    "    \n",
    "    dfs_train.append(df_train)\n",
    "    dfs_val.append(df_val)\n",
    "\n",
    "train = pd.concat(dfs_train).reset_index(drop = True)\n",
    "val = pd.concat(dfs_val).reset_index(drop = True)"
   ]
  },
  {
   "cell_type": "code",
   "execution_count": 48,
   "metadata": {},
   "outputs": [
    {
     "name": "stdout",
     "output_type": "stream",
     "text": [
      "train.parq write complete\n",
      "val.parq write complete\n"
     ]
    }
   ],
   "source": [
    "directory = f\"forecasting/data/{site}\"\n",
    "file_name = f\"test.parq\"\n",
    "\n",
    "directory = f\"forecasting/data/{site}\"\n",
    "file_name = f\"train.parq\"\n",
    "train.to_parquet(path = file_name, engine = \"pyarrow\", compression = \"gzip\", index = False)\n",
    "storage.upload(file_system, directory = directory, file_name = file_name, file_path = file_name, overwrite=True)\n",
    "\n",
    "directory = f\"forecasting/data/{site}\"\n",
    "file_name = f\"val.parq\"\n",
    "val.to_parquet(path = file_name, engine = \"pyarrow\", compression = \"gzip\", index = False)\n",
    "storage.upload(file_system, directory = directory, file_name = file_name, file_path = file_name, overwrite=True)"
   ]
  }
 ],
 "metadata": {
  "interpreter": {
   "hash": "a36958482b636de30c6f22e27dd07f9205d77a571c040a53f5dd2b190cea407e"
  },
  "kernelspec": {
   "display_name": "Python 3.8.8 ('.venv': venv)",
   "language": "python",
   "name": "python3"
  },
  "language_info": {
   "codemirror_mode": {
    "name": "ipython",
    "version": 3
   },
   "file_extension": ".py",
   "mimetype": "text/x-python",
   "name": "python",
   "nbconvert_exporter": "python",
   "pygments_lexer": "ipython3",
   "version": "3.8.8"
  },
  "orig_nbformat": 4
 },
 "nbformat": 4,
 "nbformat_minor": 2
}
