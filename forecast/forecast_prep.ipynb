{
 "cells": [
  {
   "cell_type": "code",
   "execution_count": 93,
   "metadata": {},
   "outputs": [],
   "source": [
    "import sys\n",
    "sys.path.append(\"..\")\n",
    "from data_prep.prep import MeterDataSet\n",
    "import pandas as pd\n",
    "import numpy as np\n",
    "from webapp.utils.azure_utils import KeyVault, DataLake"
   ]
  },
  {
   "cell_type": "code",
   "execution_count": 94,
   "metadata": {},
   "outputs": [],
   "source": [
    "# Connect to Storage Account\n",
    "vault = KeyVault(keyVaultName = \"keyvaultdva2022\")\n",
    "storage_credential = vault.get_secret(secretName = \"storagePrimaryKey\")\n",
    "storage = DataLake(account_name = \"storageaccountdva\", credential = storage_credential)\n",
    "file_system = \"energyhub\""
   ]
  },
  {
   "cell_type": "code",
   "execution_count": 95,
   "metadata": {},
   "outputs": [],
   "source": [
    "meter = \"electricity\"\n",
    "metadata_cols = ['building_id', 'site_id','sq_meter']\n",
    "weather_cols = ['site_id', 'timestamp', 'air_temperature', 'cloud_coverage', 'dew_temperature', 'precipitation_depth_1_hr',\n",
    "    'precipitation_depth_6_hr', 'sea_level_pressure', 'wind_direction',\n",
    "    'wind_speed']"
   ]
  },
  {
   "cell_type": "code",
   "execution_count": 96,
   "metadata": {},
   "outputs": [],
   "source": [
    "bad_building_dir = \"/bad_buildings\"\n",
    "data = MeterDataSet(meter, metadata_cols, weather_cols)\n",
    "bad_buildings = storage.pandas_read(\n",
    "            file_system, directory=bad_building_dir, file_name=\"bad_buildings.csv\")"
   ]
  },
  {
   "cell_type": "code",
   "execution_count": 97,
   "metadata": {},
   "outputs": [],
   "source": [
    "# Treat nan for weather:\n",
    "w_cols = ['air_temperature', 'cloud_coverage', 'dew_temperature', 'precipitation_depth_1_hr',\n",
    "    'precipitation_depth_6_hr', 'sea_level_pressure', 'wind_direction',\n",
    "    'wind_speed']\n",
    "data.weather = data.fill_weather_na(w_cols = w_cols, fill_method = \"linear\")"
   ]
  },
  {
   "cell_type": "code",
   "execution_count": 98,
   "metadata": {},
   "outputs": [],
   "source": [
    "# Treat nan for meter:\n",
    "meter_cols = [meter]\n",
    "data.meter = data.fill_meter_na(meter_col = meter_cols, fill_method = \"linear\")"
   ]
  },
  {
   "cell_type": "code",
   "execution_count": 99,
   "metadata": {},
   "outputs": [],
   "source": [
    "data.weather = data.weather.compute()"
   ]
  },
  {
   "cell_type": "code",
   "execution_count": 100,
   "metadata": {},
   "outputs": [],
   "source": [
    "data.meter = data.meter.compute()"
   ]
  },
  {
   "cell_type": "code",
   "execution_count": 101,
   "metadata": {},
   "outputs": [],
   "source": [
    "data.metadata = data.metadata.compute()"
   ]
  },
  {
   "cell_type": "code",
   "execution_count": 102,
   "metadata": {},
   "outputs": [],
   "source": [
    "df = data.meter.merge(data.metadata, how=\"left\", left_on=\"building_id\", right_on=\"building_id\")\n",
    "df = df[~df.building_id.isin(bad_buildings[\"building_id\"])]"
   ]
  },
  {
   "cell_type": "code",
   "execution_count": 109,
   "metadata": {},
   "outputs": [],
   "source": [
    "buildings = df.building_id.unique()"
   ]
  },
  {
   "cell_type": "code",
   "execution_count": 136,
   "metadata": {},
   "outputs": [
    {
     "ename": "MemoryError",
     "evalue": "Unable to allocate 617. MiB for an array with shape (9, 8988425) and data type float64",
     "output_type": "error",
     "traceback": [
      "\u001b[1;31m---------------------------------------------------------------------------\u001b[0m",
      "\u001b[1;31mMemoryError\u001b[0m                               Traceback (most recent call last)",
      "\u001b[1;32mc:\\Users\\nmert\\OneDrive\\Data Science\\OMSA\\HW & Projects\\omsa_dva_project\\forecast\\forecast_prep.ipynb Cell 12'\u001b[0m in \u001b[0;36m<cell line: 3>\u001b[1;34m()\u001b[0m\n\u001b[0;32m      <a href='vscode-notebook-cell:/c%3A/Users/nmert/OneDrive/Data%20Science/OMSA/HW%20%26%20Projects/omsa_dva_project/forecast/forecast_prep.ipynb#ch0000033?line=5'>6</a>\u001b[0m site_id \u001b[39m=\u001b[39m d[\u001b[39m\"\u001b[39m\u001b[39msite_id\u001b[39m\u001b[39m\"\u001b[39m][\u001b[39m0\u001b[39m]\n\u001b[0;32m      <a href='vscode-notebook-cell:/c%3A/Users/nmert/OneDrive/Data%20Science/OMSA/HW%20%26%20Projects/omsa_dva_project/forecast/forecast_prep.ipynb#ch0000033?line=6'>7</a>\u001b[0m w \u001b[39m=\u001b[39m data\u001b[39m.\u001b[39mweather\u001b[39m.\u001b[39mloc[data\u001b[39m.\u001b[39mweather\u001b[39m.\u001b[39msite_id \u001b[39m==\u001b[39m site_id, :]\u001b[39m.\u001b[39mset_index(\u001b[39m\"\u001b[39m\u001b[39mtimestamp\u001b[39m\u001b[39m\"\u001b[39m)\n\u001b[1;32m----> <a href='vscode-notebook-cell:/c%3A/Users/nmert/OneDrive/Data%20Science/OMSA/HW%20%26%20Projects/omsa_dva_project/forecast/forecast_prep.ipynb#ch0000033?line=7'>8</a>\u001b[0m dw \u001b[39m=\u001b[39m d\u001b[39m.\u001b[39;49mmerge(w)\u001b[39m.\u001b[39;49mreset_index(drop \u001b[39m=\u001b[39;49m \u001b[39mTrue\u001b[39;49;00m)\n\u001b[0;32m      <a href='vscode-notebook-cell:/c%3A/Users/nmert/OneDrive/Data%20Science/OMSA/HW%20%26%20Projects/omsa_dva_project/forecast/forecast_prep.ipynb#ch0000033?line=8'>9</a>\u001b[0m dfs\u001b[39m.\u001b[39mappend(dw)\n",
      "File \u001b[1;32mc:\\Users\\nmert\\OneDrive\\Data Science\\OMSA\\HW & Projects\\omsa_dva_project\\.venv\\lib\\site-packages\\pandas\\util\\_decorators.py:311\u001b[0m, in \u001b[0;36mdeprecate_nonkeyword_arguments.<locals>.decorate.<locals>.wrapper\u001b[1;34m(*args, **kwargs)\u001b[0m\n\u001b[0;32m    <a href='file:///c%3A/Users/nmert/OneDrive/Data%20Science/OMSA/HW%20%26%20Projects/omsa_dva_project/.venv/lib/site-packages/pandas/util/_decorators.py?line=304'>305</a>\u001b[0m \u001b[39mif\u001b[39;00m \u001b[39mlen\u001b[39m(args) \u001b[39m>\u001b[39m num_allow_args:\n\u001b[0;32m    <a href='file:///c%3A/Users/nmert/OneDrive/Data%20Science/OMSA/HW%20%26%20Projects/omsa_dva_project/.venv/lib/site-packages/pandas/util/_decorators.py?line=305'>306</a>\u001b[0m     warnings\u001b[39m.\u001b[39mwarn(\n\u001b[0;32m    <a href='file:///c%3A/Users/nmert/OneDrive/Data%20Science/OMSA/HW%20%26%20Projects/omsa_dva_project/.venv/lib/site-packages/pandas/util/_decorators.py?line=306'>307</a>\u001b[0m         msg\u001b[39m.\u001b[39mformat(arguments\u001b[39m=\u001b[39marguments),\n\u001b[0;32m    <a href='file:///c%3A/Users/nmert/OneDrive/Data%20Science/OMSA/HW%20%26%20Projects/omsa_dva_project/.venv/lib/site-packages/pandas/util/_decorators.py?line=307'>308</a>\u001b[0m         \u001b[39mFutureWarning\u001b[39;00m,\n\u001b[0;32m    <a href='file:///c%3A/Users/nmert/OneDrive/Data%20Science/OMSA/HW%20%26%20Projects/omsa_dva_project/.venv/lib/site-packages/pandas/util/_decorators.py?line=308'>309</a>\u001b[0m         stacklevel\u001b[39m=\u001b[39mstacklevel,\n\u001b[0;32m    <a href='file:///c%3A/Users/nmert/OneDrive/Data%20Science/OMSA/HW%20%26%20Projects/omsa_dva_project/.venv/lib/site-packages/pandas/util/_decorators.py?line=309'>310</a>\u001b[0m     )\n\u001b[1;32m--> <a href='file:///c%3A/Users/nmert/OneDrive/Data%20Science/OMSA/HW%20%26%20Projects/omsa_dva_project/.venv/lib/site-packages/pandas/util/_decorators.py?line=310'>311</a>\u001b[0m \u001b[39mreturn\u001b[39;00m func(\u001b[39m*\u001b[39;49margs, \u001b[39m*\u001b[39;49m\u001b[39m*\u001b[39;49mkwargs)\n",
      "File \u001b[1;32mc:\\Users\\nmert\\OneDrive\\Data Science\\OMSA\\HW & Projects\\omsa_dva_project\\.venv\\lib\\site-packages\\pandas\\core\\frame.py:5781\u001b[0m, in \u001b[0;36mDataFrame.reset_index\u001b[1;34m(self, level, drop, inplace, col_level, col_fill)\u001b[0m\n\u001b[0;32m   <a href='file:///c%3A/Users/nmert/OneDrive/Data%20Science/OMSA/HW%20%26%20Projects/omsa_dva_project/.venv/lib/site-packages/pandas/core/frame.py?line=5778'>5779</a>\u001b[0m     new_obj \u001b[39m=\u001b[39m \u001b[39mself\u001b[39m\n\u001b[0;32m   <a href='file:///c%3A/Users/nmert/OneDrive/Data%20Science/OMSA/HW%20%26%20Projects/omsa_dva_project/.venv/lib/site-packages/pandas/core/frame.py?line=5779'>5780</a>\u001b[0m \u001b[39melse\u001b[39;00m:\n\u001b[1;32m-> <a href='file:///c%3A/Users/nmert/OneDrive/Data%20Science/OMSA/HW%20%26%20Projects/omsa_dva_project/.venv/lib/site-packages/pandas/core/frame.py?line=5780'>5781</a>\u001b[0m     new_obj \u001b[39m=\u001b[39m \u001b[39mself\u001b[39;49m\u001b[39m.\u001b[39;49mcopy()\n\u001b[0;32m   <a href='file:///c%3A/Users/nmert/OneDrive/Data%20Science/OMSA/HW%20%26%20Projects/omsa_dva_project/.venv/lib/site-packages/pandas/core/frame.py?line=5782'>5783</a>\u001b[0m new_index \u001b[39m=\u001b[39m default_index(\u001b[39mlen\u001b[39m(new_obj))\n\u001b[0;32m   <a href='file:///c%3A/Users/nmert/OneDrive/Data%20Science/OMSA/HW%20%26%20Projects/omsa_dva_project/.venv/lib/site-packages/pandas/core/frame.py?line=5783'>5784</a>\u001b[0m \u001b[39mif\u001b[39;00m level \u001b[39mis\u001b[39;00m \u001b[39mnot\u001b[39;00m \u001b[39mNone\u001b[39;00m:\n",
      "File \u001b[1;32mc:\\Users\\nmert\\OneDrive\\Data Science\\OMSA\\HW & Projects\\omsa_dva_project\\.venv\\lib\\site-packages\\pandas\\core\\generic.py:6040\u001b[0m, in \u001b[0;36mNDFrame.copy\u001b[1;34m(self, deep)\u001b[0m\n\u001b[0;32m   <a href='file:///c%3A/Users/nmert/OneDrive/Data%20Science/OMSA/HW%20%26%20Projects/omsa_dva_project/.venv/lib/site-packages/pandas/core/generic.py?line=5933'>5934</a>\u001b[0m \u001b[39m@final\u001b[39m\n\u001b[0;32m   <a href='file:///c%3A/Users/nmert/OneDrive/Data%20Science/OMSA/HW%20%26%20Projects/omsa_dva_project/.venv/lib/site-packages/pandas/core/generic.py?line=5934'>5935</a>\u001b[0m \u001b[39mdef\u001b[39;00m \u001b[39mcopy\u001b[39m(\u001b[39mself\u001b[39m: NDFrameT, deep: bool_t \u001b[39m=\u001b[39m \u001b[39mTrue\u001b[39;00m) \u001b[39m-\u001b[39m\u001b[39m>\u001b[39m NDFrameT:\n\u001b[0;32m   <a href='file:///c%3A/Users/nmert/OneDrive/Data%20Science/OMSA/HW%20%26%20Projects/omsa_dva_project/.venv/lib/site-packages/pandas/core/generic.py?line=5935'>5936</a>\u001b[0m     \u001b[39m\"\"\"\u001b[39;00m\n\u001b[0;32m   <a href='file:///c%3A/Users/nmert/OneDrive/Data%20Science/OMSA/HW%20%26%20Projects/omsa_dva_project/.venv/lib/site-packages/pandas/core/generic.py?line=5936'>5937</a>\u001b[0m \u001b[39m    Make a copy of this object's indices and data.\u001b[39;00m\n\u001b[0;32m   <a href='file:///c%3A/Users/nmert/OneDrive/Data%20Science/OMSA/HW%20%26%20Projects/omsa_dva_project/.venv/lib/site-packages/pandas/core/generic.py?line=5937'>5938</a>\u001b[0m \n\u001b[1;32m   (...)\u001b[0m\n\u001b[0;32m   <a href='file:///c%3A/Users/nmert/OneDrive/Data%20Science/OMSA/HW%20%26%20Projects/omsa_dva_project/.venv/lib/site-packages/pandas/core/generic.py?line=6037'>6038</a>\u001b[0m \u001b[39m    dtype: object\u001b[39;00m\n\u001b[0;32m   <a href='file:///c%3A/Users/nmert/OneDrive/Data%20Science/OMSA/HW%20%26%20Projects/omsa_dva_project/.venv/lib/site-packages/pandas/core/generic.py?line=6038'>6039</a>\u001b[0m \u001b[39m    \"\"\"\u001b[39;00m\n\u001b[1;32m-> <a href='file:///c%3A/Users/nmert/OneDrive/Data%20Science/OMSA/HW%20%26%20Projects/omsa_dva_project/.venv/lib/site-packages/pandas/core/generic.py?line=6039'>6040</a>\u001b[0m     data \u001b[39m=\u001b[39m \u001b[39mself\u001b[39;49m\u001b[39m.\u001b[39;49m_mgr\u001b[39m.\u001b[39;49mcopy(deep\u001b[39m=\u001b[39;49mdeep)\n\u001b[0;32m   <a href='file:///c%3A/Users/nmert/OneDrive/Data%20Science/OMSA/HW%20%26%20Projects/omsa_dva_project/.venv/lib/site-packages/pandas/core/generic.py?line=6040'>6041</a>\u001b[0m     \u001b[39mself\u001b[39m\u001b[39m.\u001b[39m_clear_item_cache()\n\u001b[0;32m   <a href='file:///c%3A/Users/nmert/OneDrive/Data%20Science/OMSA/HW%20%26%20Projects/omsa_dva_project/.venv/lib/site-packages/pandas/core/generic.py?line=6041'>6042</a>\u001b[0m     \u001b[39mreturn\u001b[39;00m \u001b[39mself\u001b[39m\u001b[39m.\u001b[39m_constructor(data)\u001b[39m.\u001b[39m__finalize__(\u001b[39mself\u001b[39m, method\u001b[39m=\u001b[39m\u001b[39m\"\u001b[39m\u001b[39mcopy\u001b[39m\u001b[39m\"\u001b[39m)\n",
      "File \u001b[1;32mc:\\Users\\nmert\\OneDrive\\Data Science\\OMSA\\HW & Projects\\omsa_dva_project\\.venv\\lib\\site-packages\\pandas\\core\\internals\\managers.py:615\u001b[0m, in \u001b[0;36mBaseBlockManager.copy\u001b[1;34m(self, deep)\u001b[0m\n\u001b[0;32m    <a href='file:///c%3A/Users/nmert/OneDrive/Data%20Science/OMSA/HW%20%26%20Projects/omsa_dva_project/.venv/lib/site-packages/pandas/core/internals/managers.py?line=611'>612</a>\u001b[0m         res\u001b[39m.\u001b[39m_blklocs \u001b[39m=\u001b[39m \u001b[39mself\u001b[39m\u001b[39m.\u001b[39m_blklocs\u001b[39m.\u001b[39mcopy()\n\u001b[0;32m    <a href='file:///c%3A/Users/nmert/OneDrive/Data%20Science/OMSA/HW%20%26%20Projects/omsa_dva_project/.venv/lib/site-packages/pandas/core/internals/managers.py?line=613'>614</a>\u001b[0m \u001b[39mif\u001b[39;00m deep:\n\u001b[1;32m--> <a href='file:///c%3A/Users/nmert/OneDrive/Data%20Science/OMSA/HW%20%26%20Projects/omsa_dva_project/.venv/lib/site-packages/pandas/core/internals/managers.py?line=614'>615</a>\u001b[0m     res\u001b[39m.\u001b[39;49m_consolidate_inplace()\n\u001b[0;32m    <a href='file:///c%3A/Users/nmert/OneDrive/Data%20Science/OMSA/HW%20%26%20Projects/omsa_dva_project/.venv/lib/site-packages/pandas/core/internals/managers.py?line=615'>616</a>\u001b[0m \u001b[39mreturn\u001b[39;00m res\n",
      "File \u001b[1;32mc:\\Users\\nmert\\OneDrive\\Data Science\\OMSA\\HW & Projects\\omsa_dva_project\\.venv\\lib\\site-packages\\pandas\\core\\internals\\managers.py:1685\u001b[0m, in \u001b[0;36mBlockManager._consolidate_inplace\u001b[1;34m(self)\u001b[0m\n\u001b[0;32m   <a href='file:///c%3A/Users/nmert/OneDrive/Data%20Science/OMSA/HW%20%26%20Projects/omsa_dva_project/.venv/lib/site-packages/pandas/core/internals/managers.py?line=1682'>1683</a>\u001b[0m \u001b[39mdef\u001b[39;00m \u001b[39m_consolidate_inplace\u001b[39m(\u001b[39mself\u001b[39m) \u001b[39m-\u001b[39m\u001b[39m>\u001b[39m \u001b[39mNone\u001b[39;00m:\n\u001b[0;32m   <a href='file:///c%3A/Users/nmert/OneDrive/Data%20Science/OMSA/HW%20%26%20Projects/omsa_dva_project/.venv/lib/site-packages/pandas/core/internals/managers.py?line=1683'>1684</a>\u001b[0m     \u001b[39mif\u001b[39;00m \u001b[39mnot\u001b[39;00m \u001b[39mself\u001b[39m\u001b[39m.\u001b[39mis_consolidated():\n\u001b[1;32m-> <a href='file:///c%3A/Users/nmert/OneDrive/Data%20Science/OMSA/HW%20%26%20Projects/omsa_dva_project/.venv/lib/site-packages/pandas/core/internals/managers.py?line=1684'>1685</a>\u001b[0m         \u001b[39mself\u001b[39m\u001b[39m.\u001b[39mblocks \u001b[39m=\u001b[39m \u001b[39mtuple\u001b[39m(_consolidate(\u001b[39mself\u001b[39;49m\u001b[39m.\u001b[39;49mblocks))\n\u001b[0;32m   <a href='file:///c%3A/Users/nmert/OneDrive/Data%20Science/OMSA/HW%20%26%20Projects/omsa_dva_project/.venv/lib/site-packages/pandas/core/internals/managers.py?line=1685'>1686</a>\u001b[0m         \u001b[39mself\u001b[39m\u001b[39m.\u001b[39m_is_consolidated \u001b[39m=\u001b[39m \u001b[39mTrue\u001b[39;00m\n\u001b[0;32m   <a href='file:///c%3A/Users/nmert/OneDrive/Data%20Science/OMSA/HW%20%26%20Projects/omsa_dva_project/.venv/lib/site-packages/pandas/core/internals/managers.py?line=1686'>1687</a>\u001b[0m         \u001b[39mself\u001b[39m\u001b[39m.\u001b[39m_known_consolidated \u001b[39m=\u001b[39m \u001b[39mTrue\u001b[39;00m\n",
      "File \u001b[1;32mc:\\Users\\nmert\\OneDrive\\Data Science\\OMSA\\HW & Projects\\omsa_dva_project\\.venv\\lib\\site-packages\\pandas\\core\\internals\\managers.py:2084\u001b[0m, in \u001b[0;36m_consolidate\u001b[1;34m(blocks)\u001b[0m\n\u001b[0;32m   <a href='file:///c%3A/Users/nmert/OneDrive/Data%20Science/OMSA/HW%20%26%20Projects/omsa_dva_project/.venv/lib/site-packages/pandas/core/internals/managers.py?line=2081'>2082</a>\u001b[0m new_blocks: \u001b[39mlist\u001b[39m[Block] \u001b[39m=\u001b[39m []\n\u001b[0;32m   <a href='file:///c%3A/Users/nmert/OneDrive/Data%20Science/OMSA/HW%20%26%20Projects/omsa_dva_project/.venv/lib/site-packages/pandas/core/internals/managers.py?line=2082'>2083</a>\u001b[0m \u001b[39mfor\u001b[39;00m (_can_consolidate, dtype), group_blocks \u001b[39min\u001b[39;00m grouper:\n\u001b[1;32m-> <a href='file:///c%3A/Users/nmert/OneDrive/Data%20Science/OMSA/HW%20%26%20Projects/omsa_dva_project/.venv/lib/site-packages/pandas/core/internals/managers.py?line=2083'>2084</a>\u001b[0m     merged_blocks \u001b[39m=\u001b[39m _merge_blocks(\n\u001b[0;32m   <a href='file:///c%3A/Users/nmert/OneDrive/Data%20Science/OMSA/HW%20%26%20Projects/omsa_dva_project/.venv/lib/site-packages/pandas/core/internals/managers.py?line=2084'>2085</a>\u001b[0m         \u001b[39mlist\u001b[39;49m(group_blocks), dtype\u001b[39m=\u001b[39;49mdtype, can_consolidate\u001b[39m=\u001b[39;49m_can_consolidate\n\u001b[0;32m   <a href='file:///c%3A/Users/nmert/OneDrive/Data%20Science/OMSA/HW%20%26%20Projects/omsa_dva_project/.venv/lib/site-packages/pandas/core/internals/managers.py?line=2085'>2086</a>\u001b[0m     )\n\u001b[0;32m   <a href='file:///c%3A/Users/nmert/OneDrive/Data%20Science/OMSA/HW%20%26%20Projects/omsa_dva_project/.venv/lib/site-packages/pandas/core/internals/managers.py?line=2086'>2087</a>\u001b[0m     new_blocks \u001b[39m=\u001b[39m extend_blocks(merged_blocks, new_blocks)\n\u001b[0;32m   <a href='file:///c%3A/Users/nmert/OneDrive/Data%20Science/OMSA/HW%20%26%20Projects/omsa_dva_project/.venv/lib/site-packages/pandas/core/internals/managers.py?line=2087'>2088</a>\u001b[0m \u001b[39mreturn\u001b[39;00m new_blocks\n",
      "File \u001b[1;32mc:\\Users\\nmert\\OneDrive\\Data Science\\OMSA\\HW & Projects\\omsa_dva_project\\.venv\\lib\\site-packages\\pandas\\core\\internals\\managers.py:2118\u001b[0m, in \u001b[0;36m_merge_blocks\u001b[1;34m(blocks, dtype, can_consolidate)\u001b[0m\n\u001b[0;32m   <a href='file:///c%3A/Users/nmert/OneDrive/Data%20Science/OMSA/HW%20%26%20Projects/omsa_dva_project/.venv/lib/site-packages/pandas/core/internals/managers.py?line=2114'>2115</a>\u001b[0m     new_values \u001b[39m=\u001b[39m bvals2[\u001b[39m0\u001b[39m]\u001b[39m.\u001b[39m_concat_same_type(bvals2, axis\u001b[39m=\u001b[39m\u001b[39m0\u001b[39m)\n\u001b[0;32m   <a href='file:///c%3A/Users/nmert/OneDrive/Data%20Science/OMSA/HW%20%26%20Projects/omsa_dva_project/.venv/lib/site-packages/pandas/core/internals/managers.py?line=2116'>2117</a>\u001b[0m argsort \u001b[39m=\u001b[39m np\u001b[39m.\u001b[39margsort(new_mgr_locs)\n\u001b[1;32m-> <a href='file:///c%3A/Users/nmert/OneDrive/Data%20Science/OMSA/HW%20%26%20Projects/omsa_dva_project/.venv/lib/site-packages/pandas/core/internals/managers.py?line=2117'>2118</a>\u001b[0m new_values \u001b[39m=\u001b[39m new_values[argsort]\n\u001b[0;32m   <a href='file:///c%3A/Users/nmert/OneDrive/Data%20Science/OMSA/HW%20%26%20Projects/omsa_dva_project/.venv/lib/site-packages/pandas/core/internals/managers.py?line=2118'>2119</a>\u001b[0m new_mgr_locs \u001b[39m=\u001b[39m new_mgr_locs[argsort]\n\u001b[0;32m   <a href='file:///c%3A/Users/nmert/OneDrive/Data%20Science/OMSA/HW%20%26%20Projects/omsa_dva_project/.venv/lib/site-packages/pandas/core/internals/managers.py?line=2120'>2121</a>\u001b[0m bp \u001b[39m=\u001b[39m BlockPlacement(new_mgr_locs)\n",
      "\u001b[1;31mMemoryError\u001b[0m: Unable to allocate 617. MiB for an array with shape (9, 8988425) and data type float64"
     ]
    }
   ],
   "source": [
    "dfs = []\n",
    "\n",
    "for building in buildings:\n",
    "    d = df.loc[df.building_id == building, :]\n",
    "    d = d.set_index(\"timestamp\")\n",
    "    site_id = d[\"site_id\"][0]\n",
    "    w = data.weather.loc[data.weather.site_id == site_id, :].set_index(\"timestamp\")\n",
    "    dw = d.merge(w).reset_index(drop = True)\n",
    "    dfs.append(dw)"
   ]
  },
  {
   "cell_type": "code",
   "execution_count": null,
   "metadata": {},
   "outputs": [],
   "source": []
  }
 ],
 "metadata": {
  "interpreter": {
   "hash": "a36958482b636de30c6f22e27dd07f9205d77a571c040a53f5dd2b190cea407e"
  },
  "kernelspec": {
   "display_name": "Python 3.8.8 ('.venv': venv)",
   "language": "python",
   "name": "python3"
  },
  "language_info": {
   "codemirror_mode": {
    "name": "ipython",
    "version": 3
   },
   "file_extension": ".py",
   "mimetype": "text/x-python",
   "name": "python",
   "nbconvert_exporter": "python",
   "pygments_lexer": "ipython3",
   "version": "3.8.8"
  },
  "orig_nbformat": 4
 },
 "nbformat": 4,
 "nbformat_minor": 2
}
