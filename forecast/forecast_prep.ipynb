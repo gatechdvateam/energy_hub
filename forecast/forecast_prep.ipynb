{
 "cells": [
  {
   "cell_type": "code",
   "execution_count": 1,
   "metadata": {},
   "outputs": [],
   "source": [
    "import sys\n",
    "sys.path.append(\"..\")\n",
    "from data_prep.prep import MeterDataSet\n",
    "import pandas as pd\n",
    "import numpy as np\n",
    "from webapp.utils.azure_utils import KeyVault, DataLake"
   ]
  },
  {
   "cell_type": "code",
   "execution_count": 2,
   "metadata": {},
   "outputs": [],
   "source": [
    "# Connect to Storage Account\n",
    "vault = KeyVault(keyVaultName = \"keyvaultdva2022\")\n",
    "storage_credential = vault.get_secret(secretName = \"storagePrimaryKey\")\n",
    "storage = DataLake(account_name = \"storageaccountdva\", credential = storage_credential)\n",
    "file_system = \"energyhub\""
   ]
  },
  {
   "cell_type": "code",
   "execution_count": 3,
   "metadata": {},
   "outputs": [],
   "source": [
    "meter = \"electricity\"\n",
    "metadata_cols = ['building_id', 'site_id','sq_meter']\n",
    "weather_cols = ['site_id', 'timestamp', 'air_temperature', 'cloud_coverage', 'dew_temperature', 'precipitation_depth_1_hr',\n",
    "    'precipitation_depth_6_hr', 'sea_level_pressure', 'wind_direction',\n",
    "    'wind_speed']"
   ]
  },
  {
   "cell_type": "code",
   "execution_count": 4,
   "metadata": {},
   "outputs": [],
   "source": [
    "bad_building_dir = \"/bad_buildings\"\n",
    "data = MeterDataSet(meter, metadata_cols, weather_cols)\n",
    "bad_buildings = storage.pandas_read(\n",
    "            file_system, directory=bad_building_dir, file_name=\"bad_buildings.csv\")"
   ]
  },
  {
   "cell_type": "code",
   "execution_count": 5,
   "metadata": {},
   "outputs": [],
   "source": [
    "# Treat nan for weather:\n",
    "w_cols = ['air_temperature', 'cloud_coverage', 'dew_temperature', 'precipitation_depth_1_hr',\n",
    "    'precipitation_depth_6_hr', 'sea_level_pressure', 'wind_direction',\n",
    "    'wind_speed']\n",
    "data.weather = data.fill_weather_na(w_cols = w_cols, fill_method = \"linear\")"
   ]
  },
  {
   "cell_type": "code",
   "execution_count": 6,
   "metadata": {},
   "outputs": [],
   "source": [
    "# Treat nan for meter:\n",
    "meter_cols = [meter]\n",
    "data.meter = data.fill_meter_na(meter_col = meter_cols, fill_method = \"linear\")"
   ]
  },
  {
   "cell_type": "code",
   "execution_count": 7,
   "metadata": {},
   "outputs": [
    {
     "data": {
      "text/html": [
       "<div>\n",
       "<style scoped>\n",
       "    .dataframe tbody tr th:only-of-type {\n",
       "        vertical-align: middle;\n",
       "    }\n",
       "\n",
       "    .dataframe tbody tr th {\n",
       "        vertical-align: top;\n",
       "    }\n",
       "\n",
       "    .dataframe thead th {\n",
       "        text-align: right;\n",
       "    }\n",
       "</style>\n",
       "<table border=\"1\" class=\"dataframe\">\n",
       "  <thead>\n",
       "    <tr style=\"text-align: right;\">\n",
       "      <th></th>\n",
       "      <th>timestamp</th>\n",
       "      <th>building_id</th>\n",
       "      <th>electricity</th>\n",
       "    </tr>\n",
       "  </thead>\n",
       "  <tbody>\n",
       "    <tr>\n",
       "      <th>0</th>\n",
       "      <td>2016-02-01 03:00:00</td>\n",
       "      <td>Panther_parking_Lorriane</td>\n",
       "      <td>3.7207</td>\n",
       "    </tr>\n",
       "    <tr>\n",
       "      <th>1</th>\n",
       "      <td>2016-02-06 13:00:00</td>\n",
       "      <td>Panther_parking_Lorriane</td>\n",
       "      <td>2.1004</td>\n",
       "    </tr>\n",
       "    <tr>\n",
       "      <th>2</th>\n",
       "      <td>2016-02-14 05:00:00</td>\n",
       "      <td>Panther_parking_Lorriane</td>\n",
       "      <td>3.3006</td>\n",
       "    </tr>\n",
       "    <tr>\n",
       "      <th>3</th>\n",
       "      <td>2016-02-20 01:00:00</td>\n",
       "      <td>Panther_parking_Lorriane</td>\n",
       "      <td>3.4807</td>\n",
       "    </tr>\n",
       "    <tr>\n",
       "      <th>4</th>\n",
       "      <td>2016-02-29 11:00:00</td>\n",
       "      <td>Panther_parking_Lorriane</td>\n",
       "      <td>2.1604</td>\n",
       "    </tr>\n",
       "    <tr>\n",
       "      <th>...</th>\n",
       "      <td>...</td>\n",
       "      <td>...</td>\n",
       "      <td>...</td>\n",
       "    </tr>\n",
       "    <tr>\n",
       "      <th>7247</th>\n",
       "      <td>2017-01-26 07:00:00</td>\n",
       "      <td>Mouse_science_Micheal</td>\n",
       "      <td>1000.0000</td>\n",
       "    </tr>\n",
       "    <tr>\n",
       "      <th>7248</th>\n",
       "      <td>2017-01-26 10:00:00</td>\n",
       "      <td>Mouse_science_Micheal</td>\n",
       "      <td>1000.0000</td>\n",
       "    </tr>\n",
       "    <tr>\n",
       "      <th>7249</th>\n",
       "      <td>2017-01-26 13:00:00</td>\n",
       "      <td>Mouse_science_Micheal</td>\n",
       "      <td>1000.0000</td>\n",
       "    </tr>\n",
       "    <tr>\n",
       "      <th>7250</th>\n",
       "      <td>2017-01-26 16:00:00</td>\n",
       "      <td>Mouse_science_Micheal</td>\n",
       "      <td>1000.0000</td>\n",
       "    </tr>\n",
       "    <tr>\n",
       "      <th>7251</th>\n",
       "      <td>2017-01-26 19:00:00</td>\n",
       "      <td>Mouse_science_Micheal</td>\n",
       "      <td>1000.0000</td>\n",
       "    </tr>\n",
       "  </tbody>\n",
       "</table>\n",
       "<p>25212579 rows × 3 columns</p>\n",
       "</div>"
      ],
      "text/plain": [
       "               timestamp               building_id  electricity\n",
       "0    2016-02-01 03:00:00  Panther_parking_Lorriane       3.7207\n",
       "1    2016-02-06 13:00:00  Panther_parking_Lorriane       2.1004\n",
       "2    2016-02-14 05:00:00  Panther_parking_Lorriane       3.3006\n",
       "3    2016-02-20 01:00:00  Panther_parking_Lorriane       3.4807\n",
       "4    2016-02-29 11:00:00  Panther_parking_Lorriane       2.1604\n",
       "...                  ...                       ...          ...\n",
       "7247 2017-01-26 07:00:00     Mouse_science_Micheal    1000.0000\n",
       "7248 2017-01-26 10:00:00     Mouse_science_Micheal    1000.0000\n",
       "7249 2017-01-26 13:00:00     Mouse_science_Micheal    1000.0000\n",
       "7250 2017-01-26 16:00:00     Mouse_science_Micheal    1000.0000\n",
       "7251 2017-01-26 19:00:00     Mouse_science_Micheal    1000.0000\n",
       "\n",
       "[25212579 rows x 3 columns]"
      ]
     },
     "execution_count": 7,
     "metadata": {},
     "output_type": "execute_result"
    }
   ],
   "source": [
    "data.meter.compute()"
   ]
  },
  {
   "cell_type": "code",
   "execution_count": 14,
   "metadata": {},
   "outputs": [],
   "source": [
    "data.weather = data.weather.compute()"
   ]
  },
  {
   "cell_type": "code",
   "execution_count": 15,
   "metadata": {},
   "outputs": [],
   "source": [
    "data.meter = data.meter.compute()"
   ]
  },
  {
   "cell_type": "code",
   "execution_count": 16,
   "metadata": {},
   "outputs": [],
   "source": [
    "data.metadata = data.metadata.compute()"
   ]
  },
  {
   "cell_type": "code",
   "execution_count": 17,
   "metadata": {},
   "outputs": [],
   "source": [
    "# Merge weather, metadata and electricity:\n",
    "data.merge()"
   ]
  },
  {
   "cell_type": "code",
   "execution_count": null,
   "metadata": {},
   "outputs": [],
   "source": []
  }
 ],
 "metadata": {
  "interpreter": {
   "hash": "a36958482b636de30c6f22e27dd07f9205d77a571c040a53f5dd2b190cea407e"
  },
  "kernelspec": {
   "display_name": "Python 3.8.8 ('.venv': venv)",
   "language": "python",
   "name": "python3"
  },
  "language_info": {
   "codemirror_mode": {
    "name": "ipython",
    "version": 3
   },
   "file_extension": ".py",
   "mimetype": "text/x-python",
   "name": "python",
   "nbconvert_exporter": "python",
   "pygments_lexer": "ipython3",
   "version": "3.8.8"
  },
  "orig_nbformat": 4
 },
 "nbformat": 4,
 "nbformat_minor": 2
}
