{
 "cells": [
  {
   "cell_type": "code",
   "execution_count": 3,
   "metadata": {},
   "outputs": [],
   "source": [
    "import sys\n",
    "sys.path.append(\"..\")\n",
    "from data_prep.prep import MeterDataSet\n",
    "import pandas as pd\n",
    "import numpy as np\n",
    "from webapp.utils.azure_utils import KeyVault, DataLake"
   ]
  },
  {
   "cell_type": "code",
   "execution_count": 4,
   "metadata": {},
   "outputs": [],
   "source": [
    "# Connect to Storage Account\n",
    "vault = KeyVault(keyVaultName = \"keyvaultdva2022\")\n",
    "storage_credential = vault.get_secret(secretName = \"storagePrimaryKey\")\n",
    "storage = DataLake(account_name = \"storageaccountdva\", credential = storage_credential)\n",
    "file_system = \"energyhub\""
   ]
  },
  {
   "cell_type": "code",
   "execution_count": 29,
   "metadata": {},
   "outputs": [],
   "source": [
    "meter = \"electricity\"\n",
    "metadata_cols = ['building_id', 'site_id','sq_meter']\n",
    "weather_cols = ['site_id', 'timestamp', 'air_temperature', 'cloud_coverage', 'dew_temperature', 'precipitation_depth_1_hr',\n",
    "    'precipitation_depth_6_hr', 'sea_level_pressure', 'wind_direction',\n",
    "    'wind_speed']"
   ]
  },
  {
   "cell_type": "code",
   "execution_count": 30,
   "metadata": {},
   "outputs": [],
   "source": [
    "data = MeterDataSet(meter, metadata_cols, weather_cols)"
   ]
  },
  {
   "cell_type": "code",
   "execution_count": 32,
   "metadata": {},
   "outputs": [],
   "source": [
    "# Treat nan for weather:\n",
    "w_cols = ['air_temperature', 'cloud_coverage', 'dew_temperature', 'precipitation_depth_1_hr',\n",
    "    'precipitation_depth_6_hr', 'sea_level_pressure', 'wind_direction',\n",
    "    'wind_speed']\n",
    "data.weather = data.fill_weather_na(w_cols = w_cols, fill_method = \"linear\")"
   ]
  },
  {
   "cell_type": "code",
   "execution_count": 36,
   "metadata": {},
   "outputs": [],
   "source": [
    "# Treat nan for meter:\n",
    "meter_cols = [meter]\n",
    "data.meter = data.fill_meter_na(meter_col = meter_cols, fill_method = \"linear\")"
   ]
  },
  {
   "cell_type": "code",
   "execution_count": null,
   "metadata": {},
   "outputs": [],
   "source": []
  }
 ],
 "metadata": {
  "interpreter": {
   "hash": "a36958482b636de30c6f22e27dd07f9205d77a571c040a53f5dd2b190cea407e"
  },
  "kernelspec": {
   "display_name": "Python 3.8.8 ('.venv': venv)",
   "language": "python",
   "name": "python3"
  },
  "language_info": {
   "codemirror_mode": {
    "name": "ipython",
    "version": 3
   },
   "file_extension": ".py",
   "mimetype": "text/x-python",
   "name": "python",
   "nbconvert_exporter": "python",
   "pygments_lexer": "ipython3",
   "version": "3.8.8"
  },
  "orig_nbformat": 4
 },
 "nbformat": 4,
 "nbformat_minor": 2
}
