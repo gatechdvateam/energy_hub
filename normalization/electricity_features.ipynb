{
   "cells": [
      {
         "cell_type": "code",
         "execution_count": 1,
         "metadata": {},
         "outputs": [],
         "source": [
            "import sys\n",
            "sys.path.append(\"..\")\n",
            "from webapp.utils.azure_utils import KeyVault, DataLake\n",
            "from webapp.utils.data_pre_utils import df_val_map\n",
            "import numpy as np\n",
            "import pandas as pd\n",
            "import datetime\n",
            "import fastparquet"
         ]
      },
      {
         "cell_type": "code",
         "execution_count": 2,
         "metadata": {},
         "outputs": [],
         "source": [
            "# Connect to Storage Account\n",
            "vault = KeyVault(keyVaultName = \"keyvaultdva2022\")\n",
            "storage_credential = vault.get_secret(secretName = \"storagePrimaryKey\")\n",
            "storage = DataLake(account_name = \"storageaccountdva\", credential = storage_credential)"
         ]
      },
      {
         "cell_type": "code",
         "execution_count": 3,
         "metadata": {},
         "outputs": [],
         "source": [
            "file_system = \"energyhub\"\n",
            "dest_dir = \"/data_parq/norm_data\"\n",
            "meters_dir = \"/data_parq/meters\"\n",
            "meta_dir = \"/data_parq/metadata\"\n",
            "weather_dir = \"/data_parq/weather\"\n"
         ]
      },
      {
         "cell_type": "code",
         "execution_count": 4,
         "metadata": {},
         "outputs": [],
         "source": [
            "meter = storage.read(file_system, meters_dir, file_name=\"electricity.parq\", extension=\"parq\")\n"
         ]
      },
      {
         "cell_type": "code",
         "execution_count": null,
         "metadata": {},
         "outputs": [],
         "source": [
            "meta = storage.read(file_system, meta_dir, file_name=\"metadata.parq\", extension=\"parq\")\n"
         ]
      },
      {
         "cell_type": "code",
         "execution_count": null,
         "metadata": {},
         "outputs": [],
         "source": [
            "weather = storage.read(file_system, weather_dir, file_name=\"weather.parq\", extension=\"parq\")"
         ]
      },
      {
         "cell_type": "code",
         "execution_count": null,
         "metadata": {},
         "outputs": [],
         "source": [
            "meter.info()"
         ]
      },
      {
         "cell_type": "code",
         "execution_count": null,
         "metadata": {},
         "outputs": [],
         "source": [
            "meter.isna().sum()*100/len(meter)"
         ]
      },
      {
         "cell_type": "code",
         "execution_count": null,
         "metadata": {},
         "outputs": [],
         "source": [
            "# number of buildings in dataset\n",
            "len(meter.building_id.unique())"
         ]
      },
      {
         "cell_type": "code",
         "execution_count": null,
         "metadata": {},
         "outputs": [],
         "source": [
            "meter.groupby(\"building_id\").count().rsub(meter.groupby(\"building_id\").size(), axis=0)"
         ]
      },
      {
         "cell_type": "code",
         "execution_count": null,
         "metadata": {},
         "outputs": [],
         "source": [
            "meter[meter[\"electricity\"].isna()].groupby(\"building_id\").count()"
         ]
      },
      {
         "cell_type": "code",
         "execution_count": null,
         "metadata": {},
         "outputs": [],
         "source": [
            "meta.columns"
         ]
      },
      {
         "cell_type": "code",
         "execution_count": null,
         "metadata": {},
         "outputs": [],
         "source": [
            "meta.isna().sum()*100/len(meta)"
         ]
      },
      {
         "cell_type": "code",
         "execution_count": null,
         "metadata": {},
         "outputs": [],
         "source": [
            "weather.info()"
         ]
      },
      {
         "cell_type": "code",
         "execution_count": null,
         "metadata": {},
         "outputs": [],
         "source": [
            "weather.isna().sum()*100/len(weather)"
         ]
      },
      {
         "cell_type": "markdown",
         "metadata": {},
         "source": [
            "## Process Datasets"
         ]
      },
      {
         "cell_type": "code",
         "execution_count": null,
         "metadata": {},
         "outputs": [],
         "source": [
            "def process_meter(meter_df):\n",
            "    #drop \n",
            "    meter_df[\"timestamp\"] = pd.to_datetime(meter_df[\"timestamp\"], format='%Y-%m-%d %H:%M:%S')\n",
            "    meter_df[\"month\"] = meter_df[\"timestamp\"].dt.month\n",
            "    meter_df[\"weekday\"] = meter_df[\"timestamp\"].dt.weekday\n",
            "    meter_df[\"hour\"] = meter_df[\"timestamp\"].dt.hour\n",
            "    #maybe add holiday here too?\n",
            "    return meter_df"
         ]
      },
      {
         "cell_type": "code",
         "execution_count": null,
         "metadata": {},
         "outputs": [],
         "source": [
            "def process_meta(meta_df):\n",
            "    #use these cols because they have low % of NA values. Other cols are mostly NA\n",
            "    use_cols = ['building_id', 'site_id', 'primary_space_usage', 'sq_meter']\n",
            "    drop_cols = [col for col in meta_df.columns if col not in use_cols]\n",
            "    meta_df.drop(columns=drop_cols, inplace=True)\n",
            "    meta_df['primary_space_usage'].fillna(\"Unknown\", inplace=True )\n",
            "    return meta_df"
         ]
      },
      {
         "cell_type": "code",
         "execution_count": null,
         "metadata": {},
         "outputs": [],
         "source": [
            "def process_weather(weather_df):\n",
            "    weather_df.drop(columns = ['cloud_coverage','precipitation_depth_1_hr','precipitation_depth_6_hr','sea_level_pressure'], inplace=True)\n",
            "    weather_df[\"timestamp\"] = pd.to_datetime(weather_df[\"timestamp\"], format='%Y-%m-%d %H:%M:%S')\n",
            "    weather_df['air_temperature'].interpolate(method=\"linear\", inplace=True)\n",
            "    weather_df['dew_temperature'].interpolate(method=\"linear\", inplace=True)\n",
            "    weather_df['wind_direction'].interpolate(method=\"linear\", inplace=True)\n",
            "    weather_df['wind_speed'].interpolate(method=\"linear\", inplace=True)\n",
            "    return weather_df\n"
         ]
      },
      {
         "cell_type": "code",
         "execution_count": null,
         "metadata": {},
         "outputs": [],
         "source": [
            "meter_df = process_meter(meter)"
         ]
      },
      {
         "cell_type": "code",
         "execution_count": null,
         "metadata": {},
         "outputs": [],
         "source": [
            "meta_df = process_meta(meta)"
         ]
      },
      {
         "cell_type": "code",
         "execution_count": null,
         "metadata": {},
         "outputs": [],
         "source": [
            "weather_df = process_weather(weather)"
         ]
      },
      {
         "cell_type": "code",
         "execution_count": null,
         "metadata": {},
         "outputs": [],
         "source": [
            "weather_df.info()"
         ]
      },
      {
         "cell_type": "code",
         "execution_count": null,
         "metadata": {},
         "outputs": [],
         "source": [
            "meter_df.info()"
         ]
      },
      {
         "cell_type": "code",
         "execution_count": null,
         "metadata": {},
         "outputs": [],
         "source": [
            "df = meter_df.merge(meta_df, how=\"left\", on=\"building_id\")\\\n",
            "            .merge(weather_df, how=\"left\", on = [\"timestamp\", \"site_id\"])"
         ]
      },
      {
         "cell_type": "code",
         "execution_count": null,
         "metadata": {},
         "outputs": [],
         "source": [
            "df.head()"
         ]
      },
      {
         "cell_type": "code",
         "execution_count": null,
         "metadata": {},
         "outputs": [],
         "source": [
            "df.isna().sum()*100/len(df)"
         ]
      },
      {
         "cell_type": "code",
         "execution_count": null,
         "metadata": {},
         "outputs": [],
         "source": [
            "df[df.air_temperature.isna()][\"building_id\"].value_counts()"
         ]
      },
      {
         "cell_type": "code",
         "execution_count": null,
         "metadata": {},
         "outputs": [],
         "source": [
            "# Drop missings\n",
            "df.dropna(inplace=True)"
         ]
      },
      {
         "cell_type": "code",
         "execution_count": null,
         "metadata": {},
         "outputs": [],
         "source": [
            "file = \"electricity_features.parq\"\n",
            "#change to parquet file\n",
            "fastparquet.write(file, df, compression=\"GZIP\")"
         ]
      },
      {
         "cell_type": "code",
         "execution_count": null,
         "metadata": {},
         "outputs": [],
         "source": [
            "#write to azure\n",
            "storage.upload(file_system=file_system, directory=dest_dir, file_name=file,file_path=file,overwrite=True )"
         ]
      }
   ],
   "metadata": {
      "interpreter": {
         "hash": "a6f32d01d5b22f0f036211ddd2212f9d7a468214a2e2c6ab6e23af4ae0eada46"
      },
      "kernelspec": {
         "display_name": "Python 3.9.0 ('venv': venv)",
         "language": "python",
         "name": "python3"
      },
      "language_info": {
         "codemirror_mode": {
            "name": "ipython",
            "version": 3
         },
         "file_extension": ".py",
         "mimetype": "text/x-python",
         "name": "python",
         "nbconvert_exporter": "python",
         "pygments_lexer": "ipython3",
         "version": "3.9.0"
      },
      "orig_nbformat": 4
   },
   "nbformat": 4,
   "nbformat_minor": 2
}
