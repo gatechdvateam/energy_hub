{
   "cells": [
      {
         "cell_type": "code",
         "execution_count": 1,
         "metadata": {},
         "outputs": [],
         "source": [
            "import sys\n",
            "sys.path.append(\"..\")\n",
            "from webapp.utils.azure_utils import KeyVault, DataLake\n",
            "from webapp.utils.data_pre_utils import df_val_map\n",
            "import numpy as np\n",
            "import pandas as pd\n",
            "import datetime\n",
            "import fastparquet\n",
            "import os"
         ]
      },
      {
         "cell_type": "code",
         "execution_count": 2,
         "metadata": {},
         "outputs": [],
         "source": [
            "# Connect to Storage Account\n",
            "vault = KeyVault(keyVaultName = \"keyvaultdva2022\")\n",
            "storage_credential = vault.get_secret(secretName = \"storagePrimaryKey\")\n",
            "storage = DataLake(account_name = \"storageaccountdva\", credential = storage_credential)"
         ]
      },
      {
         "cell_type": "code",
         "execution_count": 3,
         "metadata": {},
         "outputs": [],
         "source": [
            "file_system = \"energyhub\"\n",
            "dest_dir = \"/data_parq/norm_data\"\n",
            "meters_dir = \"/data_parq/meters\"\n",
            "meta_dir = \"/data_parq/metadata\"\n",
            "weather_dir = \"/data_parq/weather\"\n"
         ]
      },
      {
         "cell_type": "code",
         "execution_count": 4,
         "metadata": {},
         "outputs": [],
         "source": [
            "meter = storage.read(file_system, meters_dir, file_name=\"electricity.parq\", extension=\"parq\")\n"
         ]
      },
      {
         "cell_type": "code",
         "execution_count": 5,
         "metadata": {},
         "outputs": [],
         "source": [
            "meta = storage.read(file_system, meta_dir, file_name=\"metadata.parq\", extension=\"parq\")\n"
         ]
      },
      {
         "cell_type": "code",
         "execution_count": 6,
         "metadata": {},
         "outputs": [],
         "source": [
            "weather = storage.read(file_system, weather_dir, file_name=\"weather.parq\", extension=\"parq\")"
         ]
      },
      {
         "cell_type": "code",
         "execution_count": 7,
         "metadata": {},
         "outputs": [
            {
               "name": "stdout",
               "output_type": "stream",
               "text": [
                  "<class 'pandas.core.frame.DataFrame'>\n",
                  "RangeIndex: 27684432 entries, 0 to 27684431\n",
                  "Data columns (total 3 columns):\n",
                  " #   Column       Dtype  \n",
                  "---  ------       -----  \n",
                  " 0   timestamp    object \n",
                  " 1   building_id  object \n",
                  " 2   electricity  float64\n",
                  "dtypes: float64(1), object(2)\n",
                  "memory usage: 633.6+ MB\n"
               ]
            }
         ],
         "source": [
            "meter.info()"
         ]
      },
      {
         "cell_type": "code",
         "execution_count": 8,
         "metadata": {},
         "outputs": [
            {
               "data": {
                  "text/plain": [
                     "timestamp      0.000000\n",
                     "building_id    0.000000\n",
                     "electricity    8.928675\n",
                     "dtype: float64"
                  ]
               },
               "execution_count": 8,
               "metadata": {},
               "output_type": "execute_result"
            }
         ],
         "source": [
            "meter.isna().sum()*100/len(meter)"
         ]
      },
      {
         "cell_type": "code",
         "execution_count": 9,
         "metadata": {},
         "outputs": [
            {
               "data": {
                  "text/plain": [
                     "1578"
                  ]
               },
               "execution_count": 9,
               "metadata": {},
               "output_type": "execute_result"
            }
         ],
         "source": [
            "# number of buildings in dataset\n",
            "len(meter.building_id.unique())"
         ]
      },
      {
         "cell_type": "code",
         "execution_count": 10,
         "metadata": {},
         "outputs": [
            {
               "data": {
                  "text/html": [
                     "<div>\n",
                     "<style scoped>\n",
                     "    .dataframe tbody tr th:only-of-type {\n",
                     "        vertical-align: middle;\n",
                     "    }\n",
                     "\n",
                     "    .dataframe tbody tr th {\n",
                     "        vertical-align: top;\n",
                     "    }\n",
                     "\n",
                     "    .dataframe thead th {\n",
                     "        text-align: right;\n",
                     "    }\n",
                     "</style>\n",
                     "<table border=\"1\" class=\"dataframe\">\n",
                     "  <thead>\n",
                     "    <tr style=\"text-align: right;\">\n",
                     "      <th></th>\n",
                     "      <th>timestamp</th>\n",
                     "      <th>electricity</th>\n",
                     "    </tr>\n",
                     "    <tr>\n",
                     "      <th>building_id</th>\n",
                     "      <th></th>\n",
                     "      <th></th>\n",
                     "    </tr>\n",
                     "  </thead>\n",
                     "  <tbody>\n",
                     "    <tr>\n",
                     "      <th>Bear_assembly_Angel</th>\n",
                     "      <td>0</td>\n",
                     "      <td>3109</td>\n",
                     "    </tr>\n",
                     "    <tr>\n",
                     "      <th>Bear_assembly_Beatrice</th>\n",
                     "      <td>0</td>\n",
                     "      <td>39</td>\n",
                     "    </tr>\n",
                     "    <tr>\n",
                     "      <th>Bear_assembly_Danial</th>\n",
                     "      <td>0</td>\n",
                     "      <td>5357</td>\n",
                     "    </tr>\n",
                     "    <tr>\n",
                     "      <th>Bear_assembly_Diana</th>\n",
                     "      <td>0</td>\n",
                     "      <td>2266</td>\n",
                     "    </tr>\n",
                     "    <tr>\n",
                     "      <th>Bear_assembly_Genia</th>\n",
                     "      <td>0</td>\n",
                     "      <td>167</td>\n",
                     "    </tr>\n",
                     "    <tr>\n",
                     "      <th>...</th>\n",
                     "      <td>...</td>\n",
                     "      <td>...</td>\n",
                     "    </tr>\n",
                     "    <tr>\n",
                     "      <th>Wolf_public_Norma</th>\n",
                     "      <td>0</td>\n",
                     "      <td>1</td>\n",
                     "    </tr>\n",
                     "    <tr>\n",
                     "      <th>Wolf_retail_Harriett</th>\n",
                     "      <td>0</td>\n",
                     "      <td>484</td>\n",
                     "    </tr>\n",
                     "    <tr>\n",
                     "      <th>Wolf_retail_Marcella</th>\n",
                     "      <td>0</td>\n",
                     "      <td>1</td>\n",
                     "    </tr>\n",
                     "    <tr>\n",
                     "      <th>Wolf_retail_Toshia</th>\n",
                     "      <td>0</td>\n",
                     "      <td>1</td>\n",
                     "    </tr>\n",
                     "    <tr>\n",
                     "      <th>Wolf_science_Alfreda</th>\n",
                     "      <td>0</td>\n",
                     "      <td>7</td>\n",
                     "    </tr>\n",
                     "  </tbody>\n",
                     "</table>\n",
                     "<p>1578 rows × 2 columns</p>\n",
                     "</div>"
                  ],
                  "text/plain": [
                     "                        timestamp  electricity\n",
                     "building_id                                   \n",
                     "Bear_assembly_Angel             0         3109\n",
                     "Bear_assembly_Beatrice          0           39\n",
                     "Bear_assembly_Danial            0         5357\n",
                     "Bear_assembly_Diana             0         2266\n",
                     "Bear_assembly_Genia             0          167\n",
                     "...                           ...          ...\n",
                     "Wolf_public_Norma               0            1\n",
                     "Wolf_retail_Harriett            0          484\n",
                     "Wolf_retail_Marcella            0            1\n",
                     "Wolf_retail_Toshia              0            1\n",
                     "Wolf_science_Alfreda            0            7\n",
                     "\n",
                     "[1578 rows x 2 columns]"
                  ]
               },
               "execution_count": 10,
               "metadata": {},
               "output_type": "execute_result"
            }
         ],
         "source": [
            "meter.groupby(\"building_id\").count().rsub(meter.groupby(\"building_id\").size(), axis=0)"
         ]
      },
      {
         "cell_type": "code",
         "execution_count": 11,
         "metadata": {},
         "outputs": [
            {
               "data": {
                  "text/html": [
                     "<div>\n",
                     "<style scoped>\n",
                     "    .dataframe tbody tr th:only-of-type {\n",
                     "        vertical-align: middle;\n",
                     "    }\n",
                     "\n",
                     "    .dataframe tbody tr th {\n",
                     "        vertical-align: top;\n",
                     "    }\n",
                     "\n",
                     "    .dataframe thead th {\n",
                     "        text-align: right;\n",
                     "    }\n",
                     "</style>\n",
                     "<table border=\"1\" class=\"dataframe\">\n",
                     "  <thead>\n",
                     "    <tr style=\"text-align: right;\">\n",
                     "      <th></th>\n",
                     "      <th>timestamp</th>\n",
                     "      <th>electricity</th>\n",
                     "    </tr>\n",
                     "    <tr>\n",
                     "      <th>building_id</th>\n",
                     "      <th></th>\n",
                     "      <th></th>\n",
                     "    </tr>\n",
                     "  </thead>\n",
                     "  <tbody>\n",
                     "    <tr>\n",
                     "      <th>Bear_assembly_Angel</th>\n",
                     "      <td>3109</td>\n",
                     "      <td>0</td>\n",
                     "    </tr>\n",
                     "    <tr>\n",
                     "      <th>Bear_assembly_Beatrice</th>\n",
                     "      <td>39</td>\n",
                     "      <td>0</td>\n",
                     "    </tr>\n",
                     "    <tr>\n",
                     "      <th>Bear_assembly_Danial</th>\n",
                     "      <td>5357</td>\n",
                     "      <td>0</td>\n",
                     "    </tr>\n",
                     "    <tr>\n",
                     "      <th>Bear_assembly_Diana</th>\n",
                     "      <td>2266</td>\n",
                     "      <td>0</td>\n",
                     "    </tr>\n",
                     "    <tr>\n",
                     "      <th>Bear_assembly_Genia</th>\n",
                     "      <td>167</td>\n",
                     "      <td>0</td>\n",
                     "    </tr>\n",
                     "    <tr>\n",
                     "      <th>...</th>\n",
                     "      <td>...</td>\n",
                     "      <td>...</td>\n",
                     "    </tr>\n",
                     "    <tr>\n",
                     "      <th>Wolf_public_Norma</th>\n",
                     "      <td>1</td>\n",
                     "      <td>0</td>\n",
                     "    </tr>\n",
                     "    <tr>\n",
                     "      <th>Wolf_retail_Harriett</th>\n",
                     "      <td>484</td>\n",
                     "      <td>0</td>\n",
                     "    </tr>\n",
                     "    <tr>\n",
                     "      <th>Wolf_retail_Marcella</th>\n",
                     "      <td>1</td>\n",
                     "      <td>0</td>\n",
                     "    </tr>\n",
                     "    <tr>\n",
                     "      <th>Wolf_retail_Toshia</th>\n",
                     "      <td>1</td>\n",
                     "      <td>0</td>\n",
                     "    </tr>\n",
                     "    <tr>\n",
                     "      <th>Wolf_science_Alfreda</th>\n",
                     "      <td>7</td>\n",
                     "      <td>0</td>\n",
                     "    </tr>\n",
                     "  </tbody>\n",
                     "</table>\n",
                     "<p>1465 rows × 2 columns</p>\n",
                     "</div>"
                  ],
                  "text/plain": [
                     "                        timestamp  electricity\n",
                     "building_id                                   \n",
                     "Bear_assembly_Angel          3109            0\n",
                     "Bear_assembly_Beatrice         39            0\n",
                     "Bear_assembly_Danial         5357            0\n",
                     "Bear_assembly_Diana          2266            0\n",
                     "Bear_assembly_Genia           167            0\n",
                     "...                           ...          ...\n",
                     "Wolf_public_Norma               1            0\n",
                     "Wolf_retail_Harriett          484            0\n",
                     "Wolf_retail_Marcella            1            0\n",
                     "Wolf_retail_Toshia              1            0\n",
                     "Wolf_science_Alfreda            7            0\n",
                     "\n",
                     "[1465 rows x 2 columns]"
                  ]
               },
               "execution_count": 11,
               "metadata": {},
               "output_type": "execute_result"
            }
         ],
         "source": [
            "meter[meter[\"electricity\"].isna()].groupby(\"building_id\").count()"
         ]
      },
      {
         "cell_type": "code",
         "execution_count": 12,
         "metadata": {},
         "outputs": [
            {
               "data": {
                  "text/plain": [
                     "Index(['building_id', 'site_id', 'building_id_kaggle', 'site_id_kaggle',\n",
                     "       'primary_space_usage', 'sub_primary_space_usage', 'sq_meter', 'sq_feet',\n",
                     "       'latitude', 'longitude', 'timezone', 'electricity', 'hotwater',\n",
                     "       'chilledwater', 'steam', 'water', 'irrigation', 'solar', 'gas',\n",
                     "       'industry', 'subindustry', 'heating_type', 'year_built', 'date_opened',\n",
                     "       'number_of_floors', 'occupants', 'energy_stars_core', 'eui', 'site_eui',\n",
                     "       'source_eui', 'leed_level', 'rating'],\n",
                     "      dtype='object')"
                  ]
               },
               "execution_count": 12,
               "metadata": {},
               "output_type": "execute_result"
            }
         ],
         "source": [
            "meta.columns"
         ]
      },
      {
         "cell_type": "code",
         "execution_count": 13,
         "metadata": {},
         "outputs": [
            {
               "data": {
                  "text/plain": [
                     "building_id                  0.000000\n",
                     "site_id                      0.000000\n",
                     "building_id_kaggle          11.430318\n",
                     "site_id_kaggle               2.261614\n",
                     "primary_space_usage          1.283619\n",
                     "sub_primary_space_usage      1.283619\n",
                     "sq_meter                     0.000000\n",
                     "sq_feet                      0.000000\n",
                     "latitude                    14.486553\n",
                     "longitude                   14.486553\n",
                     "timezone                     0.000000\n",
                     "electricity                100.000000\n",
                     "hotwater                     0.000000\n",
                     "chilledwater                 0.000000\n",
                     "steam                        0.000000\n",
                     "water                        0.000000\n",
                     "irrigation                   0.000000\n",
                     "solar                        0.000000\n",
                     "gas                          0.000000\n",
                     "industry                    64.608802\n",
                     "subindustry                 64.608802\n",
                     "heating_type                86.858191\n",
                     "year_built                  50.061125\n",
                     "date_opened                 98.716381\n",
                     "number_of_floors            73.044010\n",
                     "occupants                   85.941320\n",
                     "energy_stars_core           90.036675\n",
                     "eui                         81.723716\n",
                     "site_eui                    90.036675\n",
                     "source_eui                  90.036675\n",
                     "leed_level                  91.687042\n",
                     "rating                      88.753056\n",
                     "dtype: float64"
                  ]
               },
               "execution_count": 13,
               "metadata": {},
               "output_type": "execute_result"
            }
         ],
         "source": [
            "meta.isna().sum()*100/len(meta)"
         ]
      },
      {
         "cell_type": "code",
         "execution_count": 14,
         "metadata": {},
         "outputs": [
            {
               "name": "stdout",
               "output_type": "stream",
               "text": [
                  "<class 'pandas.core.frame.DataFrame'>\n",
                  "RangeIndex: 331166 entries, 0 to 331165\n",
                  "Data columns (total 10 columns):\n",
                  " #   Column                    Non-Null Count   Dtype  \n",
                  "---  ------                    --------------   -----  \n",
                  " 0   timestamp                 331166 non-null  object \n",
                  " 1   site_id                   331166 non-null  object \n",
                  " 2   air_temperature           331038 non-null  float64\n",
                  " 3   cloud_coverage            160179 non-null  float64\n",
                  " 4   dew_temperature           330838 non-null  float64\n",
                  " 5   precipitation_depth_1_hr  197980 non-null  float64\n",
                  " 6   precipitation_depth_6_hr  18162 non-null   float64\n",
                  " 7   sea_level_pressure        309542 non-null  float64\n",
                  " 8   wind_direction            318161 non-null  float64\n",
                  " 9   wind_speed                330592 non-null  float64\n",
                  "dtypes: float64(8), object(2)\n",
                  "memory usage: 25.3+ MB\n"
               ]
            }
         ],
         "source": [
            "weather.info()"
         ]
      },
      {
         "cell_type": "code",
         "execution_count": 15,
         "metadata": {},
         "outputs": [
            {
               "data": {
                  "text/plain": [
                     "timestamp                    0.000000\n",
                     "site_id                      0.000000\n",
                     "air_temperature              0.038651\n",
                     "cloud_coverage              51.631810\n",
                     "dew_temperature              0.099044\n",
                     "precipitation_depth_1_hr    40.217293\n",
                     "precipitation_depth_6_hr    94.515741\n",
                     "sea_level_pressure           6.529656\n",
                     "wind_direction               3.927034\n",
                     "wind_speed                   0.173327\n",
                     "dtype: float64"
                  ]
               },
               "execution_count": 15,
               "metadata": {},
               "output_type": "execute_result"
            }
         ],
         "source": [
            "weather.isna().sum()*100/len(weather)"
         ]
      },
      {
         "cell_type": "markdown",
         "metadata": {},
         "source": [
            "## Process Datasets"
         ]
      },
      {
         "cell_type": "code",
         "execution_count": 16,
         "metadata": {},
         "outputs": [],
         "source": [
            "def process_meter(meter_df):\n",
            "    #drop NA\n",
            "    meter_df.dropna(inplace=True)\n",
            "    #round\n",
            "    meter_df[\"electricity\"] = meter_df['electricity'].astype(float).round(4)\n",
            "    meter_df[\"timestamp\"] = pd.to_datetime(meter_df[\"timestamp\"], format='%Y-%m-%d %H:%M:%S')\n",
            "    meter_df[\"month\"] = meter_df[\"timestamp\"].dt.month\n",
            "    meter_df[\"weekday\"] = meter_df[\"timestamp\"].dt.weekday\n",
            "    meter_df[\"hour\"] = meter_df[\"timestamp\"].dt.hour\n",
            "    #maybe add holiday here too?\n",
            "    return meter_df"
         ]
      },
      {
         "cell_type": "code",
         "execution_count": 17,
         "metadata": {},
         "outputs": [],
         "source": [
            "def process_meta(meta_df):\n",
            "    #use these cols because they have low % of NA values. Other cols are mostly NA\n",
            "    use_cols = ['building_id', 'site_id', 'primary_space_usage', 'sq_meter']\n",
            "    drop_cols = [col for col in meta_df.columns if col not in use_cols]\n",
            "    meta_df.drop(columns=drop_cols, inplace=True)\n",
            "    meta_df['primary_space_usage'].fillna(\"Unknown\", inplace=True )\n",
            "    return meta_df"
         ]
      },
      {
         "cell_type": "code",
         "execution_count": 18,
         "metadata": {},
         "outputs": [],
         "source": [
            "def process_weather(weather_df):\n",
            "    weather_df.drop(columns = ['cloud_coverage','precipitation_depth_1_hr','precipitation_depth_6_hr','sea_level_pressure'], inplace=True)\n",
            "    weather_df[\"timestamp\"] = pd.to_datetime(weather_df[\"timestamp\"], format='%Y-%m-%d %H:%M:%S')\n",
            "    weather_df['air_temperature'].interpolate(method=\"linear\", inplace=True)\n",
            "    weather_df['dew_temperature'].interpolate(method=\"linear\", inplace=True)\n",
            "    weather_df['wind_direction'].interpolate(method=\"linear\", inplace=True)\n",
            "    weather_df['wind_speed'].interpolate(method=\"linear\", inplace=True)\n",
            "    return weather_df\n"
         ]
      },
      {
         "cell_type": "code",
         "execution_count": 19,
         "metadata": {},
         "outputs": [],
         "source": [
            "meter_df = process_meter(meter)"
         ]
      },
      {
         "cell_type": "code",
         "execution_count": 20,
         "metadata": {},
         "outputs": [],
         "source": [
            "meta_df = process_meta(meta)"
         ]
      },
      {
         "cell_type": "code",
         "execution_count": 21,
         "metadata": {},
         "outputs": [],
         "source": [
            "weather_df = process_weather(weather)"
         ]
      },
      {
         "cell_type": "code",
         "execution_count": 22,
         "metadata": {},
         "outputs": [
            {
               "name": "stdout",
               "output_type": "stream",
               "text": [
                  "<class 'pandas.core.frame.DataFrame'>\n",
                  "RangeIndex: 331166 entries, 0 to 331165\n",
                  "Data columns (total 6 columns):\n",
                  " #   Column           Non-Null Count   Dtype         \n",
                  "---  ------           --------------   -----         \n",
                  " 0   timestamp        331166 non-null  datetime64[ns]\n",
                  " 1   site_id          331166 non-null  object        \n",
                  " 2   air_temperature  331166 non-null  float64       \n",
                  " 3   dew_temperature  331166 non-null  float64       \n",
                  " 4   wind_direction   331166 non-null  float64       \n",
                  " 5   wind_speed       331166 non-null  float64       \n",
                  "dtypes: datetime64[ns](1), float64(4), object(1)\n",
                  "memory usage: 15.2+ MB\n"
               ]
            }
         ],
         "source": [
            "weather_df.info()"
         ]
      },
      {
         "cell_type": "code",
         "execution_count": 23,
         "metadata": {},
         "outputs": [
            {
               "name": "stdout",
               "output_type": "stream",
               "text": [
                  "<class 'pandas.core.frame.DataFrame'>\n",
                  "Int64Index: 25212579 entries, 747 to 27676291\n",
                  "Data columns (total 6 columns):\n",
                  " #   Column       Dtype         \n",
                  "---  ------       -----         \n",
                  " 0   timestamp    datetime64[ns]\n",
                  " 1   building_id  object        \n",
                  " 2   electricity  float64       \n",
                  " 3   month        int64         \n",
                  " 4   weekday      int64         \n",
                  " 5   hour         int64         \n",
                  "dtypes: datetime64[ns](1), float64(1), int64(3), object(1)\n",
                  "memory usage: 1.3+ GB\n"
               ]
            }
         ],
         "source": [
            "meter_df.info()"
         ]
      },
      {
         "cell_type": "code",
         "execution_count": 24,
         "metadata": {},
         "outputs": [],
         "source": [
            "df = meter_df.merge(meta_df, how=\"left\", on=\"building_id\")\\\n",
            "            .merge(weather_df, how=\"left\", on = [\"timestamp\", \"site_id\"])"
         ]
      },
      {
         "cell_type": "code",
         "execution_count": 25,
         "metadata": {},
         "outputs": [
            {
               "data": {
                  "text/html": [
                     "<div>\n",
                     "<style scoped>\n",
                     "    .dataframe tbody tr th:only-of-type {\n",
                     "        vertical-align: middle;\n",
                     "    }\n",
                     "\n",
                     "    .dataframe tbody tr th {\n",
                     "        vertical-align: top;\n",
                     "    }\n",
                     "\n",
                     "    .dataframe thead th {\n",
                     "        text-align: right;\n",
                     "    }\n",
                     "</style>\n",
                     "<table border=\"1\" class=\"dataframe\">\n",
                     "  <thead>\n",
                     "    <tr style=\"text-align: right;\">\n",
                     "      <th></th>\n",
                     "      <th>timestamp</th>\n",
                     "      <th>building_id</th>\n",
                     "      <th>electricity</th>\n",
                     "      <th>month</th>\n",
                     "      <th>weekday</th>\n",
                     "      <th>hour</th>\n",
                     "      <th>site_id</th>\n",
                     "      <th>primary_space_usage</th>\n",
                     "      <th>sq_meter</th>\n",
                     "      <th>air_temperature</th>\n",
                     "      <th>dew_temperature</th>\n",
                     "      <th>wind_direction</th>\n",
                     "      <th>wind_speed</th>\n",
                     "    </tr>\n",
                     "  </thead>\n",
                     "  <tbody>\n",
                     "    <tr>\n",
                     "      <th>0</th>\n",
                     "      <td>2016-02-01 03:00:00</td>\n",
                     "      <td>Panther_parking_Lorriane</td>\n",
                     "      <td>3.7207</td>\n",
                     "      <td>2</td>\n",
                     "      <td>0</td>\n",
                     "      <td>3</td>\n",
                     "      <td>Panther</td>\n",
                     "      <td>Parking</td>\n",
                     "      <td>36012.7</td>\n",
                     "      <td>17.2</td>\n",
                     "      <td>15.0</td>\n",
                     "      <td>0.0</td>\n",
                     "      <td>0.0</td>\n",
                     "    </tr>\n",
                     "    <tr>\n",
                     "      <th>1</th>\n",
                     "      <td>2016-02-06 13:00:00</td>\n",
                     "      <td>Panther_parking_Lorriane</td>\n",
                     "      <td>2.1004</td>\n",
                     "      <td>2</td>\n",
                     "      <td>5</td>\n",
                     "      <td>13</td>\n",
                     "      <td>Panther</td>\n",
                     "      <td>Parking</td>\n",
                     "      <td>36012.7</td>\n",
                     "      <td>17.8</td>\n",
                     "      <td>12.8</td>\n",
                     "      <td>20.0</td>\n",
                     "      <td>4.1</td>\n",
                     "    </tr>\n",
                     "    <tr>\n",
                     "      <th>2</th>\n",
                     "      <td>2016-02-14 05:00:00</td>\n",
                     "      <td>Panther_parking_Lorriane</td>\n",
                     "      <td>3.3006</td>\n",
                     "      <td>2</td>\n",
                     "      <td>6</td>\n",
                     "      <td>5</td>\n",
                     "      <td>Panther</td>\n",
                     "      <td>Parking</td>\n",
                     "      <td>36012.7</td>\n",
                     "      <td>6.7</td>\n",
                     "      <td>3.3</td>\n",
                     "      <td>350.0</td>\n",
                     "      <td>3.6</td>\n",
                     "    </tr>\n",
                     "    <tr>\n",
                     "      <th>3</th>\n",
                     "      <td>2016-02-20 01:00:00</td>\n",
                     "      <td>Panther_parking_Lorriane</td>\n",
                     "      <td>3.4807</td>\n",
                     "      <td>2</td>\n",
                     "      <td>5</td>\n",
                     "      <td>1</td>\n",
                     "      <td>Panther</td>\n",
                     "      <td>Parking</td>\n",
                     "      <td>36012.7</td>\n",
                     "      <td>13.3</td>\n",
                     "      <td>10.0</td>\n",
                     "      <td>10.0</td>\n",
                     "      <td>1.5</td>\n",
                     "    </tr>\n",
                     "    <tr>\n",
                     "      <th>4</th>\n",
                     "      <td>2016-02-29 11:00:00</td>\n",
                     "      <td>Panther_parking_Lorriane</td>\n",
                     "      <td>2.1604</td>\n",
                     "      <td>2</td>\n",
                     "      <td>0</td>\n",
                     "      <td>11</td>\n",
                     "      <td>Panther</td>\n",
                     "      <td>Parking</td>\n",
                     "      <td>36012.7</td>\n",
                     "      <td>21.7</td>\n",
                     "      <td>8.3</td>\n",
                     "      <td>100.0</td>\n",
                     "      <td>1.5</td>\n",
                     "    </tr>\n",
                     "  </tbody>\n",
                     "</table>\n",
                     "</div>"
                  ],
                  "text/plain": [
                     "            timestamp               building_id  electricity  month  weekday  \\\n",
                     "0 2016-02-01 03:00:00  Panther_parking_Lorriane       3.7207      2        0   \n",
                     "1 2016-02-06 13:00:00  Panther_parking_Lorriane       2.1004      2        5   \n",
                     "2 2016-02-14 05:00:00  Panther_parking_Lorriane       3.3006      2        6   \n",
                     "3 2016-02-20 01:00:00  Panther_parking_Lorriane       3.4807      2        5   \n",
                     "4 2016-02-29 11:00:00  Panther_parking_Lorriane       2.1604      2        0   \n",
                     "\n",
                     "   hour  site_id primary_space_usage  sq_meter  air_temperature  \\\n",
                     "0     3  Panther             Parking   36012.7             17.2   \n",
                     "1    13  Panther             Parking   36012.7             17.8   \n",
                     "2     5  Panther             Parking   36012.7              6.7   \n",
                     "3     1  Panther             Parking   36012.7             13.3   \n",
                     "4    11  Panther             Parking   36012.7             21.7   \n",
                     "\n",
                     "   dew_temperature  wind_direction  wind_speed  \n",
                     "0             15.0             0.0         0.0  \n",
                     "1             12.8            20.0         4.1  \n",
                     "2              3.3           350.0         3.6  \n",
                     "3             10.0            10.0         1.5  \n",
                     "4              8.3           100.0         1.5  "
                  ]
               },
               "execution_count": 25,
               "metadata": {},
               "output_type": "execute_result"
            }
         ],
         "source": [
            "df.head()"
         ]
      },
      {
         "cell_type": "code",
         "execution_count": 26,
         "metadata": {},
         "outputs": [
            {
               "data": {
                  "text/plain": [
                     "timestamp              0.000000\n",
                     "building_id            0.000000\n",
                     "electricity            0.000000\n",
                     "month                  0.000000\n",
                     "weekday                0.000000\n",
                     "hour                   0.000000\n",
                     "site_id                0.000000\n",
                     "primary_space_usage    0.000000\n",
                     "sq_meter               0.000000\n",
                     "air_temperature        0.337066\n",
                     "dew_temperature        0.337066\n",
                     "wind_direction         0.337066\n",
                     "wind_speed             0.337066\n",
                     "dtype: float64"
                  ]
               },
               "execution_count": 26,
               "metadata": {},
               "output_type": "execute_result"
            }
         ],
         "source": [
            "df.isna().sum()*100/len(df)"
         ]
      },
      {
         "cell_type": "code",
         "execution_count": 28,
         "metadata": {},
         "outputs": [],
         "source": [
            "df['air_temperature'].interpolate(method=\"linear\", inplace=True)\n",
            "df['air_temperature'] = df['air_temperature'].astype(float).round(2)\n",
            "df['dew_temperature'].interpolate(method=\"linear\", inplace=True)\n",
            "df['dew_temperature'] = df['dew_temperature'].astype(float).round(2)\n",
            "df['wind_direction'].interpolate(method=\"linear\", inplace=True)\n",
            "df['wind_direction'] = df['wind_direction'].astype(float).round(2)\n",
            "df['wind_speed'].interpolate(method=\"linear\", inplace=True)\n",
            "df['wind_speed'] =df['wind_speed'].astype(float).round(2)"
         ]
      },
      {
         "cell_type": "code",
         "execution_count": 29,
         "metadata": {},
         "outputs": [
            {
               "data": {
                  "text/plain": [
                     "timestamp              0.0\n",
                     "building_id            0.0\n",
                     "electricity            0.0\n",
                     "month                  0.0\n",
                     "weekday                0.0\n",
                     "hour                   0.0\n",
                     "site_id                0.0\n",
                     "primary_space_usage    0.0\n",
                     "sq_meter               0.0\n",
                     "air_temperature        0.0\n",
                     "dew_temperature        0.0\n",
                     "wind_direction         0.0\n",
                     "wind_speed             0.0\n",
                     "dtype: float64"
                  ]
               },
               "execution_count": 29,
               "metadata": {},
               "output_type": "execute_result"
            }
         ],
         "source": [
            "df.isna().sum()*100/len(df)"
         ]
      },
      {
         "cell_type": "code",
         "execution_count": 30,
         "metadata": {},
         "outputs": [
            {
               "name": "stderr",
               "output_type": "stream",
               "text": [
                  "Error in sys.excepthook:\n",
                  "Traceback (most recent call last):\n",
                  "  File \"c:\\Users\\phuon\\Documents\\Projects\\project\\venv\\lib\\site-packages\\IPython\\core\\interactiveshell.py\", line 1934, in showtraceback\n",
                  "    stb = value._render_traceback_()\n",
                  "AttributeError: 'OverflowError' object has no attribute '_render_traceback_'\n",
                  "\n",
                  "During handling of the above exception, another exception occurred:\n",
                  "\n",
                  "Traceback (most recent call last):\n",
                  "  File \"c:\\Users\\phuon\\Documents\\Projects\\project\\venv\\lib\\site-packages\\IPython\\core\\interactiveshell.py\", line 1936, in showtraceback\n",
                  "    stb = self.InteractiveTB.structured_traceback(etype,\n",
                  "  File \"c:\\Users\\phuon\\Documents\\Projects\\project\\venv\\lib\\site-packages\\IPython\\core\\ultratb.py\", line 1105, in structured_traceback\n",
                  "    return FormattedTB.structured_traceback(\n",
                  "  File \"c:\\Users\\phuon\\Documents\\Projects\\project\\venv\\lib\\site-packages\\IPython\\core\\ultratb.py\", line 999, in structured_traceback\n",
                  "    return VerboseTB.structured_traceback(\n",
                  "  File \"c:\\Users\\phuon\\Documents\\Projects\\project\\venv\\lib\\site-packages\\IPython\\core\\ultratb.py\", line 851, in structured_traceback\n",
                  "    assert etb is not None\n",
                  "AssertionError\n",
                  "\n",
                  "Original exception was:\n",
                  "OverflowError: Python int too large to convert to C long\n",
                  "Exception ignored in: 'fastparquet.cencoding.write_thrift'\n",
                  "Traceback (most recent call last):\n",
                  "  File \"c:\\Users\\phuon\\Documents\\Projects\\project\\venv\\lib\\site-packages\\fastparquet\\writer.py\", line 888, in write_simple\n",
                  "    foot_size = f.write(fmd.to_bytes())\n",
                  "OverflowError: Python int too large to convert to C long\n"
               ]
            }
         ],
         "source": [
            "file = \"electricity_features.parq\"\n",
            "#change to parquet file\n",
            "fastparquet.write(file, df, compression=\"GZIP\")"
         ]
      },
      {
         "cell_type": "code",
         "execution_count": 31,
         "metadata": {},
         "outputs": [
            {
               "name": "stdout",
               "output_type": "stream",
               "text": [
                  "electricity_features.parq write complete\n"
               ]
            }
         ],
         "source": [
            "#write to azure\n",
            "storage.upload(file_system=file_system, directory=dest_dir, file_name=file,file_path=file,overwrite=True )\n",
            "os.remove(file)"
         ]
      }
   ],
   "metadata": {
      "interpreter": {
         "hash": "a6f32d01d5b22f0f036211ddd2212f9d7a468214a2e2c6ab6e23af4ae0eada46"
      },
      "kernelspec": {
         "display_name": "Python 3.9.0 ('venv': venv)",
         "language": "python",
         "name": "python3"
      },
      "language_info": {
         "codemirror_mode": {
            "name": "ipython",
            "version": 3
         },
         "file_extension": ".py",
         "mimetype": "text/x-python",
         "name": "python",
         "nbconvert_exporter": "python",
         "pygments_lexer": "ipython3",
         "version": "3.9.0"
      },
      "orig_nbformat": 4
   },
   "nbformat": 4,
   "nbformat_minor": 2
}
