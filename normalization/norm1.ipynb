{
 "cells": [
  {
   "cell_type": "code",
   "execution_count": 1,
   "metadata": {},
   "outputs": [],
   "source": [
    "import sys\n",
    "import os\n",
    "from copy import deepcopy\n",
    "sys.path.append(\"..\")\n",
    "import pandas as pd\n",
    "import numpy as np\n",
    "from matplotlib import pyplot as plt\n",
    "from webapp.utils.azure_utils import KeyVault, DataLake\n",
    "import dask.dataframe as dd\n",
    "import dask.array as da\n",
    "import river\n",
    "from data_prep.prep import MeterDataSet"
   ]
  },
  {
   "cell_type": "code",
   "execution_count": 2,
   "metadata": {},
   "outputs": [],
   "source": [
    "# Connect to Storage Account\n",
    "vault = KeyVault(keyVaultName = \"keyvaultdva2022\")\n",
    "storage_credential = vault.get_secret(secretName = \"storagePrimaryKey\")\n",
    "storage = DataLake(account_name = \"storageaccountdva\", credential = storage_credential)"
   ]
  },
  {
   "cell_type": "code",
   "execution_count": 3,
   "metadata": {},
   "outputs": [],
   "source": [
    "file_system = \"energyhub\"\n",
    "dest_dir = \"/data_parq/norm_data\"\n",
    "meters_dir = \"/data_parq/meters\"\n",
    "meta_dir = \"/data_parq/metadata\"\n",
    "weather_dir = \"/data_parq/weather\"\n",
    "bad_building_dir = \"/bad_buildings\""
   ]
  },
  {
   "cell_type": "code",
   "execution_count": 4,
   "metadata": {},
   "outputs": [],
   "source": [
    "meter = \"electricity\"\n",
    "metadata_cols = ['building_id', 'site_id','sq_meter', 'primary_space_usage']\n",
    "weather_cols = ['site_id', 'timestamp', 'air_temperature', 'dew_temperature','wind_direction', 'wind_speed']"
   ]
  },
  {
   "cell_type": "markdown",
   "metadata": {},
   "source": [
    "## Initiate the Class"
   ]
  },
  {
   "cell_type": "code",
   "execution_count": 5,
   "metadata": {},
   "outputs": [],
   "source": [
    "electricity = MeterDataSet(meter, metadata_cols, weather_cols)"
   ]
  },
  {
   "cell_type": "markdown",
   "metadata": {},
   "source": [
    "## Process weather"
   ]
  },
  {
   "cell_type": "code",
   "execution_count": 6,
   "metadata": {},
   "outputs": [],
   "source": [
    "w_cols = weather_cols[2:]"
   ]
  },
  {
   "cell_type": "code",
   "execution_count": 7,
   "metadata": {},
   "outputs": [],
   "source": [
    "weather = electricity.fill_weather_na(w_cols, \"linear\")"
   ]
  },
  {
   "cell_type": "code",
   "execution_count": 8,
   "metadata": {},
   "outputs": [
    {
     "data": {
      "text/plain": [
       "331166"
      ]
     },
     "execution_count": 8,
     "metadata": {},
     "output_type": "execute_result"
    }
   ],
   "source": [
    "len(weather)"
   ]
  },
  {
   "cell_type": "code",
   "execution_count": 9,
   "metadata": {},
   "outputs": [
    {
     "data": {
      "text/plain": [
       "Index(['timestamp', 'site_id', 'air_temperature', 'dew_temperature',\n",
       "       'wind_direction', 'wind_speed'],\n",
       "      dtype='object')"
      ]
     },
     "execution_count": 9,
     "metadata": {},
     "output_type": "execute_result"
    }
   ],
   "source": [
    "weather.columns"
   ]
  },
  {
   "cell_type": "code",
   "execution_count": 10,
   "metadata": {},
   "outputs": [],
   "source": [
    "# weather_df = weather.compute()"
   ]
  },
  {
   "cell_type": "code",
   "execution_count": 11,
   "metadata": {},
   "outputs": [],
   "source": [
    "# weather_df.isna().sum()*100/len(weather_df)"
   ]
  },
  {
   "cell_type": "markdown",
   "metadata": {},
   "source": [
    "## Process Meter"
   ]
  },
  {
   "cell_type": "code",
   "execution_count": 12,
   "metadata": {},
   "outputs": [],
   "source": [
    "meter = electricity.meter"
   ]
  },
  {
   "cell_type": "code",
   "execution_count": 13,
   "metadata": {},
   "outputs": [
    {
     "data": {
      "text/plain": [
       "timestamp      0.0\n",
       "building_id    0.0\n",
       "electricity    0.0\n",
       "dtype: float64"
      ]
     },
     "execution_count": 13,
     "metadata": {},
     "output_type": "execute_result"
    }
   ],
   "source": [
    "meter.compute().isna().sum()*100/len(meter)"
   ]
  },
  {
   "cell_type": "markdown",
   "metadata": {},
   "source": [
    "## Merge and filter out bad buildings"
   ]
  },
  {
   "cell_type": "code",
   "execution_count": 14,
   "metadata": {},
   "outputs": [],
   "source": [
    "bad_buildings = storage.pandas_read(\n",
    "            file_system, directory=bad_building_dir, file_name=\"bad_buildings.csv\")"
   ]
  },
  {
   "cell_type": "code",
   "execution_count": 15,
   "metadata": {},
   "outputs": [],
   "source": [
    "bad_buildings = bad_buildings.building_id.to_list()"
   ]
  },
  {
   "cell_type": "code",
   "execution_count": 16,
   "metadata": {},
   "outputs": [],
   "source": [
    "electricity.merge()"
   ]
  },
  {
   "cell_type": "code",
   "execution_count": 17,
   "metadata": {},
   "outputs": [
    {
     "data": {
      "text/html": [
       "<div><strong>Dask DataFrame Structure:</strong></div>\n",
       "<div>\n",
       "<style scoped>\n",
       "    .dataframe tbody tr th:only-of-type {\n",
       "        vertical-align: middle;\n",
       "    }\n",
       "\n",
       "    .dataframe tbody tr th {\n",
       "        vertical-align: top;\n",
       "    }\n",
       "\n",
       "    .dataframe thead th {\n",
       "        text-align: right;\n",
       "    }\n",
       "</style>\n",
       "<table border=\"1\" class=\"dataframe\">\n",
       "  <thead>\n",
       "    <tr style=\"text-align: right;\">\n",
       "      <th></th>\n",
       "      <th>timestamp</th>\n",
       "      <th>building_id</th>\n",
       "      <th>electricity</th>\n",
       "      <th>site_id</th>\n",
       "      <th>sq_meter</th>\n",
       "      <th>primary_space_usage</th>\n",
       "      <th>air_temperature</th>\n",
       "      <th>dew_temperature</th>\n",
       "      <th>wind_direction</th>\n",
       "      <th>wind_speed</th>\n",
       "    </tr>\n",
       "    <tr>\n",
       "      <th>npartitions=19</th>\n",
       "      <th></th>\n",
       "      <th></th>\n",
       "      <th></th>\n",
       "      <th></th>\n",
       "      <th></th>\n",
       "      <th></th>\n",
       "      <th></th>\n",
       "      <th></th>\n",
       "      <th></th>\n",
       "      <th></th>\n",
       "    </tr>\n",
       "  </thead>\n",
       "  <tbody>\n",
       "    <tr>\n",
       "      <th></th>\n",
       "      <td>datetime64[ns]</td>\n",
       "      <td>category[unknown]</td>\n",
       "      <td>float64</td>\n",
       "      <td>category[known]</td>\n",
       "      <td>float64</td>\n",
       "      <td>category[unknown]</td>\n",
       "      <td>float64</td>\n",
       "      <td>float64</td>\n",
       "      <td>float64</td>\n",
       "      <td>float64</td>\n",
       "    </tr>\n",
       "    <tr>\n",
       "      <th></th>\n",
       "      <td>...</td>\n",
       "      <td>...</td>\n",
       "      <td>...</td>\n",
       "      <td>...</td>\n",
       "      <td>...</td>\n",
       "      <td>...</td>\n",
       "      <td>...</td>\n",
       "      <td>...</td>\n",
       "      <td>...</td>\n",
       "      <td>...</td>\n",
       "    </tr>\n",
       "    <tr>\n",
       "      <th>...</th>\n",
       "      <td>...</td>\n",
       "      <td>...</td>\n",
       "      <td>...</td>\n",
       "      <td>...</td>\n",
       "      <td>...</td>\n",
       "      <td>...</td>\n",
       "      <td>...</td>\n",
       "      <td>...</td>\n",
       "      <td>...</td>\n",
       "      <td>...</td>\n",
       "    </tr>\n",
       "    <tr>\n",
       "      <th></th>\n",
       "      <td>...</td>\n",
       "      <td>...</td>\n",
       "      <td>...</td>\n",
       "      <td>...</td>\n",
       "      <td>...</td>\n",
       "      <td>...</td>\n",
       "      <td>...</td>\n",
       "      <td>...</td>\n",
       "      <td>...</td>\n",
       "      <td>...</td>\n",
       "    </tr>\n",
       "    <tr>\n",
       "      <th></th>\n",
       "      <td>...</td>\n",
       "      <td>...</td>\n",
       "      <td>...</td>\n",
       "      <td>...</td>\n",
       "      <td>...</td>\n",
       "      <td>...</td>\n",
       "      <td>...</td>\n",
       "      <td>...</td>\n",
       "      <td>...</td>\n",
       "      <td>...</td>\n",
       "    </tr>\n",
       "  </tbody>\n",
       "</table>\n",
       "</div>\n",
       "<div>Dask Name: getitem, 120 tasks</div>"
      ],
      "text/plain": [
       "Dask DataFrame Structure:\n",
       "                     timestamp        building_id electricity          site_id sq_meter primary_space_usage air_temperature dew_temperature wind_direction wind_speed\n",
       "npartitions=19                                                                                                                                                       \n",
       "                datetime64[ns]  category[unknown]     float64  category[known]  float64   category[unknown]         float64         float64        float64    float64\n",
       "                           ...                ...         ...              ...      ...                 ...             ...             ...            ...        ...\n",
       "...                        ...                ...         ...              ...      ...                 ...             ...             ...            ...        ...\n",
       "                           ...                ...         ...              ...      ...                 ...             ...             ...            ...        ...\n",
       "                           ...                ...         ...              ...      ...                 ...             ...             ...            ...        ...\n",
       "Dask Name: getitem, 120 tasks"
      ]
     },
     "execution_count": 17,
     "metadata": {},
     "output_type": "execute_result"
    }
   ],
   "source": [
    "electricity.filter_buildings(bad_buildings)"
   ]
  },
  {
   "cell_type": "code",
   "execution_count": 18,
   "metadata": {},
   "outputs": [],
   "source": [
    "df = electricity.df"
   ]
  },
  {
   "cell_type": "code",
   "execution_count": 19,
   "metadata": {},
   "outputs": [
    {
     "data": {
      "text/plain": [
       "<bound method DataFrame.info of Dask DataFrame Structure:\n",
       "                     timestamp        building_id electricity          site_id sq_meter primary_space_usage air_temperature dew_temperature wind_direction wind_speed\n",
       "npartitions=19                                                                                                                                                       \n",
       "                datetime64[ns]  category[unknown]     float64  category[known]  float64   category[unknown]         float64         float64        float64    float64\n",
       "                           ...                ...         ...              ...      ...                 ...             ...             ...            ...        ...\n",
       "...                        ...                ...         ...              ...      ...                 ...             ...             ...            ...        ...\n",
       "                           ...                ...         ...              ...      ...                 ...             ...             ...            ...        ...\n",
       "                           ...                ...         ...              ...      ...                 ...             ...             ...            ...        ...\n",
       "Dask Name: merge_chunk, 62 tasks>"
      ]
     },
     "execution_count": 19,
     "metadata": {},
     "output_type": "execute_result"
    }
   ],
   "source": [
    "df.info"
   ]
  },
  {
   "cell_type": "code",
   "execution_count": 20,
   "metadata": {},
   "outputs": [],
   "source": [
    "# len(df.building_id.unique())\n",
    "# 1573 unique buildings before filtering bad buildings"
   ]
  },
  {
   "cell_type": "code",
   "execution_count": 21,
   "metadata": {},
   "outputs": [],
   "source": [
    "# len(df.building_id.unique())"
   ]
  },
  {
   "cell_type": "markdown",
   "metadata": {},
   "source": [
    "## Add features"
   ]
  },
  {
   "cell_type": "code",
   "execution_count": 22,
   "metadata": {},
   "outputs": [],
   "source": [
    "df['usage_lag1'] = df['electricity'].shift(1)\n",
    "df['usage_lag2'] = df['electricity'].shift(2)\n",
    "df['usage_lag3'] = df['electricity'].shift(3)"
   ]
  },
  {
   "cell_type": "code",
   "execution_count": 23,
   "metadata": {},
   "outputs": [],
   "source": [
    "def add_time_features(df):\n",
    "    \"\"\"\n",
    "    Adapted from: https://github.com/buds-lab/ashrae-great-energy-predictor-3-solution-analysis/blob/master/solutions/rank-1/scripts/02_preprocess_data.py\n",
    "    \"\"\"\n",
    "    df.timestamp = pd.to_datetime(df.timestamp)\n",
    "    # time features\n",
    "    df[\"hour\"] = df.timestamp.dt.hour\n",
    "    df[\"weekday\"] = df.timestamp.dt.weekday\n",
    "    df[\"month\"] = df.timestamp.dt.month\n",
    "    df[\"year\"] = df.timestamp.dt.year    \n",
    "    \n",
    "    # time interactions\n",
    "    df[\"weekday_hour\"] = df.weekday.astype(str) + \"-\" + df.hour.astype(str)\n",
    "    \n",
    "    # apply cyclic encoding of periodic features\n",
    "    df[\"ts\"] = (df.timestamp - pd.to_datetime(\"2016-01-01\")).dt.total_seconds() // 3600\n",
    "    df[\"hour_x\"] = np.cos(2*np.pi*df.ts/24)\n",
    "    df[\"hour_y\"] = np.sin(2*np.pi*df.ts/24)\n",
    "    \n",
    "    df[\"month_x\"] = np.cos(2*np.pi*df.ts/(30.4*24))\n",
    "    df[\"month_y\"] = np.sin(2*np.pi*df.ts/(30.4*24))\n",
    "    \n",
    "    df[\"weekday_x\"] = np.cos(2*np.pi*df.ts/(7*24))\n",
    "    df[\"weekday_y\"] = np.sin(2*np.pi*df.ts/(7*24))"
   ]
  },
  {
   "cell_type": "code",
   "execution_count": 24,
   "metadata": {},
   "outputs": [],
   "source": [
    "# df_pd = df.compute()"
   ]
  },
  {
   "cell_type": "code",
   "execution_count": 25,
   "metadata": {},
   "outputs": [
    {
     "ename": "TypeError",
     "evalue": "a bytes-like object is required, not 'Series'",
     "output_type": "error",
     "traceback": [
      "\u001b[1;31m---------------------------------------------------------------------------\u001b[0m",
      "\u001b[1;31mTypeError\u001b[0m                                 Traceback (most recent call last)",
      "\u001b[1;32mc:\\Users\\phuon\\Documents\\Projects\\project\\normalization\\norm1.ipynb Cell 30'\u001b[0m in \u001b[0;36m<cell line: 1>\u001b[1;34m()\u001b[0m\n\u001b[1;32m----> <a href='vscode-notebook-cell:/c%3A/Users/phuon/Documents/Projects/project/normalization/norm1.ipynb#ch0000034?line=0'>1</a>\u001b[0m add_time_features(df)\n",
      "\u001b[1;32mc:\\Users\\phuon\\Documents\\Projects\\project\\normalization\\norm1.ipynb Cell 28'\u001b[0m in \u001b[0;36madd_time_features\u001b[1;34m(df)\u001b[0m\n\u001b[0;32m      <a href='vscode-notebook-cell:/c%3A/Users/phuon/Documents/Projects/project/normalization/norm1.ipynb#ch0000033?line=0'>1</a>\u001b[0m \u001b[39mdef\u001b[39;00m \u001b[39madd_time_features\u001b[39m(df):\n\u001b[0;32m      <a href='vscode-notebook-cell:/c%3A/Users/phuon/Documents/Projects/project/normalization/norm1.ipynb#ch0000033?line=1'>2</a>\u001b[0m     \u001b[39m\"\"\"\u001b[39;00m\n\u001b[0;32m      <a href='vscode-notebook-cell:/c%3A/Users/phuon/Documents/Projects/project/normalization/norm1.ipynb#ch0000033?line=2'>3</a>\u001b[0m \u001b[39m    Adapted from: https://github.com/buds-lab/ashrae-great-energy-predictor-3-solution-analysis/blob/master/solutions/rank-1/scripts/02_preprocess_data.py\u001b[39;00m\n\u001b[0;32m      <a href='vscode-notebook-cell:/c%3A/Users/phuon/Documents/Projects/project/normalization/norm1.ipynb#ch0000033?line=3'>4</a>\u001b[0m \u001b[39m    \"\"\"\u001b[39;00m\n\u001b[1;32m----> <a href='vscode-notebook-cell:/c%3A/Users/phuon/Documents/Projects/project/normalization/norm1.ipynb#ch0000033?line=4'>5</a>\u001b[0m     df\u001b[39m.\u001b[39mtimestamp \u001b[39m=\u001b[39m pd\u001b[39m.\u001b[39;49mto_datetime(df\u001b[39m.\u001b[39;49mtimestamp)\n\u001b[0;32m      <a href='vscode-notebook-cell:/c%3A/Users/phuon/Documents/Projects/project/normalization/norm1.ipynb#ch0000033?line=5'>6</a>\u001b[0m     \u001b[39m# time features\u001b[39;00m\n\u001b[0;32m      <a href='vscode-notebook-cell:/c%3A/Users/phuon/Documents/Projects/project/normalization/norm1.ipynb#ch0000033?line=6'>7</a>\u001b[0m     df[\u001b[39m\"\u001b[39m\u001b[39mhour\u001b[39m\u001b[39m\"\u001b[39m] \u001b[39m=\u001b[39m df\u001b[39m.\u001b[39mtimestamp\u001b[39m.\u001b[39mdt\u001b[39m.\u001b[39mhour\n",
      "File \u001b[1;32mc:\\Users\\phuon\\Documents\\Projects\\project\\venv\\lib\\site-packages\\pandas\\core\\tools\\datetimes.py:1063\u001b[0m, in \u001b[0;36mto_datetime\u001b[1;34m(arg, errors, dayfirst, yearfirst, utc, format, exact, unit, infer_datetime_format, origin, cache)\u001b[0m\n\u001b[0;32m   <a href='file:///c%3A/Users/phuon/Documents/Projects/project/venv/lib/site-packages/pandas/core/tools/datetimes.py?line=1060'>1061</a>\u001b[0m \u001b[39melif\u001b[39;00m is_list_like(arg):\n\u001b[0;32m   <a href='file:///c%3A/Users/phuon/Documents/Projects/project/venv/lib/site-packages/pandas/core/tools/datetimes.py?line=1061'>1062</a>\u001b[0m     \u001b[39mtry\u001b[39;00m:\n\u001b[1;32m-> <a href='file:///c%3A/Users/phuon/Documents/Projects/project/venv/lib/site-packages/pandas/core/tools/datetimes.py?line=1062'>1063</a>\u001b[0m         cache_array \u001b[39m=\u001b[39m _maybe_cache(arg, \u001b[39mformat\u001b[39;49m, cache, convert_listlike)\n\u001b[0;32m   <a href='file:///c%3A/Users/phuon/Documents/Projects/project/venv/lib/site-packages/pandas/core/tools/datetimes.py?line=1063'>1064</a>\u001b[0m     \u001b[39mexcept\u001b[39;00m OutOfBoundsDatetime:\n\u001b[0;32m   <a href='file:///c%3A/Users/phuon/Documents/Projects/project/venv/lib/site-packages/pandas/core/tools/datetimes.py?line=1064'>1065</a>\u001b[0m         \u001b[39m# caching attempts to create a DatetimeIndex, which may raise\u001b[39;00m\n\u001b[0;32m   <a href='file:///c%3A/Users/phuon/Documents/Projects/project/venv/lib/site-packages/pandas/core/tools/datetimes.py?line=1065'>1066</a>\u001b[0m         \u001b[39m# an OOB. If that's the desired behavior, then just reraise...\u001b[39;00m\n\u001b[0;32m   <a href='file:///c%3A/Users/phuon/Documents/Projects/project/venv/lib/site-packages/pandas/core/tools/datetimes.py?line=1066'>1067</a>\u001b[0m         \u001b[39mif\u001b[39;00m errors \u001b[39m==\u001b[39m \u001b[39m\"\u001b[39m\u001b[39mraise\u001b[39m\u001b[39m\"\u001b[39m:\n",
      "File \u001b[1;32mc:\\Users\\phuon\\Documents\\Projects\\project\\venv\\lib\\site-packages\\pandas\\core\\tools\\datetimes.py:195\u001b[0m, in \u001b[0;36m_maybe_cache\u001b[1;34m(arg, format, cache, convert_listlike)\u001b[0m\n\u001b[0;32m    <a href='file:///c%3A/Users/phuon/Documents/Projects/project/venv/lib/site-packages/pandas/core/tools/datetimes.py?line=191'>192</a>\u001b[0m \u001b[39mif\u001b[39;00m \u001b[39mnot\u001b[39;00m should_cache(arg):\n\u001b[0;32m    <a href='file:///c%3A/Users/phuon/Documents/Projects/project/venv/lib/site-packages/pandas/core/tools/datetimes.py?line=192'>193</a>\u001b[0m     \u001b[39mreturn\u001b[39;00m cache_array\n\u001b[1;32m--> <a href='file:///c%3A/Users/phuon/Documents/Projects/project/venv/lib/site-packages/pandas/core/tools/datetimes.py?line=194'>195</a>\u001b[0m unique_dates \u001b[39m=\u001b[39m unique(arg)\n\u001b[0;32m    <a href='file:///c%3A/Users/phuon/Documents/Projects/project/venv/lib/site-packages/pandas/core/tools/datetimes.py?line=195'>196</a>\u001b[0m \u001b[39mif\u001b[39;00m \u001b[39mlen\u001b[39m(unique_dates) \u001b[39m<\u001b[39m \u001b[39mlen\u001b[39m(arg):\n\u001b[0;32m    <a href='file:///c%3A/Users/phuon/Documents/Projects/project/venv/lib/site-packages/pandas/core/tools/datetimes.py?line=196'>197</a>\u001b[0m     cache_dates \u001b[39m=\u001b[39m convert_listlike(unique_dates, \u001b[39mformat\u001b[39m)\n",
      "File \u001b[1;32mc:\\Users\\phuon\\Documents\\Projects\\project\\venv\\lib\\site-packages\\pandas\\core\\algorithms.py:440\u001b[0m, in \u001b[0;36munique\u001b[1;34m(values)\u001b[0m\n\u001b[0;32m    <a href='file:///c%3A/Users/phuon/Documents/Projects/project/venv/lib/site-packages/pandas/core/algorithms.py?line=436'>437</a>\u001b[0m htable, values \u001b[39m=\u001b[39m _get_hashtable_algo(values)\n\u001b[0;32m    <a href='file:///c%3A/Users/phuon/Documents/Projects/project/venv/lib/site-packages/pandas/core/algorithms.py?line=438'>439</a>\u001b[0m table \u001b[39m=\u001b[39m htable(\u001b[39mlen\u001b[39m(values))\n\u001b[1;32m--> <a href='file:///c%3A/Users/phuon/Documents/Projects/project/venv/lib/site-packages/pandas/core/algorithms.py?line=439'>440</a>\u001b[0m uniques \u001b[39m=\u001b[39m table\u001b[39m.\u001b[39;49munique(values)\n\u001b[0;32m    <a href='file:///c%3A/Users/phuon/Documents/Projects/project/venv/lib/site-packages/pandas/core/algorithms.py?line=440'>441</a>\u001b[0m uniques \u001b[39m=\u001b[39m _reconstruct_data(uniques, original\u001b[39m.\u001b[39mdtype, original)\n\u001b[0;32m    <a href='file:///c%3A/Users/phuon/Documents/Projects/project/venv/lib/site-packages/pandas/core/algorithms.py?line=441'>442</a>\u001b[0m \u001b[39mreturn\u001b[39;00m uniques\n",
      "File \u001b[1;32mpandas\\_libs\\hashtable_class_helper.pxi:2321\u001b[0m, in \u001b[0;36mpandas._libs.hashtable.Int64HashTable.unique\u001b[1;34m()\u001b[0m\n",
      "File \u001b[1;32mstringsource:658\u001b[0m, in \u001b[0;36mView.MemoryView.memoryview_cwrapper\u001b[1;34m()\u001b[0m\n",
      "File \u001b[1;32mstringsource:349\u001b[0m, in \u001b[0;36mView.MemoryView.memoryview.__cinit__\u001b[1;34m()\u001b[0m\n",
      "\u001b[1;31mTypeError\u001b[0m: a bytes-like object is required, not 'Series'"
     ]
    }
   ],
   "source": [
    "add_time_features(df)"
   ]
  },
  {
   "cell_type": "code",
   "execution_count": 26,
   "metadata": {},
   "outputs": [
    {
     "data": {
      "text/plain": [
       "Index(['timestamp', 'building_id', 'electricity', 'site_id', 'sq_meter',\n",
       "       'primary_space_usage', 'air_temperature', 'dew_temperature',\n",
       "       'wind_direction', 'wind_speed', 'usage_lag1', 'usage_lag2',\n",
       "       'usage_lag3'],\n",
       "      dtype='object')"
      ]
     },
     "execution_count": 26,
     "metadata": {},
     "output_type": "execute_result"
    }
   ],
   "source": [
    "df.columns"
   ]
  },
  {
   "cell_type": "code",
   "execution_count": null,
   "metadata": {},
   "outputs": [],
   "source": []
  }
 ],
 "metadata": {
  "interpreter": {
   "hash": "a6f32d01d5b22f0f036211ddd2212f9d7a468214a2e2c6ab6e23af4ae0eada46"
  },
  "kernelspec": {
   "display_name": "Python 3.9.0 ('venv': venv)",
   "language": "python",
   "name": "python3"
  },
  "language_info": {
   "codemirror_mode": {
    "name": "ipython",
    "version": 3
   },
   "file_extension": ".py",
   "mimetype": "text/x-python",
   "name": "python",
   "nbconvert_exporter": "python",
   "pygments_lexer": "ipython3",
   "version": "3.9.0"
  },
  "orig_nbformat": 4
 },
 "nbformat": 4,
 "nbformat_minor": 2
}
