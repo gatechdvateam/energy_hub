{
 "cells": [
  {
   "cell_type": "code",
   "execution_count": 1,
   "metadata": {},
   "outputs": [],
   "source": [
    "import sys\n",
    "import os\n",
    "from copy import deepcopy\n",
    "sys.path.append(\"..\")\n",
    "import pandas as pd\n",
    "import numpy as np\n",
    "from matplotlib import pyplot as plt\n",
    "from webapp.utils.azure_utils import KeyVault, DataLake\n",
    "import dask.dataframe as dd\n",
    "import dask.array as da\n",
    "import river\n",
    "from data_prep.prep import MeterDataSet"
   ]
  },
  {
   "cell_type": "code",
   "execution_count": 2,
   "metadata": {},
   "outputs": [],
   "source": [
    "# Connect to Storage Account\n",
    "vault = KeyVault(keyVaultName = \"keyvaultdva2022\")\n",
    "storage_credential = vault.get_secret(secretName = \"storagePrimaryKey\")\n",
    "storage = DataLake(account_name = \"storageaccountdva\", credential = storage_credential)"
   ]
  },
  {
   "cell_type": "code",
   "execution_count": 3,
   "metadata": {},
   "outputs": [],
   "source": [
    "file_system = \"energyhub\"\n",
    "dest_dir = \"/data_parq/norm_data\"\n",
    "meters_dir = \"/data_parq/meters\"\n",
    "meta_dir = \"/data_parq/metadata\"\n",
    "weather_dir = \"/data_parq/weather\"\n",
    "bad_building_dir = \"/bad_buildings\""
   ]
  },
  {
   "cell_type": "code",
   "execution_count": 4,
   "metadata": {},
   "outputs": [],
   "source": [
    "meter = \"electricity\"\n",
    "metadata_cols = ['building_id', 'site_id','sq_meter', 'primary_space_usage']\n",
    "weather_cols = ['site_id', 'timestamp', 'air_temperature', 'dew_temperature','wind_direction', 'wind_speed']"
   ]
  },
  {
   "cell_type": "markdown",
   "metadata": {},
   "source": [
    "## Initiate the Class"
   ]
  },
  {
   "cell_type": "code",
   "execution_count": 5,
   "metadata": {},
   "outputs": [],
   "source": [
    "electricity = MeterDataSet(meter, metadata_cols, weather_cols)"
   ]
  },
  {
   "cell_type": "markdown",
   "metadata": {},
   "source": [
    "## Process weather"
   ]
  },
  {
   "cell_type": "code",
   "execution_count": 6,
   "metadata": {},
   "outputs": [],
   "source": [
    "w_cols = weather_cols[2:]"
   ]
  },
  {
   "cell_type": "code",
   "execution_count": 7,
   "metadata": {},
   "outputs": [],
   "source": [
    "weather = electricity.fill_weather_na(w_cols, \"linear\")"
   ]
  },
  {
   "cell_type": "code",
   "execution_count": 8,
   "metadata": {},
   "outputs": [
    {
     "data": {
      "text/plain": [
       "331166"
      ]
     },
     "execution_count": 8,
     "metadata": {},
     "output_type": "execute_result"
    }
   ],
   "source": [
    "len(weather)"
   ]
  },
  {
   "cell_type": "code",
   "execution_count": 9,
   "metadata": {},
   "outputs": [
    {
     "data": {
      "text/plain": [
       "Index(['timestamp', 'site_id', 'air_temperature', 'dew_temperature',\n",
       "       'wind_direction', 'wind_speed'],\n",
       "      dtype='object')"
      ]
     },
     "execution_count": 9,
     "metadata": {},
     "output_type": "execute_result"
    }
   ],
   "source": [
    "weather.columns"
   ]
  },
  {
   "cell_type": "code",
   "execution_count": 10,
   "metadata": {},
   "outputs": [],
   "source": [
    "# weather_df = weather.compute()"
   ]
  },
  {
   "cell_type": "code",
   "execution_count": 11,
   "metadata": {},
   "outputs": [],
   "source": [
    "# weather_df.isna().sum()*100/len(weather_df)"
   ]
  },
  {
   "cell_type": "markdown",
   "metadata": {},
   "source": [
    "## Process Meter"
   ]
  },
  {
   "cell_type": "code",
   "execution_count": 12,
   "metadata": {},
   "outputs": [],
   "source": [
    "meter = electricity.meter"
   ]
  },
  {
   "cell_type": "code",
   "execution_count": 13,
   "metadata": {},
   "outputs": [
    {
     "data": {
      "text/plain": [
       "timestamp      0.0\n",
       "building_id    0.0\n",
       "electricity    0.0\n",
       "dtype: float64"
      ]
     },
     "execution_count": 13,
     "metadata": {},
     "output_type": "execute_result"
    }
   ],
   "source": [
    "meter.compute().isna().sum()*100/len(meter)"
   ]
  },
  {
   "cell_type": "markdown",
   "metadata": {},
   "source": [
    "## Merge and filter out bad buildings"
   ]
  },
  {
   "cell_type": "code",
   "execution_count": 14,
   "metadata": {},
   "outputs": [],
   "source": [
    "bad_buildings = storage.pandas_read(\n",
    "            file_system, directory=bad_building_dir, file_name=\"bad_buildings.csv\")"
   ]
  },
  {
   "cell_type": "code",
   "execution_count": 15,
   "metadata": {},
   "outputs": [],
   "source": [
    "bad_buildings = bad_buildings.building_id.to_list()"
   ]
  },
  {
   "cell_type": "code",
   "execution_count": 16,
   "metadata": {},
   "outputs": [],
   "source": [
    "electricity.merge()"
   ]
  },
  {
   "cell_type": "code",
   "execution_count": 17,
   "metadata": {},
   "outputs": [
    {
     "data": {
      "text/html": [
       "<div><strong>Dask DataFrame Structure:</strong></div>\n",
       "<div>\n",
       "<style scoped>\n",
       "    .dataframe tbody tr th:only-of-type {\n",
       "        vertical-align: middle;\n",
       "    }\n",
       "\n",
       "    .dataframe tbody tr th {\n",
       "        vertical-align: top;\n",
       "    }\n",
       "\n",
       "    .dataframe thead th {\n",
       "        text-align: right;\n",
       "    }\n",
       "</style>\n",
       "<table border=\"1\" class=\"dataframe\">\n",
       "  <thead>\n",
       "    <tr style=\"text-align: right;\">\n",
       "      <th></th>\n",
       "      <th>timestamp</th>\n",
       "      <th>building_id</th>\n",
       "      <th>electricity</th>\n",
       "      <th>site_id</th>\n",
       "      <th>sq_meter</th>\n",
       "      <th>primary_space_usage</th>\n",
       "      <th>air_temperature</th>\n",
       "      <th>dew_temperature</th>\n",
       "      <th>wind_direction</th>\n",
       "      <th>wind_speed</th>\n",
       "    </tr>\n",
       "    <tr>\n",
       "      <th>npartitions=19</th>\n",
       "      <th></th>\n",
       "      <th></th>\n",
       "      <th></th>\n",
       "      <th></th>\n",
       "      <th></th>\n",
       "      <th></th>\n",
       "      <th></th>\n",
       "      <th></th>\n",
       "      <th></th>\n",
       "      <th></th>\n",
       "    </tr>\n",
       "  </thead>\n",
       "  <tbody>\n",
       "    <tr>\n",
       "      <th></th>\n",
       "      <td>datetime64[ns]</td>\n",
       "      <td>category[unknown]</td>\n",
       "      <td>float64</td>\n",
       "      <td>category[known]</td>\n",
       "      <td>float64</td>\n",
       "      <td>category[unknown]</td>\n",
       "      <td>float64</td>\n",
       "      <td>float64</td>\n",
       "      <td>float64</td>\n",
       "      <td>float64</td>\n",
       "    </tr>\n",
       "    <tr>\n",
       "      <th></th>\n",
       "      <td>...</td>\n",
       "      <td>...</td>\n",
       "      <td>...</td>\n",
       "      <td>...</td>\n",
       "      <td>...</td>\n",
       "      <td>...</td>\n",
       "      <td>...</td>\n",
       "      <td>...</td>\n",
       "      <td>...</td>\n",
       "      <td>...</td>\n",
       "    </tr>\n",
       "    <tr>\n",
       "      <th>...</th>\n",
       "      <td>...</td>\n",
       "      <td>...</td>\n",
       "      <td>...</td>\n",
       "      <td>...</td>\n",
       "      <td>...</td>\n",
       "      <td>...</td>\n",
       "      <td>...</td>\n",
       "      <td>...</td>\n",
       "      <td>...</td>\n",
       "      <td>...</td>\n",
       "    </tr>\n",
       "    <tr>\n",
       "      <th></th>\n",
       "      <td>...</td>\n",
       "      <td>...</td>\n",
       "      <td>...</td>\n",
       "      <td>...</td>\n",
       "      <td>...</td>\n",
       "      <td>...</td>\n",
       "      <td>...</td>\n",
       "      <td>...</td>\n",
       "      <td>...</td>\n",
       "      <td>...</td>\n",
       "    </tr>\n",
       "    <tr>\n",
       "      <th></th>\n",
       "      <td>...</td>\n",
       "      <td>...</td>\n",
       "      <td>...</td>\n",
       "      <td>...</td>\n",
       "      <td>...</td>\n",
       "      <td>...</td>\n",
       "      <td>...</td>\n",
       "      <td>...</td>\n",
       "      <td>...</td>\n",
       "      <td>...</td>\n",
       "    </tr>\n",
       "  </tbody>\n",
       "</table>\n",
       "</div>\n",
       "<div>Dask Name: getitem, 120 tasks</div>"
      ],
      "text/plain": [
       "Dask DataFrame Structure:\n",
       "                     timestamp        building_id electricity          site_id sq_meter primary_space_usage air_temperature dew_temperature wind_direction wind_speed\n",
       "npartitions=19                                                                                                                                                       \n",
       "                datetime64[ns]  category[unknown]     float64  category[known]  float64   category[unknown]         float64         float64        float64    float64\n",
       "                           ...                ...         ...              ...      ...                 ...             ...             ...            ...        ...\n",
       "...                        ...                ...         ...              ...      ...                 ...             ...             ...            ...        ...\n",
       "                           ...                ...         ...              ...      ...                 ...             ...             ...            ...        ...\n",
       "                           ...                ...         ...              ...      ...                 ...             ...             ...            ...        ...\n",
       "Dask Name: getitem, 120 tasks"
      ]
     },
     "execution_count": 17,
     "metadata": {},
     "output_type": "execute_result"
    }
   ],
   "source": [
    "electricity.filter_buildings(bad_buildings)"
   ]
  },
  {
   "cell_type": "code",
   "execution_count": 18,
   "metadata": {},
   "outputs": [],
   "source": [
    "df = electricity.df"
   ]
  },
  {
   "cell_type": "code",
   "execution_count": 19,
   "metadata": {},
   "outputs": [
    {
     "data": {
      "text/plain": [
       "<bound method DataFrame.info of Dask DataFrame Structure:\n",
       "                     timestamp        building_id electricity          site_id sq_meter primary_space_usage air_temperature dew_temperature wind_direction wind_speed\n",
       "npartitions=19                                                                                                                                                       \n",
       "                datetime64[ns]  category[unknown]     float64  category[known]  float64   category[unknown]         float64         float64        float64    float64\n",
       "                           ...                ...         ...              ...      ...                 ...             ...             ...            ...        ...\n",
       "...                        ...                ...         ...              ...      ...                 ...             ...             ...            ...        ...\n",
       "                           ...                ...         ...              ...      ...                 ...             ...             ...            ...        ...\n",
       "                           ...                ...         ...              ...      ...                 ...             ...             ...            ...        ...\n",
       "Dask Name: merge_chunk, 62 tasks>"
      ]
     },
     "execution_count": 19,
     "metadata": {},
     "output_type": "execute_result"
    }
   ],
   "source": [
    "df.info"
   ]
  },
  {
   "cell_type": "code",
   "execution_count": 45,
   "metadata": {},
   "outputs": [
    {
     "data": {
      "text/plain": [
       "25149355"
      ]
     },
     "execution_count": 45,
     "metadata": {},
     "output_type": "execute_result"
    }
   ],
   "source": [
    "len(df)"
   ]
  },
  {
   "cell_type": "code",
   "execution_count": 20,
   "metadata": {},
   "outputs": [],
   "source": [
    "# len(df.building_id.unique())\n",
    "# 1573 unique buildings before filtering bad buildings"
   ]
  },
  {
   "cell_type": "code",
   "execution_count": 21,
   "metadata": {},
   "outputs": [],
   "source": [
    "# len(df.building_id.unique())"
   ]
  },
  {
   "cell_type": "markdown",
   "metadata": {},
   "source": [
    "## Add features"
   ]
  },
  {
   "cell_type": "code",
   "execution_count": 22,
   "metadata": {},
   "outputs": [],
   "source": [
    "df['usage_lag1'] = df['electricity'].shift(1)\n",
    "df['usage_lag2'] = df['electricity'].shift(2)\n",
    "df['usage_lag3'] = df['electricity'].shift(3)"
   ]
  },
  {
   "cell_type": "code",
   "execution_count": 30,
   "metadata": {},
   "outputs": [],
   "source": [
    "df[\"hour\"] = df.timestamp.dt.hour\n",
    "df[\"weekday\"] = df.timestamp.dt.weekday\n",
    "df[\"month\"] = df.timestamp.dt.month\n",
    "df[\"year\"] = df.timestamp.dt.year \n",
    "df[\"weekday_hour\"] = df.weekday.astype(str) + \"-\" + df.hour.astype(str)"
   ]
  },
  {
   "cell_type": "code",
   "execution_count": 32,
   "metadata": {},
   "outputs": [],
   "source": [
    "df[\"ts\"] = (df.timestamp - pd.to_datetime(\"2016-01-01\")).dt.total_seconds() // 3600"
   ]
  },
  {
   "cell_type": "code",
   "execution_count": 36,
   "metadata": {},
   "outputs": [],
   "source": [
    "df[\"hour_x\"] = np.cos(2*np.pi*df.ts/24)\n",
    "df[\"hour_y\"] = np.sin(2*np.pi*df.ts/24)\n",
    "    \n",
    "df[\"month_x\"] = np.cos(2*np.pi*df.ts/(30.4*24))\n",
    "df[\"month_y\"] = np.sin(2*np.pi*df.ts/(30.4*24))\n",
    "    \n",
    "df[\"weekday_x\"] = np.cos(2*np.pi*df.ts/(7*24))\n",
    "df[\"weekday_y\"] = np.sin(2*np.pi*df.ts/(7*24))"
   ]
  },
  {
   "cell_type": "code",
   "execution_count": 23,
   "metadata": {},
   "outputs": [],
   "source": [
    "def add_time_features(df):\n",
    "    \"\"\"\n",
    "    Adapted from: https://github.com/buds-lab/ashrae-great-energy-predictor-3-solution-analysis/blob/master/solutions/rank-1/scripts/02_preprocess_data.py\n",
    "    \"\"\"\n",
    "    df.timestamp = pd.to_datetime(df.timestamp)\n",
    "    # time features\n",
    "    df[\"hour\"] = df.timestamp.dt.hour\n",
    "    df[\"weekday\"] = df.timestamp.dt.weekday\n",
    "    df[\"month\"] = df.timestamp.dt.month\n",
    "    df[\"year\"] = df.timestamp.dt.year    \n",
    "    \n",
    "    # time interactions\n",
    "    df[\"weekday_hour\"] = df.weekday.astype(str) + \"-\" + df.hour.astype(str)\n",
    "    \n",
    "    # apply cyclic encoding of periodic features\n",
    "    df[\"ts\"] = (df.timestamp - pd.to_datetime(\"2016-01-01\")).dt.total_seconds() // 3600\n",
    "    df[\"hour_x\"] = np.cos(2*np.pi*df.ts/24)\n",
    "    df[\"hour_y\"] = np.sin(2*np.pi*df.ts/24)\n",
    "    \n",
    "    df[\"month_x\"] = np.cos(2*np.pi*df.ts/(30.4*24))\n",
    "    df[\"month_y\"] = np.sin(2*np.pi*df.ts/(30.4*24))\n",
    "    \n",
    "    df[\"weekday_x\"] = np.cos(2*np.pi*df.ts/(7*24))\n",
    "    df[\"weekday_y\"] = np.sin(2*np.pi*df.ts/(7*24))"
   ]
  },
  {
   "cell_type": "code",
   "execution_count": 24,
   "metadata": {},
   "outputs": [],
   "source": [
    "# df_pd = df.compute()"
   ]
  },
  {
   "cell_type": "code",
   "execution_count": 38,
   "metadata": {},
   "outputs": [],
   "source": [
    "# add_time_features(df)"
   ]
  },
  {
   "cell_type": "markdown",
   "metadata": {},
   "source": [
    "## Store the data in Azure for use later"
   ]
  },
  {
   "cell_type": "code",
   "execution_count": 50,
   "metadata": {},
   "outputs": [],
   "source": [
    "file_system = \"energyhub\"\n",
    "directory = \"data_parq/norm\""
   ]
  },
  {
   "cell_type": "code",
   "execution_count": 46,
   "metadata": {},
   "outputs": [],
   "source": [
    "buildings = df.building_id.unique().compute()"
   ]
  },
  {
   "cell_type": "code",
   "execution_count": 48,
   "metadata": {},
   "outputs": [
    {
     "data": {
      "text/plain": [
       "0       Panther_parking_Alaina\n",
       "1    Panther_office_Clementine\n",
       "2        Panther_retail_Lester\n",
       "Name: building_id, dtype: category\n",
       "Categories (1636, object): ['Bear_assembly_Angel', 'Bear_assembly_Beatrice', 'Bear_assembly_Danial', 'Bear_assembly_Diana', ..., 'Peacock_lodging_Erica', 'Peacock_office_Ronda', 'Swan_unknown_Darrin', 'Swan_unknown_Yoshiko']"
      ]
     },
     "execution_count": 48,
     "metadata": {},
     "output_type": "execute_result"
    }
   ],
   "source": [
    "buildings[:3]"
   ]
  },
  {
   "cell_type": "code",
   "execution_count": 52,
   "metadata": {},
   "outputs": [
    {
     "ename": "RuntimeError",
     "evalue": "Schemas are inconsistent, try using `to_parquet(..., schema=\"infer\")`, or pass an explicit pyarrow schema. Such as `to_parquet(..., schema={\"column1\": pa.string()})`",
     "output_type": "error",
     "traceback": [
      "\u001b[1;31m---------------------------------------------------------------------------\u001b[0m",
      "\u001b[1;31mRuntimeError\u001b[0m                              Traceback (most recent call last)",
      "File \u001b[1;32mc:\\Users\\phuon\\Documents\\Projects\\project\\venv\\lib\\site-packages\\dask\\dataframe\\io\\parquet\\arrow.py:56\u001b[0m, in \u001b[0;36m_append_row_groups\u001b[1;34m(metadata, md)\u001b[0m\n\u001b[0;32m     <a href='file:///c%3A/Users/phuon/Documents/Projects/project/venv/lib/site-packages/dask/dataframe/io/parquet/arrow.py?line=54'>55</a>\u001b[0m \u001b[39mtry\u001b[39;00m:\n\u001b[1;32m---> <a href='file:///c%3A/Users/phuon/Documents/Projects/project/venv/lib/site-packages/dask/dataframe/io/parquet/arrow.py?line=55'>56</a>\u001b[0m     metadata\u001b[39m.\u001b[39;49mappend_row_groups(md)\n\u001b[0;32m     <a href='file:///c%3A/Users/phuon/Documents/Projects/project/venv/lib/site-packages/dask/dataframe/io/parquet/arrow.py?line=56'>57</a>\u001b[0m \u001b[39mexcept\u001b[39;00m \u001b[39mRuntimeError\u001b[39;00m \u001b[39mas\u001b[39;00m err:\n",
      "File \u001b[1;32mc:\\Users\\phuon\\Documents\\Projects\\project\\venv\\lib\\site-packages\\pyarrow\\_parquet.pyx:628\u001b[0m, in \u001b[0;36mpyarrow._parquet.FileMetaData.append_row_groups\u001b[1;34m()\u001b[0m\n",
      "\u001b[1;31mRuntimeError\u001b[0m: AppendRowGroups requires equal schemas.",
      "\nThe above exception was the direct cause of the following exception:\n",
      "\u001b[1;31mRuntimeError\u001b[0m                              Traceback (most recent call last)",
      "\u001b[1;32mc:\\Users\\phuon\\Documents\\Projects\\project\\normalization\\norm1.ipynb Cell 39'\u001b[0m in \u001b[0;36m<cell line: 1>\u001b[1;34m()\u001b[0m\n\u001b[0;32m      <a href='vscode-notebook-cell:/c%3A/Users/phuon/Documents/Projects/project/normalization/norm1.ipynb#ch0000029?line=1'>2</a>\u001b[0m building_df \u001b[39m=\u001b[39m df\u001b[39m.\u001b[39mloc[df\u001b[39m.\u001b[39mbuilding_id \u001b[39m==\u001b[39m building, :]\n\u001b[0;32m      <a href='vscode-notebook-cell:/c%3A/Users/phuon/Documents/Projects/project/normalization/norm1.ipynb#ch0000029?line=2'>3</a>\u001b[0m file_name \u001b[39m=\u001b[39m \u001b[39m\"\u001b[39m\u001b[39mnorm_\u001b[39m\u001b[39m\"\u001b[39m \u001b[39m+\u001b[39m building \u001b[39m+\u001b[39m \u001b[39m\"\u001b[39m\u001b[39m.parq\u001b[39m\u001b[39m\"\u001b[39m\n\u001b[1;32m----> <a href='vscode-notebook-cell:/c%3A/Users/phuon/Documents/Projects/project/normalization/norm1.ipynb#ch0000029?line=3'>4</a>\u001b[0m building_df\u001b[39m.\u001b[39;49mto_parquet(path \u001b[39m=\u001b[39;49m file_name, engine \u001b[39m=\u001b[39;49m \u001b[39m\"\u001b[39;49m\u001b[39mpyarrow\u001b[39;49m\u001b[39m\"\u001b[39;49m, compression \u001b[39m=\u001b[39;49m \u001b[39m\"\u001b[39;49m\u001b[39mgzip\u001b[39;49m\u001b[39m\"\u001b[39;49m, write_index \u001b[39m=\u001b[39;49m \u001b[39mFalse\u001b[39;49;00m)\n\u001b[0;32m      <a href='vscode-notebook-cell:/c%3A/Users/phuon/Documents/Projects/project/normalization/norm1.ipynb#ch0000029?line=4'>5</a>\u001b[0m storage\u001b[39m.\u001b[39mupload(file_system, directory \u001b[39m=\u001b[39m directory, file_name \u001b[39m=\u001b[39m file_name, file_path \u001b[39m=\u001b[39m file_name, overwrite\u001b[39m=\u001b[39m\u001b[39mTrue\u001b[39;00m)\n\u001b[0;32m      <a href='vscode-notebook-cell:/c%3A/Users/phuon/Documents/Projects/project/normalization/norm1.ipynb#ch0000029?line=5'>6</a>\u001b[0m os\u001b[39m.\u001b[39mremove(file_name)\n",
      "File \u001b[1;32mc:\\Users\\phuon\\Documents\\Projects\\project\\venv\\lib\\site-packages\\dask\\dataframe\\core.py:4900\u001b[0m, in \u001b[0;36mDataFrame.to_parquet\u001b[1;34m(self, path, *args, **kwargs)\u001b[0m\n\u001b[0;32m   <a href='file:///c%3A/Users/phuon/Documents/Projects/project/venv/lib/site-packages/dask/dataframe/core.py?line=4896'>4897</a>\u001b[0m \u001b[39m\"\"\"See dd.to_parquet docstring for more information\"\"\"\u001b[39;00m\n\u001b[0;32m   <a href='file:///c%3A/Users/phuon/Documents/Projects/project/venv/lib/site-packages/dask/dataframe/core.py?line=4897'>4898</a>\u001b[0m \u001b[39mfrom\u001b[39;00m \u001b[39mdask\u001b[39;00m\u001b[39m.\u001b[39;00m\u001b[39mdataframe\u001b[39;00m\u001b[39m.\u001b[39;00m\u001b[39mio\u001b[39;00m \u001b[39mimport\u001b[39;00m to_parquet\n\u001b[1;32m-> <a href='file:///c%3A/Users/phuon/Documents/Projects/project/venv/lib/site-packages/dask/dataframe/core.py?line=4899'>4900</a>\u001b[0m \u001b[39mreturn\u001b[39;00m to_parquet(\u001b[39mself\u001b[39m, path, \u001b[39m*\u001b[39margs, \u001b[39m*\u001b[39m\u001b[39m*\u001b[39mkwargs)\n",
      "File \u001b[1;32mc:\\Users\\phuon\\Documents\\Projects\\project\\venv\\lib\\site-packages\\dask\\dataframe\\io\\parquet\\core.py:833\u001b[0m, in \u001b[0;36mto_parquet\u001b[1;34m(df, path, engine, compression, write_index, append, overwrite, ignore_divisions, partition_on, storage_options, custom_metadata, write_metadata_file, compute, compute_kwargs, schema, name_function, **kwargs)\u001b[0m\n\u001b[0;32m    <a href='file:///c%3A/Users/phuon/Documents/Projects/project/venv/lib/site-packages/dask/dataframe/io/parquet/core.py?line=830'>831</a>\u001b[0m graph \u001b[39m=\u001b[39m HighLevelGraph\u001b[39m.\u001b[39mfrom_collections(meta_name, dsk, dependencies\u001b[39m=\u001b[39m(data_write,))\n\u001b[0;32m    <a href='file:///c%3A/Users/phuon/Documents/Projects/project/venv/lib/site-packages/dask/dataframe/io/parquet/core.py?line=831'>832</a>\u001b[0m \u001b[39mif\u001b[39;00m compute:\n\u001b[1;32m--> <a href='file:///c%3A/Users/phuon/Documents/Projects/project/venv/lib/site-packages/dask/dataframe/io/parquet/core.py?line=832'>833</a>\u001b[0m     \u001b[39mreturn\u001b[39;00m compute_as_if_collection(\n\u001b[0;32m    <a href='file:///c%3A/Users/phuon/Documents/Projects/project/venv/lib/site-packages/dask/dataframe/io/parquet/core.py?line=833'>834</a>\u001b[0m         Scalar, graph, [(meta_name, \u001b[39m0\u001b[39m)], \u001b[39m*\u001b[39m\u001b[39m*\u001b[39mcompute_kwargs\n\u001b[0;32m    <a href='file:///c%3A/Users/phuon/Documents/Projects/project/venv/lib/site-packages/dask/dataframe/io/parquet/core.py?line=834'>835</a>\u001b[0m     )\n\u001b[0;32m    <a href='file:///c%3A/Users/phuon/Documents/Projects/project/venv/lib/site-packages/dask/dataframe/io/parquet/core.py?line=835'>836</a>\u001b[0m \u001b[39melse\u001b[39;00m:\n\u001b[0;32m    <a href='file:///c%3A/Users/phuon/Documents/Projects/project/venv/lib/site-packages/dask/dataframe/io/parquet/core.py?line=836'>837</a>\u001b[0m     \u001b[39mreturn\u001b[39;00m Scalar(graph, meta_name, \u001b[39m\"\u001b[39m\u001b[39m\"\u001b[39m)\n",
      "File \u001b[1;32mc:\\Users\\phuon\\Documents\\Projects\\project\\venv\\lib\\site-packages\\dask\\base.py:319\u001b[0m, in \u001b[0;36mcompute_as_if_collection\u001b[1;34m(cls, dsk, keys, scheduler, get, **kwargs)\u001b[0m\n\u001b[0;32m    <a href='file:///c%3A/Users/phuon/Documents/Projects/project/venv/lib/site-packages/dask/base.py?line=316'>317</a>\u001b[0m schedule \u001b[39m=\u001b[39m get_scheduler(scheduler\u001b[39m=\u001b[39mscheduler, \u001b[39mcls\u001b[39m\u001b[39m=\u001b[39m\u001b[39mcls\u001b[39m, get\u001b[39m=\u001b[39mget)\n\u001b[0;32m    <a href='file:///c%3A/Users/phuon/Documents/Projects/project/venv/lib/site-packages/dask/base.py?line=317'>318</a>\u001b[0m dsk2 \u001b[39m=\u001b[39m optimization_function(\u001b[39mcls\u001b[39m)(dsk, keys, \u001b[39m*\u001b[39m\u001b[39m*\u001b[39mkwargs)\n\u001b[1;32m--> <a href='file:///c%3A/Users/phuon/Documents/Projects/project/venv/lib/site-packages/dask/base.py?line=318'>319</a>\u001b[0m \u001b[39mreturn\u001b[39;00m schedule(dsk2, keys, \u001b[39m*\u001b[39m\u001b[39m*\u001b[39mkwargs)\n",
      "File \u001b[1;32mc:\\Users\\phuon\\Documents\\Projects\\project\\venv\\lib\\site-packages\\dask\\threaded.py:81\u001b[0m, in \u001b[0;36mget\u001b[1;34m(dsk, result, cache, num_workers, pool, **kwargs)\u001b[0m\n\u001b[0;32m     <a href='file:///c%3A/Users/phuon/Documents/Projects/project/venv/lib/site-packages/dask/threaded.py?line=77'>78</a>\u001b[0m     \u001b[39melif\u001b[39;00m \u001b[39misinstance\u001b[39m(pool, multiprocessing\u001b[39m.\u001b[39mpool\u001b[39m.\u001b[39mPool):\n\u001b[0;32m     <a href='file:///c%3A/Users/phuon/Documents/Projects/project/venv/lib/site-packages/dask/threaded.py?line=78'>79</a>\u001b[0m         pool \u001b[39m=\u001b[39m MultiprocessingPoolExecutor(pool)\n\u001b[1;32m---> <a href='file:///c%3A/Users/phuon/Documents/Projects/project/venv/lib/site-packages/dask/threaded.py?line=80'>81</a>\u001b[0m results \u001b[39m=\u001b[39m get_async(\n\u001b[0;32m     <a href='file:///c%3A/Users/phuon/Documents/Projects/project/venv/lib/site-packages/dask/threaded.py?line=81'>82</a>\u001b[0m     pool\u001b[39m.\u001b[39msubmit,\n\u001b[0;32m     <a href='file:///c%3A/Users/phuon/Documents/Projects/project/venv/lib/site-packages/dask/threaded.py?line=82'>83</a>\u001b[0m     pool\u001b[39m.\u001b[39m_max_workers,\n\u001b[0;32m     <a href='file:///c%3A/Users/phuon/Documents/Projects/project/venv/lib/site-packages/dask/threaded.py?line=83'>84</a>\u001b[0m     dsk,\n\u001b[0;32m     <a href='file:///c%3A/Users/phuon/Documents/Projects/project/venv/lib/site-packages/dask/threaded.py?line=84'>85</a>\u001b[0m     result,\n\u001b[0;32m     <a href='file:///c%3A/Users/phuon/Documents/Projects/project/venv/lib/site-packages/dask/threaded.py?line=85'>86</a>\u001b[0m     cache\u001b[39m=\u001b[39mcache,\n\u001b[0;32m     <a href='file:///c%3A/Users/phuon/Documents/Projects/project/venv/lib/site-packages/dask/threaded.py?line=86'>87</a>\u001b[0m     get_id\u001b[39m=\u001b[39m_thread_get_id,\n\u001b[0;32m     <a href='file:///c%3A/Users/phuon/Documents/Projects/project/venv/lib/site-packages/dask/threaded.py?line=87'>88</a>\u001b[0m     pack_exception\u001b[39m=\u001b[39mpack_exception,\n\u001b[0;32m     <a href='file:///c%3A/Users/phuon/Documents/Projects/project/venv/lib/site-packages/dask/threaded.py?line=88'>89</a>\u001b[0m     \u001b[39m*\u001b[39m\u001b[39m*\u001b[39mkwargs,\n\u001b[0;32m     <a href='file:///c%3A/Users/phuon/Documents/Projects/project/venv/lib/site-packages/dask/threaded.py?line=89'>90</a>\u001b[0m )\n\u001b[0;32m     <a href='file:///c%3A/Users/phuon/Documents/Projects/project/venv/lib/site-packages/dask/threaded.py?line=91'>92</a>\u001b[0m \u001b[39m# Cleanup pools associated to dead threads\u001b[39;00m\n\u001b[0;32m     <a href='file:///c%3A/Users/phuon/Documents/Projects/project/venv/lib/site-packages/dask/threaded.py?line=92'>93</a>\u001b[0m \u001b[39mwith\u001b[39;00m pools_lock:\n",
      "File \u001b[1;32mc:\\Users\\phuon\\Documents\\Projects\\project\\venv\\lib\\site-packages\\dask\\local.py:508\u001b[0m, in \u001b[0;36mget_async\u001b[1;34m(submit, num_workers, dsk, result, cache, get_id, rerun_exceptions_locally, pack_exception, raise_exception, callbacks, dumps, loads, chunksize, **kwargs)\u001b[0m\n\u001b[0;32m    <a href='file:///c%3A/Users/phuon/Documents/Projects/project/venv/lib/site-packages/dask/local.py?line=505'>506</a>\u001b[0m         _execute_task(task, data)  \u001b[39m# Re-execute locally\u001b[39;00m\n\u001b[0;32m    <a href='file:///c%3A/Users/phuon/Documents/Projects/project/venv/lib/site-packages/dask/local.py?line=506'>507</a>\u001b[0m     \u001b[39melse\u001b[39;00m:\n\u001b[1;32m--> <a href='file:///c%3A/Users/phuon/Documents/Projects/project/venv/lib/site-packages/dask/local.py?line=507'>508</a>\u001b[0m         raise_exception(exc, tb)\n\u001b[0;32m    <a href='file:///c%3A/Users/phuon/Documents/Projects/project/venv/lib/site-packages/dask/local.py?line=508'>509</a>\u001b[0m res, worker_id \u001b[39m=\u001b[39m loads(res_info)\n\u001b[0;32m    <a href='file:///c%3A/Users/phuon/Documents/Projects/project/venv/lib/site-packages/dask/local.py?line=509'>510</a>\u001b[0m state[\u001b[39m\"\u001b[39m\u001b[39mcache\u001b[39m\u001b[39m\"\u001b[39m][key] \u001b[39m=\u001b[39m res\n",
      "File \u001b[1;32mc:\\Users\\phuon\\Documents\\Projects\\project\\venv\\lib\\site-packages\\dask\\local.py:316\u001b[0m, in \u001b[0;36mreraise\u001b[1;34m(exc, tb)\u001b[0m\n\u001b[0;32m    <a href='file:///c%3A/Users/phuon/Documents/Projects/project/venv/lib/site-packages/dask/local.py?line=313'>314</a>\u001b[0m \u001b[39mif\u001b[39;00m exc\u001b[39m.\u001b[39m__traceback__ \u001b[39mis\u001b[39;00m \u001b[39mnot\u001b[39;00m tb:\n\u001b[0;32m    <a href='file:///c%3A/Users/phuon/Documents/Projects/project/venv/lib/site-packages/dask/local.py?line=314'>315</a>\u001b[0m     \u001b[39mraise\u001b[39;00m exc\u001b[39m.\u001b[39mwith_traceback(tb)\n\u001b[1;32m--> <a href='file:///c%3A/Users/phuon/Documents/Projects/project/venv/lib/site-packages/dask/local.py?line=315'>316</a>\u001b[0m \u001b[39mraise\u001b[39;00m exc\n",
      "File \u001b[1;32mc:\\Users\\phuon\\Documents\\Projects\\project\\venv\\lib\\site-packages\\dask\\local.py:221\u001b[0m, in \u001b[0;36mexecute_task\u001b[1;34m(key, task_info, dumps, loads, get_id, pack_exception)\u001b[0m\n\u001b[0;32m    <a href='file:///c%3A/Users/phuon/Documents/Projects/project/venv/lib/site-packages/dask/local.py?line=218'>219</a>\u001b[0m \u001b[39mtry\u001b[39;00m:\n\u001b[0;32m    <a href='file:///c%3A/Users/phuon/Documents/Projects/project/venv/lib/site-packages/dask/local.py?line=219'>220</a>\u001b[0m     task, data \u001b[39m=\u001b[39m loads(task_info)\n\u001b[1;32m--> <a href='file:///c%3A/Users/phuon/Documents/Projects/project/venv/lib/site-packages/dask/local.py?line=220'>221</a>\u001b[0m     result \u001b[39m=\u001b[39m _execute_task(task, data)\n\u001b[0;32m    <a href='file:///c%3A/Users/phuon/Documents/Projects/project/venv/lib/site-packages/dask/local.py?line=221'>222</a>\u001b[0m     \u001b[39mid\u001b[39m \u001b[39m=\u001b[39m get_id()\n\u001b[0;32m    <a href='file:///c%3A/Users/phuon/Documents/Projects/project/venv/lib/site-packages/dask/local.py?line=222'>223</a>\u001b[0m     result \u001b[39m=\u001b[39m dumps((result, \u001b[39mid\u001b[39m))\n",
      "File \u001b[1;32mc:\\Users\\phuon\\Documents\\Projects\\project\\venv\\lib\\site-packages\\dask\\core.py:119\u001b[0m, in \u001b[0;36m_execute_task\u001b[1;34m(arg, cache, dsk)\u001b[0m\n\u001b[0;32m    <a href='file:///c%3A/Users/phuon/Documents/Projects/project/venv/lib/site-packages/dask/core.py?line=114'>115</a>\u001b[0m     func, args \u001b[39m=\u001b[39m arg[\u001b[39m0\u001b[39m], arg[\u001b[39m1\u001b[39m:]\n\u001b[0;32m    <a href='file:///c%3A/Users/phuon/Documents/Projects/project/venv/lib/site-packages/dask/core.py?line=115'>116</a>\u001b[0m     \u001b[39m# Note: Don't assign the subtask results to a variable. numpy detects\u001b[39;00m\n\u001b[0;32m    <a href='file:///c%3A/Users/phuon/Documents/Projects/project/venv/lib/site-packages/dask/core.py?line=116'>117</a>\u001b[0m     \u001b[39m# temporaries by their reference count and can execute certain\u001b[39;00m\n\u001b[0;32m    <a href='file:///c%3A/Users/phuon/Documents/Projects/project/venv/lib/site-packages/dask/core.py?line=117'>118</a>\u001b[0m     \u001b[39m# operations in-place.\u001b[39;00m\n\u001b[1;32m--> <a href='file:///c%3A/Users/phuon/Documents/Projects/project/venv/lib/site-packages/dask/core.py?line=118'>119</a>\u001b[0m     \u001b[39mreturn\u001b[39;00m func(\u001b[39m*\u001b[39;49m(_execute_task(a, cache) \u001b[39mfor\u001b[39;49;00m a \u001b[39min\u001b[39;49;00m args))\n\u001b[0;32m    <a href='file:///c%3A/Users/phuon/Documents/Projects/project/venv/lib/site-packages/dask/core.py?line=119'>120</a>\u001b[0m \u001b[39melif\u001b[39;00m \u001b[39mnot\u001b[39;00m ishashable(arg):\n\u001b[0;32m    <a href='file:///c%3A/Users/phuon/Documents/Projects/project/venv/lib/site-packages/dask/core.py?line=120'>121</a>\u001b[0m     \u001b[39mreturn\u001b[39;00m arg\n",
      "File \u001b[1;32mc:\\Users\\phuon\\Documents\\Projects\\project\\venv\\lib\\site-packages\\dask\\utils.py:39\u001b[0m, in \u001b[0;36mapply\u001b[1;34m(func, args, kwargs)\u001b[0m\n\u001b[0;32m     <a href='file:///c%3A/Users/phuon/Documents/Projects/project/venv/lib/site-packages/dask/utils.py?line=36'>37</a>\u001b[0m \u001b[39mdef\u001b[39;00m \u001b[39mapply\u001b[39m(func, args, kwargs\u001b[39m=\u001b[39m\u001b[39mNone\u001b[39;00m):\n\u001b[0;32m     <a href='file:///c%3A/Users/phuon/Documents/Projects/project/venv/lib/site-packages/dask/utils.py?line=37'>38</a>\u001b[0m     \u001b[39mif\u001b[39;00m kwargs:\n\u001b[1;32m---> <a href='file:///c%3A/Users/phuon/Documents/Projects/project/venv/lib/site-packages/dask/utils.py?line=38'>39</a>\u001b[0m         \u001b[39mreturn\u001b[39;00m func(\u001b[39m*\u001b[39margs, \u001b[39m*\u001b[39m\u001b[39m*\u001b[39mkwargs)\n\u001b[0;32m     <a href='file:///c%3A/Users/phuon/Documents/Projects/project/venv/lib/site-packages/dask/utils.py?line=39'>40</a>\u001b[0m     \u001b[39melse\u001b[39;00m:\n\u001b[0;32m     <a href='file:///c%3A/Users/phuon/Documents/Projects/project/venv/lib/site-packages/dask/utils.py?line=40'>41</a>\u001b[0m         \u001b[39mreturn\u001b[39;00m func(\u001b[39m*\u001b[39margs)\n",
      "File \u001b[1;32mc:\\Users\\phuon\\Documents\\Projects\\project\\venv\\lib\\site-packages\\dask\\dataframe\\io\\parquet\\arrow.py:783\u001b[0m, in \u001b[0;36mArrowDatasetEngine.write_metadata\u001b[1;34m(cls, parts, meta, fs, path, append, **kwargs)\u001b[0m\n\u001b[0;32m    <a href='file:///c%3A/Users/phuon/Documents/Projects/project/venv/lib/site-packages/dask/dataframe/io/parquet/arrow.py?line=780'>781</a>\u001b[0m     i_start \u001b[39m=\u001b[39m \u001b[39m1\u001b[39m\n\u001b[0;32m    <a href='file:///c%3A/Users/phuon/Documents/Projects/project/venv/lib/site-packages/dask/dataframe/io/parquet/arrow.py?line=781'>782</a>\u001b[0m \u001b[39mfor\u001b[39;00m i \u001b[39min\u001b[39;00m \u001b[39mrange\u001b[39m(i_start, \u001b[39mlen\u001b[39m(parts)):\n\u001b[1;32m--> <a href='file:///c%3A/Users/phuon/Documents/Projects/project/venv/lib/site-packages/dask/dataframe/io/parquet/arrow.py?line=782'>783</a>\u001b[0m     _append_row_groups(_meta, parts[i][\u001b[39m0\u001b[39;49m][\u001b[39m\"\u001b[39;49m\u001b[39mmeta\u001b[39;49m\u001b[39m\"\u001b[39;49m])\n\u001b[0;32m    <a href='file:///c%3A/Users/phuon/Documents/Projects/project/venv/lib/site-packages/dask/dataframe/io/parquet/arrow.py?line=783'>784</a>\u001b[0m \u001b[39mwith\u001b[39;00m fs\u001b[39m.\u001b[39mopen(metadata_path, \u001b[39m\"\u001b[39m\u001b[39mwb\u001b[39m\u001b[39m\"\u001b[39m) \u001b[39mas\u001b[39;00m fil:\n\u001b[0;32m    <a href='file:///c%3A/Users/phuon/Documents/Projects/project/venv/lib/site-packages/dask/dataframe/io/parquet/arrow.py?line=784'>785</a>\u001b[0m     _meta\u001b[39m.\u001b[39mwrite_metadata_file(fil)\n",
      "File \u001b[1;32mc:\\Users\\phuon\\Documents\\Projects\\project\\venv\\lib\\site-packages\\dask\\dataframe\\io\\parquet\\arrow.py:59\u001b[0m, in \u001b[0;36m_append_row_groups\u001b[1;34m(metadata, md)\u001b[0m\n\u001b[0;32m     <a href='file:///c%3A/Users/phuon/Documents/Projects/project/venv/lib/site-packages/dask/dataframe/io/parquet/arrow.py?line=56'>57</a>\u001b[0m \u001b[39mexcept\u001b[39;00m \u001b[39mRuntimeError\u001b[39;00m \u001b[39mas\u001b[39;00m err:\n\u001b[0;32m     <a href='file:///c%3A/Users/phuon/Documents/Projects/project/venv/lib/site-packages/dask/dataframe/io/parquet/arrow.py?line=57'>58</a>\u001b[0m     \u001b[39mif\u001b[39;00m \u001b[39m\"\u001b[39m\u001b[39mrequires equal schemas\u001b[39m\u001b[39m\"\u001b[39m \u001b[39min\u001b[39;00m \u001b[39mstr\u001b[39m(err):\n\u001b[1;32m---> <a href='file:///c%3A/Users/phuon/Documents/Projects/project/venv/lib/site-packages/dask/dataframe/io/parquet/arrow.py?line=58'>59</a>\u001b[0m         \u001b[39mraise\u001b[39;00m \u001b[39mRuntimeError\u001b[39;00m(\n\u001b[0;32m     <a href='file:///c%3A/Users/phuon/Documents/Projects/project/venv/lib/site-packages/dask/dataframe/io/parquet/arrow.py?line=59'>60</a>\u001b[0m             \u001b[39m\"\u001b[39m\u001b[39mSchemas are inconsistent, try using \u001b[39m\u001b[39m\"\u001b[39m\n\u001b[0;32m     <a href='file:///c%3A/Users/phuon/Documents/Projects/project/venv/lib/site-packages/dask/dataframe/io/parquet/arrow.py?line=60'>61</a>\u001b[0m             \u001b[39m'\u001b[39m\u001b[39m`to_parquet(..., schema=\u001b[39m\u001b[39m\"\u001b[39m\u001b[39minfer\u001b[39m\u001b[39m\"\u001b[39m\u001b[39m)`, or pass an explicit \u001b[39m\u001b[39m'\u001b[39m\n\u001b[0;32m     <a href='file:///c%3A/Users/phuon/Documents/Projects/project/venv/lib/site-packages/dask/dataframe/io/parquet/arrow.py?line=61'>62</a>\u001b[0m             \u001b[39m\"\u001b[39m\u001b[39mpyarrow schema. Such as \u001b[39m\u001b[39m\"\u001b[39m\n\u001b[0;32m     <a href='file:///c%3A/Users/phuon/Documents/Projects/project/venv/lib/site-packages/dask/dataframe/io/parquet/arrow.py?line=62'>63</a>\u001b[0m             \u001b[39m'\u001b[39m\u001b[39m`to_parquet(..., schema=\u001b[39m\u001b[39m{\u001b[39m\u001b[39m\"\u001b[39m\u001b[39mcolumn1\u001b[39m\u001b[39m\"\u001b[39m\u001b[39m: pa.string()})`\u001b[39m\u001b[39m'\u001b[39m\n\u001b[0;32m     <a href='file:///c%3A/Users/phuon/Documents/Projects/project/venv/lib/site-packages/dask/dataframe/io/parquet/arrow.py?line=63'>64</a>\u001b[0m         ) \u001b[39mfrom\u001b[39;00m \u001b[39merr\u001b[39;00m\n\u001b[0;32m     <a href='file:///c%3A/Users/phuon/Documents/Projects/project/venv/lib/site-packages/dask/dataframe/io/parquet/arrow.py?line=64'>65</a>\u001b[0m     \u001b[39melse\u001b[39;00m:\n\u001b[0;32m     <a href='file:///c%3A/Users/phuon/Documents/Projects/project/venv/lib/site-packages/dask/dataframe/io/parquet/arrow.py?line=65'>66</a>\u001b[0m         \u001b[39mraise\u001b[39;00m err\n",
      "\u001b[1;31mRuntimeError\u001b[0m: Schemas are inconsistent, try using `to_parquet(..., schema=\"infer\")`, or pass an explicit pyarrow schema. Such as `to_parquet(..., schema={\"column1\": pa.string()})`"
     ]
    }
   ],
   "source": [
    "for building in buildings:\n",
    "    building_df = df.loc[df.building_id == building, :]\n",
    "    file_name = \"norm_\" + building + \".parq\"\n",
    "    building_df.to_parquet(path = file_name, engine = \"pyarrow\", compression = \"gzip\", write_index = False)\n",
    "    storage.upload(file_system, directory = directory, file_name = file_name, file_path = file_name, overwrite=True)\n",
    "    os.remove(file_name)"
   ]
  }
 ],
 "metadata": {
  "interpreter": {
   "hash": "a6f32d01d5b22f0f036211ddd2212f9d7a468214a2e2c6ab6e23af4ae0eada46"
  },
  "kernelspec": {
   "display_name": "Python 3.9.0 ('venv': venv)",
   "language": "python",
   "name": "python3"
  },
  "language_info": {
   "codemirror_mode": {
    "name": "ipython",
    "version": 3
   },
   "file_extension": ".py",
   "mimetype": "text/x-python",
   "name": "python",
   "nbconvert_exporter": "python",
   "pygments_lexer": "ipython3",
   "version": "3.9.0"
  },
  "orig_nbformat": 4
 },
 "nbformat": 4,
 "nbformat_minor": 2
}
