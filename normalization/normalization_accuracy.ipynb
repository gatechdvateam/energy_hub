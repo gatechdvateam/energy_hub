{
 "cells": [
  {
   "cell_type": "code",
   "execution_count": 1,
   "metadata": {},
   "outputs": [
    {
     "name": "stderr",
     "output_type": "stream",
     "text": [
      "c:\\Users\\nmert\\OneDrive\\Data Science\\OMSA\\HW & Projects\\omsa_dva_project\\.venv\\lib\\site-packages\\numpy\\_distributor_init.py:30: UserWarning: loaded more than 1 DLL from .libs:\n",
      "c:\\Users\\nmert\\OneDrive\\Data Science\\OMSA\\HW & Projects\\omsa_dva_project\\.venv\\lib\\site-packages\\numpy\\.libs\\libopenblas.EL2C6PLE4ZYW3ECEVIV3OXXGRN2NRFM2.gfortran-win_amd64.dll\n",
      "c:\\Users\\nmert\\OneDrive\\Data Science\\OMSA\\HW & Projects\\omsa_dva_project\\.venv\\lib\\site-packages\\numpy\\.libs\\libopenblas.XWYDX2IKJW2NMTWSFYNGFUWKQU3LYTCZ.gfortran-win_amd64.dll\n",
      "  warnings.warn(\"loaded more than 1 DLL from .libs:\"\n"
     ]
    }
   ],
   "source": [
    "import sys\n",
    "sys.path.append(\"..\")\n",
    "from webapp.utils.azure_utils import KeyVault, DataLake\n",
    "import pandas as pd\n",
    "from sklearn.preprocessing import StandardScaler\n",
    "import numpy as np\n",
    "from matplotlib import pyplot as plt"
   ]
  },
  {
   "cell_type": "code",
   "execution_count": 2,
   "metadata": {},
   "outputs": [],
   "source": [
    "# Connect to Storage Account:\n",
    "vault = KeyVault(keyVaultName = \"keyvaultdva2022\")\n",
    "storage_credential = vault.get_secret(secretName = \"storagePrimaryKey\")\n",
    "storage = DataLake(account_name = \"storageaccountdva\", credential = storage_credential)\n",
    "file_system = \"energyhub\""
   ]
  },
  {
   "cell_type": "code",
   "execution_count": 3,
   "metadata": {},
   "outputs": [],
   "source": [
    "files = storage.list_directory_contents(file_system, directory = \"PartitionedParqs/norm_output\")"
   ]
  },
  {
   "cell_type": "code",
   "execution_count": 4,
   "metadata": {},
   "outputs": [],
   "source": [
    "dfs = []\n",
    "\n",
    "for file in files:\n",
    "    df = storage.pandas_read(file_system, directory=\"/\", file_name=file)\n",
    "    dfs.append(df)\n",
    "\n",
    "df = pd.concat(dfs)"
   ]
  },
  {
   "cell_type": "code",
   "execution_count": 18,
   "metadata": {},
   "outputs": [],
   "source": [
    "bad_buildings = storage.pandas_read(file_system, directory=\"bad_buildings\", file_name=\"bad_buildings.csv\")"
   ]
  },
  {
   "cell_type": "code",
   "execution_count": 19,
   "metadata": {},
   "outputs": [],
   "source": [
    "df = df[~df.building.isin(bad_buildings[\"building_id\"])]"
   ]
  },
  {
   "cell_type": "code",
   "execution_count": 20,
   "metadata": {},
   "outputs": [],
   "source": [
    "buildings = df.building.unique()"
   ]
  },
  {
   "cell_type": "code",
   "execution_count": 21,
   "metadata": {},
   "outputs": [
    {
     "data": {
      "text/html": [
       "<div>\n",
       "<style scoped>\n",
       "    .dataframe tbody tr th:only-of-type {\n",
       "        vertical-align: middle;\n",
       "    }\n",
       "\n",
       "    .dataframe tbody tr th {\n",
       "        vertical-align: top;\n",
       "    }\n",
       "\n",
       "    .dataframe thead th {\n",
       "        text-align: right;\n",
       "    }\n",
       "</style>\n",
       "<table border=\"1\" class=\"dataframe\">\n",
       "  <thead>\n",
       "    <tr style=\"text-align: right;\">\n",
       "      <th></th>\n",
       "      <th>timestamp</th>\n",
       "      <th>y_trues</th>\n",
       "      <th>y_preds</th>\n",
       "      <th>y_norms</th>\n",
       "      <th>building</th>\n",
       "      <th>R2</th>\n",
       "    </tr>\n",
       "  </thead>\n",
       "  <tbody>\n",
       "    <tr>\n",
       "      <th>0</th>\n",
       "      <td>2016-01-01 03:00:00</td>\n",
       "      <td>221.400</td>\n",
       "      <td>0.000000</td>\n",
       "      <td>0.000000</td>\n",
       "      <td>Bear_assembly_Angel</td>\n",
       "      <td>0.87</td>\n",
       "    </tr>\n",
       "    <tr>\n",
       "      <th>1</th>\n",
       "      <td>2016-01-01 04:00:00</td>\n",
       "      <td>224.250</td>\n",
       "      <td>4.428000</td>\n",
       "      <td>4.428000</td>\n",
       "      <td>Bear_assembly_Angel</td>\n",
       "      <td>0.87</td>\n",
       "    </tr>\n",
       "    <tr>\n",
       "      <th>2</th>\n",
       "      <td>2016-01-01 05:00:00</td>\n",
       "      <td>241.262</td>\n",
       "      <td>12.621352</td>\n",
       "      <td>18.508063</td>\n",
       "      <td>Bear_assembly_Angel</td>\n",
       "      <td>0.87</td>\n",
       "    </tr>\n",
       "    <tr>\n",
       "      <th>3</th>\n",
       "      <td>2016-01-01 06:00:00</td>\n",
       "      <td>261.300</td>\n",
       "      <td>45.501868</td>\n",
       "      <td>44.368699</td>\n",
       "      <td>Bear_assembly_Angel</td>\n",
       "      <td>0.87</td>\n",
       "    </tr>\n",
       "    <tr>\n",
       "      <th>4</th>\n",
       "      <td>2016-01-01 07:00:00</td>\n",
       "      <td>481.450</td>\n",
       "      <td>77.053465</td>\n",
       "      <td>72.990307</td>\n",
       "      <td>Bear_assembly_Angel</td>\n",
       "      <td>0.87</td>\n",
       "    </tr>\n",
       "  </tbody>\n",
       "</table>\n",
       "</div>"
      ],
      "text/plain": [
       "            timestamp  y_trues    y_preds    y_norms             building  \\\n",
       "0 2016-01-01 03:00:00  221.400   0.000000   0.000000  Bear_assembly_Angel   \n",
       "1 2016-01-01 04:00:00  224.250   4.428000   4.428000  Bear_assembly_Angel   \n",
       "2 2016-01-01 05:00:00  241.262  12.621352  18.508063  Bear_assembly_Angel   \n",
       "3 2016-01-01 06:00:00  261.300  45.501868  44.368699  Bear_assembly_Angel   \n",
       "4 2016-01-01 07:00:00  481.450  77.053465  72.990307  Bear_assembly_Angel   \n",
       "\n",
       "     R2  \n",
       "0  0.87  \n",
       "1  0.87  \n",
       "2  0.87  \n",
       "3  0.87  \n",
       "4  0.87  "
      ]
     },
     "execution_count": 21,
     "metadata": {},
     "output_type": "execute_result"
    }
   ],
   "source": [
    "df.head()"
   ]
  },
  {
   "cell_type": "code",
   "execution_count": 23,
   "metadata": {},
   "outputs": [],
   "source": [
    "results = {}\n",
    "for building_id in buildings:\n",
    "    building = df[df.building == building_id]\n",
    "    scaler = StandardScaler()\n",
    "    val = scaler.fit_transform(building[[\"y_trues\", \"y_preds\"]])\n",
    "    rmse = np.mean((val[:, 0] - val[:, 1])**2)\n",
    "\n",
    "    results[building_id] = rmse"
   ]
  },
  {
   "cell_type": "code",
   "execution_count": 24,
   "metadata": {},
   "outputs": [
    {
     "data": {
      "text/plain": [
       "0.13898416141908168"
      ]
     },
     "execution_count": 24,
     "metadata": {},
     "output_type": "execute_result"
    }
   ],
   "source": [
    "np.mean(list(results.values()))"
   ]
  },
  {
   "cell_type": "code",
   "execution_count": 41,
   "metadata": {},
   "outputs": [
    {
     "data": {
      "image/png": "[encoded data removed]",
      "text/plain": [
       "<Figure size 1440x720 with 1 Axes>"
      ]
     },
     "metadata": {
      "needs_background": "light"
     },
     "output_type": "display_data"
    }
   ],
   "source": [
    "fig, ax = plt.subplots(figsize = (20,10))\n",
    "ax.hist(list(results.values()), bins = 20)\n",
    "ax.set_title(\"Mean RMSE Standard Scale Electricity Weather Normalization (kW)\", fontsize = 16) \n",
    "plt.show()"
   ]
  }
 ],
 "metadata": {
  "interpreter": {
   "hash": "a36958482b636de30c6f22e27dd07f9205d77a571c040a53f5dd2b190cea407e"
  },
  "kernelspec": {
   "display_name": "Python 3.8.8 ('.venv': venv)",
   "language": "python",
   "name": "python3"
  },
  "language_info": {
   "codemirror_mode": {
    "name": "ipython",
    "version": 3
   },
   "file_extension": ".py",
   "mimetype": "text/x-python",
   "name": "python",
   "nbconvert_exporter": "python",
   "pygments_lexer": "ipython3",
   "version": "3.8.8"
  },
  "orig_nbformat": 4
 },
 "nbformat": 4,
 "nbformat_minor": 2
}
