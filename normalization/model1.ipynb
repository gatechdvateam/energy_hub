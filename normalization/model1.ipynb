{
   "cells": [
      {
         "cell_type": "code",
         "execution_count": 1,
         "metadata": {},
         "outputs": [],
         "source": [
            "import sys\n",
            "sys.path.append(\"..\")\n",
            "from webapp.utils.azure_utils import KeyVault, DataLake\n",
            "from webapp.utils.data_pre_utils import df_val_map\n",
            "import numpy as np\n",
            "import pandas as pd"
         ]
      },
      {
         "cell_type": "code",
         "execution_count": 2,
         "metadata": {},
         "outputs": [],
         "source": [
            "# Connect to Storage Account\n",
            "vault = KeyVault(keyVaultName = \"keyvaultdva2022\")\n",
            "storage_credential = vault.get_secret(secretName = \"storagePrimaryKey\")\n",
            "storage = DataLake(account_name = \"storageaccountdva\", credential = storage_credential)"
         ]
      },
      {
         "cell_type": "code",
         "execution_count": 3,
         "metadata": {},
         "outputs": [],
         "source": [
            "file_system = \"energyhub\"\n",
            "directory_raw = \"/data_original/meters/cleaned\"\n",
            "directory_clean = \"/data/meters\""
         ]
      },
      {
         "cell_type": "code",
         "execution_count": 7,
         "metadata": {},
         "outputs": [
            {
               "name": "stdout",
               "output_type": "stream",
               "text": [
                  "chilledwater.csv write complete\n",
                  "electricity.csv write complete\n",
                  "gas.csv write complete\n",
                  "hotwater.csv write complete\n",
                  "irrigation.csv write complete\n",
                  "solar.csv write complete\n",
                  "steam.csv write complete\n",
                  "water.csv write complete\n"
               ]
            }
         ],
         "source": [
            "df = storage.read(file_system, directory_raw, file_name=name)\n",
            "\n",
            "\n",
            "    "
         ]
      }
   ],
   "metadata": {
      "interpreter": {
         "hash": "a6f32d01d5b22f0f036211ddd2212f9d7a468214a2e2c6ab6e23af4ae0eada46"
      },
      "kernelspec": {
         "display_name": "Python 3.9.0 ('venv': venv)",
         "language": "python",
         "name": "python3"
      },
      "language_info": {
         "codemirror_mode": {
            "name": "ipython",
            "version": 3
         },
         "file_extension": ".py",
         "mimetype": "text/x-python",
         "name": "python",
         "nbconvert_exporter": "python",
         "pygments_lexer": "ipython3",
         "version": "3.9.0"
      },
      "orig_nbformat": 4
   },
   "nbformat": 4,
   "nbformat_minor": 2
}
